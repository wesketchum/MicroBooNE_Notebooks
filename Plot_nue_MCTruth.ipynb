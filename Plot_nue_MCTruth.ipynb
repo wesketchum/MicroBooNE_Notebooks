{
 "cells": [
  {
   "cell_type": "code",
   "execution_count": 1,
   "metadata": {},
   "outputs": [
    {
     "name": "stdout",
     "output_type": "stream",
     "text": [
      "Welcome to JupyROOT 6.12/04\n"
     ]
    }
   ],
   "source": [
    "import ROOT\n",
    "ROOT.gStyle.SetOptStat(0)\n",
    "ROOT.enableJSVis()"
   ]
  },
  {
   "cell_type": "code",
   "execution_count": 2,
   "metadata": {},
   "outputs": [],
   "source": [
    "%%cpp -d\n",
    "#include \"common/My_ROOT_Utilities.h\""
   ]
  },
  {
   "cell_type": "code",
   "execution_count": 3,
   "metadata": {},
   "outputs": [],
   "source": [
    "f_in = ROOT.TFile(\"/uboone/data/users/wketchum/nue_mctruth_output_pke20.root\",\"READ\")\n",
    "ana = f_in.Get(\"ana\")"
   ]
  },
  {
   "cell_type": "code",
   "execution_count": 4,
   "metadata": {},
   "outputs": [],
   "source": [
    "NBINS = 35\n",
    "BINLOWEDGE=0.0\n",
    "BINHIGHEDGE=3.5"
   ]
  },
  {
   "cell_type": "code",
   "execution_count": 5,
   "metadata": {},
   "outputs": [],
   "source": [
    "h_nue = ROOT.TH1F(\"h_nue\",\"Neutrino Energy Distribution;E_{#nu};Events / 100 MeV\",NBINS,BINLOWEDGE,BINHIGHEDGE);\n",
    "h_nue_cc = ROOT.TH1F(\"h_nue_cc\",\"Neutrino Energy Distribution;E_{#nu};Events / 100 MeV\",NBINS,BINLOWEDGE,BINHIGHEDGE);\n",
    "h_nue_nc = ROOT.TH1F(\"h_nue_nc\",\"Neutrino Energy Distribution;E_{#nu};Events / 100 MeV\",NBINS,BINLOWEDGE,BINHIGHEDGE);"
   ]
  },
  {
   "cell_type": "code",
   "execution_count": 6,
   "metadata": {},
   "outputs": [],
   "source": [
    "ana.Project(\"h_nue\",\"nu_energy\",\"1\");\n",
    "ana.Project(\"h_nue_cc\",\"nu_energy\",\"ccnc==0\");\n",
    "ana.Project(\"h_nue_nc\",\"nu_energy\",\"ccnc==1\");"
   ]
  },
  {
   "cell_type": "code",
   "execution_count": 7,
   "metadata": {},
   "outputs": [],
   "source": [
    "h_nue_cc.SetLineColor(ROOT.kBlack)\n",
    "h_nue_cc.SetFillColor(ROOT.kRed)\n",
    "h_nue_nc.SetLineColor(ROOT.kBlack)\n",
    "h_nue_nc.SetFillColor(ROOT.kYellow)\n",
    "  \n",
    "ROOT.ShowUnderOverFlow(h_nue)\n",
    "ROOT.ShowUnderOverFlow(h_nue_cc)\n",
    "ROOT.ShowUnderOverFlow(h_nue_nc)"
   ]
  },
  {
   "cell_type": "code",
   "execution_count": 8,
   "metadata": {},
   "outputs": [],
   "source": [
    "h_nue_st0 = ROOT.THStack(\"h_nue_st0\",\"Neutrino Energy Distribution;E_{#nu};Events / 100 MeV\")\n",
    "h_nue_st0.Add(h_nue_cc)\n",
    "h_nue_st0.Add(h_nue_nc)"
   ]
  },
  {
   "cell_type": "code",
   "execution_count": 9,
   "metadata": {
    "scrolled": false
   },
   "outputs": [
    {
     "data": {
      "text/html": [
       "\n",
       "<div id=\"root_plot_1\"\n",
       "     style=\"width: 696px; height: 472px\">\n",
       "</div>\n",
       "\n",
       "<script>\n",
       " requirejs.config({\n",
       "     paths: {\n",
       "       'JSRootCore' : 'https://root.cern.ch/js/notebook//scripts/JSRootCore',\n",
       "     }\n",
       "   });\n",
       " require(['JSRootCore'],\n",
       "     function(Core) {\n",
       "       var obj = Core.JSONR_unref({\"_typename\":\"TCanvas\",\"fUniqueID\":0,\"fBits\":53673992,\"fLineColor\":1,\"fLineStyle\":1,\"fLineWidth\":1,\"fFillColor\":0,\"fFillStyle\":1001,\"fLeftMargin\":0.1,\"fRightMargin\":0.1,\"fBottomMargin\":0.1,\"fTopMargin\":0.1,\"fXfile\":2,\"fYfile\":2,\"fAfile\":1,\"fXstat\":0.99,\"fYstat\":0.99,\"fAstat\":2,\"fFrameFillColor\":0,\"fFrameLineColor\":1,\"fFrameFillStyle\":1001,\"fFrameLineStyle\":1,\"fFrameLineWidth\":1,\"fFrameBorderSize\":1,\"fFrameBorderMode\":0,\"fX1\":-0.437500032596292,\"fY1\":-209.737515626662,\"fX2\":3.93750003259629,\"fY2\":1887.63751562666,\"fXtoAbsPixelk\":69.6000541484835,\"fXtoPixelk\":69.6000541484835,\"fXtoPixel\":159.085711915152,\"fYtoAbsPixelk\":424.800047186661,\"fYtoPixelk\":424.800047186661,\"fYtoPixel\":-0.225043205419466,\"fUtoAbsPixelk\":5e-5,\"fUtoPixelk\":5e-5,\"fUtoPixel\":696,\"fVtoAbsPixelk\":472.00005,\"fVtoPixelk\":472,\"fVtoPixel\":-472,\"fAbsPixeltoXk\":-0.437500032596292,\"fPixeltoXk\":-0.437500032596292,\"fPixeltoX\":0.00628591963389739,\"fAbsPixeltoYk\":1887.63751562666,\"fPixeltoYk\":-209.737515626662,\"fPixeltoY\":-4.44359116790959,\"fXlowNDC\":0,\"fYlowNDC\":0,\"fXUpNDC\":0,\"fYUpNDC\":0,\"fWNDC\":1,\"fHNDC\":1,\"fAbsXlowNDC\":0,\"fAbsYlowNDC\":0,\"fAbsWNDC\":1,\"fAbsHNDC\":1,\"fUxmin\":0,\"fUymin\":0,\"fUxmax\":3.5,\"fUymax\":1677.9,\"fTheta\":30,\"fPhi\":30,\"fAspectRatio\":0,\"fNumber\":0,\"fTickx\":0,\"fTicky\":0,\"fLogx\":0,\"fLogy\":0,\"fLogz\":0,\"fPadPaint\":0,\"fCrosshair\":0,\"fCrosshairPos\":0,\"fBorderSize\":2,\"fBorderMode\":0,\"fModified\":false,\"fGridx\":false,\"fGridy\":false,\"fAbsCoord\":false,\"fEditable\":true,\"fFixedAspectRatio\":false,\"fPrimitives\":{\"_typename\":\"TList\",\"name\":\"TList\",\"arr\":[{\"_typename\":\"TFrame\",\"fUniqueID\":0,\"fBits\":50331656,\"fLineColor\":1,\"fLineStyle\":1,\"fLineWidth\":1,\"fFillColor\":0,\"fFillStyle\":1001,\"fX1\":0,\"fY1\":0,\"fX2\":3.5,\"fY2\":1677.9,\"fBorderSize\":1,\"fBorderMode\":0},{\"_typename\":\"THStack\",\"fUniqueID\":0,\"fBits\":50331656,\"fName\":\"h_nue_st0\",\"fTitle\":\"Neutrino Energy Distribution;E_{#nu};Events \\/ 100 MeV\",\"fHists\":{\"_typename\":\"TList\",\"name\":\"TList\",\"arr\":[{\"_typename\":\"TH1F\",\"fUniqueID\":0,\"fBits\":50332168,\"fName\":\"h_nue_cc\",\"fTitle\":\"Neutrino Energy Distribution\",\"fLineColor\":1,\"fLineStyle\":1,\"fLineWidth\":1,\"fFillColor\":632,\"fFillStyle\":1001,\"fMarkerColor\":1,\"fMarkerStyle\":1,\"fMarkerSize\":1,\"fNcells\":37,\"fXaxis\":{\"_typename\":\"TAxis\",\"fUniqueID\":0,\"fBits\":50331648,\"fName\":\"xaxis\",\"fTitle\":\"E_{#nu}\",\"fNdivisions\":510,\"fAxisColor\":1,\"fLabelColor\":1,\"fLabelFont\":42,\"fLabelOffset\":0.005,\"fLabelSize\":0.035,\"fTickLength\":0.03,\"fTitleOffset\":1,\"fTitleSize\":0.035,\"fTitleColor\":1,\"fTitleFont\":42,\"fNbins\":35,\"fXmin\":0,\"fXmax\":3.5,\"fXbins\":[],\"fFirst\":0,\"fLast\":0,\"fBits2\":0,\"fTimeDisplay\":false,\"fTimeFormat\":\"\",\"fLabels\":null,\"fModLabs\":null},\"fYaxis\":{\"_typename\":\"TAxis\",\"fUniqueID\":0,\"fBits\":50331648,\"fName\":\"yaxis\",\"fTitle\":\"Events \\/ 100 MeV\",\"fNdivisions\":510,\"fAxisColor\":1,\"fLabelColor\":1,\"fLabelFont\":42,\"fLabelOffset\":0.005,\"fLabelSize\":0.035,\"fTickLength\":0.03,\"fTitleOffset\":0,\"fTitleSize\":0.035,\"fTitleColor\":1,\"fTitleFont\":42,\"fNbins\":1,\"fXmin\":0,\"fXmax\":1,\"fXbins\":[],\"fFirst\":0,\"fLast\":0,\"fBits2\":0,\"fTimeDisplay\":false,\"fTimeFormat\":\"\",\"fLabels\":null,\"fModLabs\":null},\"fZaxis\":{\"_typename\":\"TAxis\",\"fUniqueID\":0,\"fBits\":50331648,\"fName\":\"zaxis\",\"fTitle\":\"\",\"fNdivisions\":510,\"fAxisColor\":1,\"fLabelColor\":1,\"fLabelFont\":42,\"fLabelOffset\":0.005,\"fLabelSize\":0.035,\"fTickLength\":0.03,\"fTitleOffset\":1,\"fTitleSize\":0.035,\"fTitleColor\":1,\"fTitleFont\":42,\"fNbins\":1,\"fXmin\":0,\"fXmax\":1,\"fXbins\":[],\"fFirst\":0,\"fLast\":0,\"fBits2\":0,\"fTimeDisplay\":false,\"fTimeFormat\":\"\",\"fLabels\":null,\"fModLabs\":null},\"fBarOffset\":0,\"fBarWidth\":1000,\"fEntries\":19233,\"fTsumw\":0,\"fTsumw2\":18749,\"fTsumwx\":24755.4379457757,\"fTsumwx2\":42840.8079001239,\"fMaximum\":-1111,\"fMinimum\":0,\"fNormFactor\":0,\"fContour\":[],\"fSumw2\":[],\"fOption\":\"\",\"fFunctions\":{\"_typename\":\"TList\",\"name\":\"TList\",\"arr\":[],\"opt\":[]},\"fBufferSize\":0,\"fBuffer\":[],\"fBinStatErrOpt\":0,\"fArray\":[0,7,105,379,647,882,1046,1070,1117,1240,1086,1048,1015,961,853,823,740,685,550,532,447,485,413,364,345,300,272,245,226,176,120,125,112,127,117,569,0]},{\"_typename\":\"TH1F\",\"fUniqueID\":0,\"fBits\":50332168,\"fName\":\"h_nue_nc\",\"fTitle\":\"Neutrino Energy Distribution\",\"fLineColor\":1,\"fLineStyle\":1,\"fLineWidth\":1,\"fFillColor\":400,\"fFillStyle\":1001,\"fMarkerColor\":1,\"fMarkerStyle\":1,\"fMarkerSize\":1,\"fNcells\":37,\"fXaxis\":{\"_typename\":\"TAxis\",\"fUniqueID\":0,\"fBits\":50331648,\"fName\":\"xaxis\",\"fTitle\":\"E_{#nu}\",\"fNdivisions\":510,\"fAxisColor\":1,\"fLabelColor\":1,\"fLabelFont\":42,\"fLabelOffset\":0.005,\"fLabelSize\":0.035,\"fTickLength\":0.03,\"fTitleOffset\":1,\"fTitleSize\":0.035,\"fTitleColor\":1,\"fTitleFont\":42,\"fNbins\":35,\"fXmin\":0,\"fXmax\":3.5,\"fXbins\":[],\"fFirst\":0,\"fLast\":0,\"fBits2\":0,\"fTimeDisplay\":false,\"fTimeFormat\":\"\",\"fLabels\":null,\"fModLabs\":null},\"fYaxis\":{\"_typename\":\"TAxis\",\"fUniqueID\":0,\"fBits\":50331648,\"fName\":\"yaxis\",\"fTitle\":\"Events \\/ 100 MeV\",\"fNdivisions\":510,\"fAxisColor\":1,\"fLabelColor\":1,\"fLabelFont\":42,\"fLabelOffset\":0.005,\"fLabelSize\":0.035,\"fTickLength\":0.03,\"fTitleOffset\":0,\"fTitleSize\":0.035,\"fTitleColor\":1,\"fTitleFont\":42,\"fNbins\":1,\"fXmin\":0,\"fXmax\":1,\"fXbins\":[],\"fFirst\":0,\"fLast\":0,\"fBits2\":0,\"fTimeDisplay\":false,\"fTimeFormat\":\"\",\"fLabels\":null,\"fModLabs\":null},\"fZaxis\":{\"_typename\":\"TAxis\",\"fUniqueID\":0,\"fBits\":50331648,\"fName\":\"zaxis\",\"fTitle\":\"\",\"fNdivisions\":510,\"fAxisColor\":1,\"fLabelColor\":1,\"fLabelFont\":42,\"fLabelOffset\":0.005,\"fLabelSize\":0.035,\"fTickLength\":0.03,\"fTitleOffset\":1,\"fTitleSize\":0.035,\"fTitleColor\":1,\"fTitleFont\":42,\"fNbins\":1,\"fXmin\":0,\"fXmax\":1,\"fXbins\":[],\"fFirst\":0,\"fLast\":0,\"fBits2\":0,\"fTimeDisplay\":false,\"fTimeFormat\":\"\",\"fLabels\":null,\"fModLabs\":null},\"fBarOffset\":0,\"fBarWidth\":1000,\"fEntries\":5775,\"fTsumw\":0,\"fTsumw2\":5615,\"fTsumwx\":7448.37964821607,\"fTsumwx2\":13089.8164137772,\"fMaximum\":-1111,\"fMinimum\":0,\"fNormFactor\":0,\"fContour\":[],\"fSumw2\":[],\"fOption\":\"\",\"fFunctions\":{\"_typename\":\"TList\",\"name\":\"TList\",\"arr\":[],\"opt\":[]},\"fBufferSize\":0,\"fBuffer\":[],\"fBinStatErrOpt\":0,\"fArray\":[0,4,59,122,216,237,323,324,317,358,329,283,317,265,264,224,215,198,161,165,150,136,125,116,104,87,78,81,73,49,40,33,56,35,31,196,0]}],\"opt\":[\"\",\"\"]},\"fHistogram\":{\"_typename\":\"TH1F\",\"fUniqueID\":0,\"fBits\":50332160,\"fName\":\"h_nue_st0\",\"fTitle\":\"Neutrino Energy Distribution\",\"fLineColor\":602,\"fLineStyle\":1,\"fLineWidth\":1,\"fFillColor\":0,\"fFillStyle\":1001,\"fMarkerColor\":1,\"fMarkerStyle\":1,\"fMarkerSize\":1,\"fNcells\":37,\"fXaxis\":{\"_typename\":\"TAxis\",\"fUniqueID\":0,\"fBits\":50331648,\"fName\":\"xaxis\",\"fTitle\":\"E_{#nu}\",\"fNdivisions\":510,\"fAxisColor\":1,\"fLabelColor\":1,\"fLabelFont\":42,\"fLabelOffset\":0.005,\"fLabelSize\":0.035,\"fTickLength\":0.03,\"fTitleOffset\":1,\"fTitleSize\":0.035,\"fTitleColor\":1,\"fTitleFont\":42,\"fNbins\":35,\"fXmin\":0,\"fXmax\":3.5,\"fXbins\":[],\"fFirst\":0,\"fLast\":0,\"fBits2\":0,\"fTimeDisplay\":false,\"fTimeFormat\":\"\",\"fLabels\":null,\"fModLabs\":null},\"fYaxis\":{\"_typename\":\"TAxis\",\"fUniqueID\":0,\"fBits\":50331648,\"fName\":\"yaxis\",\"fTitle\":\"Events \\/ 100 MeV\",\"fNdivisions\":510,\"fAxisColor\":1,\"fLabelColor\":1,\"fLabelFont\":42,\"fLabelOffset\":0.005,\"fLabelSize\":0.035,\"fTickLength\":0.03,\"fTitleOffset\":0,\"fTitleSize\":0.035,\"fTitleColor\":1,\"fTitleFont\":42,\"fNbins\":1,\"fXmin\":0,\"fXmax\":1,\"fXbins\":[],\"fFirst\":0,\"fLast\":0,\"fBits2\":0,\"fTimeDisplay\":false,\"fTimeFormat\":\"\",\"fLabels\":null,\"fModLabs\":null},\"fZaxis\":{\"_typename\":\"TAxis\",\"fUniqueID\":0,\"fBits\":50331648,\"fName\":\"zaxis\",\"fTitle\":\"\",\"fNdivisions\":510,\"fAxisColor\":1,\"fLabelColor\":1,\"fLabelFont\":42,\"fLabelOffset\":0.005,\"fLabelSize\":0.035,\"fTickLength\":0.03,\"fTitleOffset\":1,\"fTitleSize\":0.035,\"fTitleColor\":1,\"fTitleFont\":42,\"fNbins\":1,\"fXmin\":0,\"fXmax\":1,\"fXbins\":[],\"fFirst\":0,\"fLast\":0,\"fBits2\":0,\"fTimeDisplay\":false,\"fTimeFormat\":\"\",\"fLabels\":null,\"fModLabs\":null},\"fBarOffset\":0,\"fBarWidth\":1000,\"fEntries\":0,\"fTsumw\":0,\"fTsumw2\":0,\"fTsumwx\":0,\"fTsumwx2\":0,\"fMaximum\":1677.9,\"fMinimum\":0,\"fNormFactor\":0,\"fContour\":[],\"fSumw2\":[],\"fOption\":\"\",\"fFunctions\":{\"_typename\":\"TList\",\"name\":\"TList\",\"arr\":[],\"opt\":[]},\"fBufferSize\":0,\"fBuffer\":[],\"fBinStatErrOpt\":0,\"fArray\":[0,0,0,0,0,0,0,0,0,0,0,0,0,0,0,0,0,0,0,0,0,0,0,0,0,0,0,0,0,0,0,0,0,0,0,0,0]},\"fMaximum\":-1111,\"fMinimum\":-1111},{\"_typename\":\"TLegend\",\"fUniqueID\":0,\"fBits\":50331656,\"fLineColor\":1,\"fLineStyle\":1,\"fLineWidth\":1,\"fFillColor\":0,\"fFillStyle\":1001,\"fX1\":2.62500001303852,\"fY1\":1258.42500625066,\"fX2\":3.50000002607703,\"fY2\":1677.90001250133,\"fX1NDC\":0.7,\"fY1NDC\":0.7,\"fX2NDC\":0.9,\"fY2NDC\":0.9,\"fBorderSize\":1,\"fInit\":1,\"fShadowColor\":1,\"fCornerRadius\":0,\"fOption\":\"brNDC\",\"fName\":\"TPave\",\"fTextAngle\":0,\"fTextSize\":0,\"fTextAlign\":12,\"fTextColor\":1,\"fTextFont\":42,\"fPrimitives\":{\"_typename\":\"TList\",\"name\":\"TList\",\"arr\":[{\"_typename\":\"TLegendEntry\",\"fUniqueID\":0,\"fBits\":50331656,\"fTextAngle\":0,\"fTextSize\":0,\"fTextAlign\":0,\"fTextColor\":0,\"fTextFont\":42,\"fLineColor\":1,\"fLineStyle\":1,\"fLineWidth\":1,\"fFillColor\":632,\"fFillStyle\":1001,\"fMarkerColor\":1,\"fMarkerStyle\":21,\"fMarkerSize\":1,\"fObject\":{\"$ref\":5},\"fLabel\":\"#nu_{e} CC\",\"fOption\":\"f\"},{\"_typename\":\"TLegendEntry\",\"fUniqueID\":0,\"fBits\":50331656,\"fTextAngle\":0,\"fTextSize\":0,\"fTextAlign\":0,\"fTextColor\":0,\"fTextFont\":42,\"fLineColor\":1,\"fLineStyle\":1,\"fLineWidth\":1,\"fFillColor\":400,\"fFillStyle\":1001,\"fMarkerColor\":1,\"fMarkerStyle\":21,\"fMarkerSize\":1,\"fObject\":{\"$ref\":10},\"fLabel\":\"#nu_{e} NC\",\"fOption\":\"f\"}],\"opt\":[\"f\",\"f\"]},\"fEntrySeparation\":0.1,\"fMargin\":0.25,\"fNColumns\":1,\"fColumnSeparation\":0},{\"_typename\":\"TPaveText\",\"fUniqueID\":0,\"fBits\":50331657,\"fLineColor\":1,\"fLineStyle\":1,\"fLineWidth\":1,\"fFillColor\":0,\"fFillStyle\":0,\"fX1\":0.678502139205851,\"fY1\":1749.17522483566,\"fX2\":2.82149786079415,\"fY2\":1877.15065047146,\"fX1NDC\":0.255086206896552,\"fY1NDC\":0.933983055615829,\"fX2NDC\":0.744913793103448,\"fY2NDC\":0.995000004768372,\"fBorderSize\":0,\"fInit\":1,\"fShadowColor\":1,\"fCornerRadius\":0,\"fOption\":\"blNDC\",\"fName\":\"title\",\"fTextAngle\":0,\"fTextSize\":0,\"fTextAlign\":22,\"fTextColor\":1,\"fTextFont\":42,\"fLabel\":\"\",\"fLongest\":28,\"fMargin\":0.05,\"fLines\":{\"_typename\":\"TList\",\"name\":\"TList\",\"arr\":[{\"_typename\":\"TLatex\",\"fUniqueID\":0,\"fBits\":50331648,\"fName\":\"\",\"fTitle\":\"Neutrino Energy Distribution\",\"fTextAngle\":0,\"fTextSize\":0,\"fTextAlign\":0,\"fTextColor\":0,\"fTextFont\":0,\"fX\":0,\"fY\":0,\"fLineColor\":1,\"fLineStyle\":1,\"fLineWidth\":2,\"fLimitFactorSize\":3,\"fOriginSize\":0.0518644079566002}],\"opt\":[\"\"]}}],\"opt\":[\"\",\"\",\"\",\"blNDC\"]},\"fExecs\":null,\"fName\":\"c0\",\"fTitle\":\"MyCanvas\",\"fNumPaletteColor\":0,\"fNextPaletteColor\":0,\"fDISPLAY\":\"$DISPLAY\",\"fDoubleBuffer\":0,\"fRetained\":true,\"fXsizeUser\":0,\"fYsizeUser\":0,\"fXsizeReal\":20,\"fYsizeReal\":14.28571,\"fWindowTopX\":0,\"fWindowTopY\":0,\"fWindowWidth\":0,\"fWindowHeight\":0,\"fCw\":696,\"fCh\":472,\"fCatt\":{\"_typename\":\"TAttCanvas\",\"fXBetween\":2,\"fYBetween\":2,\"fTitleFromTop\":1.2,\"fXdate\":0.2,\"fYdate\":0.3,\"fAdate\":1},\"kMoveOpaque\":true,\"kResizeOpaque\":true,\"fHighLightColor\":2,\"fBatch\":true,\"kShowEventStatus\":false,\"kAutoExec\":true,\"kMenuBar\":true});\n",
       "       Core.draw(\"root_plot_1\", obj, \"\");\n",
       "     }\n",
       " );\n",
       "</script>\n"
      ],
      "text/plain": [
       "<IPython.core.display.HTML object>"
      ]
     },
     "metadata": {},
     "output_type": "display_data"
    }
   ],
   "source": [
    "c0 = ROOT.TCanvas(\"c0\",\"MyCanvas\")\n",
    "c0.cd()\n",
    "h_nue_st0.Draw()\n",
    "leg0 = ROOT.TLegend(0.7,0.7,0.9,0.9)\n",
    "leg0.AddEntry(h_nue_cc,\"#nu_{e} CC\",\"f\")\n",
    "leg0.AddEntry(h_nue_nc,\"#nu_{e} NC\",\"f\")\n",
    "leg0.Draw();\n",
    "c0.Draw()"
   ]
  },
  {
   "cell_type": "code",
   "execution_count": 10,
   "metadata": {},
   "outputs": [],
   "source": [
    "h_nue_mb = ROOT.TH1F(\"h_nue_mb\",\"Neutrino Energy Distribution;E_{#nu};Events / 100 MeV\",NBINS,BINLOWEDGE,BINHIGHEDGE)\n",
    "h_nue_0p = ROOT.TH1F(\"h_nue_0p\",\"Neutrino Energy Distribution;E_{#nu};Events / 100 MeV\",NBINS,BINLOWEDGE,BINHIGHEDGE)\n",
    "h_nue_1p = ROOT.TH1F(\"h_nue_1p\",\"Neutrino Energy Distribution;E_{#nu};Events / 100 MeV\",NBINS,BINLOWEDGE,BINHIGHEDGE)\n",
    "h_nue_Np = ROOT.TH1F(\"h_nue_Np\",\"Neutrino Energy Distribution;E_{#nu};Events / 100 MeV\",NBINS,BINLOWEDGE,BINHIGHEDGE)\n",
    "h_nue_Npi = ROOT.TH1F(\"h_nue_Npi\",\"Neutrino Energy Distribution;E_{#nu};Events / 100 MeV\",NBINS,BINLOWEDGE,BINHIGHEDGE)\n",
    "h_nue_Npi0 = ROOT.TH1F(\"h_nue_Npi0\",\"Neutrino Energy Distribution;E_{#nu};Events / 100 MeV\",NBINS,BINLOWEDGE,BINHIGHEDGE)\n"
   ]
  },
  {
   "cell_type": "code",
   "execution_count": 11,
   "metadata": {},
   "outputs": [],
   "source": [
    "ana.Project(\"h_nue_mb\",\"nu_energy\",\"ccnc==0 && n_lep>=0 && n_pi==0 && n_pi0==0\");\n",
    "ana.Project(\"h_nue_0p\",\"nu_energy\",\"ccnc==0 && n_lep>=0 && n_proton==0 && n_pi==0 && n_pi0==0\");\n",
    "ana.Project(\"h_nue_1p\",\"nu_energy\",\"ccnc==0 && n_lep>=0 && n_proton==1 && n_pi==0 && n_pi0==0\");\n",
    "ana.Project(\"h_nue_Np\",\"nu_energy\",\"ccnc==0 && n_lep>=0 && n_proton>1 && n_pi==0 && n_pi0==0\");\n",
    "ana.Project(\"h_nue_Npi\",\"nu_energy\",\"ccnc==0 && n_lep>=0 && n_pi>0 && n_pi0==0\");\n",
    "ana.Project(\"h_nue_Npi0\",\"nu_energy\",\"ccnc==0 && n_lep>=0 && n_pi0>0\");"
   ]
  },
  {
   "cell_type": "code",
   "execution_count": 12,
   "metadata": {},
   "outputs": [],
   "source": [
    "h_nue_mb.SetLineColor(ROOT.kBlack); h_nue_mb.SetFillColor(ROOT.kYellow+4);\n",
    "h_nue_0p.SetLineColor(ROOT.kBlack); h_nue_0p.SetFillColor(ROOT.kOrange+7);\n",
    "h_nue_1p.SetLineColor(ROOT.kBlack); h_nue_1p.SetFillColor(ROOT.kBlue);\n",
    "h_nue_Np.SetLineColor(ROOT.kBlack); h_nue_Np.SetFillColor(ROOT.kCyan);\n",
    "h_nue_Npi.SetLineColor(ROOT.kBlack); h_nue_Npi.SetFillColor(ROOT.kGreen+2);\n",
    "h_nue_Npi0.SetLineColor(ROOT.kBlack); h_nue_Npi0.SetFillColor(ROOT.kGreen);\n",
    "\n",
    "ROOT.ShowUnderOverFlow(h_nue_mb);\n",
    "ROOT.ShowUnderOverFlow(h_nue_0p);\n",
    "ROOT.ShowUnderOverFlow(h_nue_1p);\n",
    "ROOT.ShowUnderOverFlow(h_nue_Np);\n",
    "ROOT.ShowUnderOverFlow(h_nue_Npi);\n",
    "ROOT.ShowUnderOverFlow(h_nue_Npi0);"
   ]
  },
  {
   "cell_type": "code",
   "execution_count": 13,
   "metadata": {},
   "outputs": [
    {
     "data": {
      "text/html": [
       "\n",
       "<div id=\"root_plot_2\"\n",
       "     style=\"width: 696px; height: 472px\">\n",
       "</div>\n",
       "\n",
       "<script>\n",
       " requirejs.config({\n",
       "     paths: {\n",
       "       'JSRootCore' : 'https://root.cern.ch/js/notebook//scripts/JSRootCore',\n",
       "     }\n",
       "   });\n",
       " require(['JSRootCore'],\n",
       "     function(Core) {\n",
       "       var obj = Core.JSONR_unref({\"_typename\":\"TCanvas\",\"fUniqueID\":0,\"fBits\":53673992,\"fLineColor\":1,\"fLineStyle\":1,\"fLineWidth\":1,\"fFillColor\":0,\"fFillStyle\":1001,\"fLeftMargin\":0.1,\"fRightMargin\":0.1,\"fBottomMargin\":0.1,\"fTopMargin\":0.1,\"fXfile\":2,\"fYfile\":2,\"fAfile\":1,\"fXstat\":0.99,\"fYstat\":0.99,\"fAstat\":2,\"fFrameFillColor\":0,\"fFrameLineColor\":1,\"fFrameFillStyle\":1001,\"fFrameLineStyle\":1,\"fFrameLineWidth\":1,\"fFrameBorderSize\":1,\"fFrameBorderMode\":0,\"fX1\":-0.437500032596292,\"fY1\":-162.750012125821,\"fX2\":3.93750003259629,\"fY2\":1464.75001212582,\"fXtoAbsPixelk\":69.6000541484835,\"fXtoPixelk\":69.6000541484835,\"fXtoPixel\":159.085711915152,\"fYtoAbsPixelk\":424.800047186661,\"fYtoPixelk\":424.800047186661,\"fYtoPixel\":-0.290015356661537,\"fUtoAbsPixelk\":5e-5,\"fUtoPixelk\":5e-5,\"fUtoPixel\":696,\"fVtoAbsPixelk\":472.00005,\"fVtoPixelk\":472,\"fVtoPixel\":-472,\"fAbsPixeltoXk\":-0.437500032596292,\"fPixeltoXk\":-0.437500032596292,\"fPixeltoX\":0.00628591963389739,\"fAbsPixeltoYk\":1464.75001212582,\"fPixeltoYk\":-162.750012125821,\"fPixeltoY\":-3.44809327171958,\"fXlowNDC\":0,\"fYlowNDC\":0,\"fXUpNDC\":0,\"fYUpNDC\":0,\"fWNDC\":1,\"fHNDC\":1,\"fAbsXlowNDC\":0,\"fAbsYlowNDC\":0,\"fAbsWNDC\":1,\"fAbsHNDC\":1,\"fUxmin\":0,\"fUymin\":0,\"fUxmax\":3.5,\"fUymax\":1302,\"fTheta\":30,\"fPhi\":30,\"fAspectRatio\":0,\"fNumber\":0,\"fTickx\":0,\"fTicky\":0,\"fLogx\":0,\"fLogy\":0,\"fLogz\":0,\"fPadPaint\":0,\"fCrosshair\":0,\"fCrosshairPos\":0,\"fBorderSize\":2,\"fBorderMode\":0,\"fModified\":false,\"fGridx\":false,\"fGridy\":false,\"fAbsCoord\":false,\"fEditable\":true,\"fFixedAspectRatio\":false,\"fPrimitives\":{\"_typename\":\"TList\",\"name\":\"TList\",\"arr\":[{\"_typename\":\"TFrame\",\"fUniqueID\":0,\"fBits\":50331656,\"fLineColor\":1,\"fLineStyle\":1,\"fLineWidth\":1,\"fFillColor\":0,\"fFillStyle\":1001,\"fX1\":0,\"fY1\":0,\"fX2\":3.5,\"fY2\":1302,\"fBorderSize\":1,\"fBorderMode\":0},{\"_typename\":\"TH1F\",\"fUniqueID\":0,\"fBits\":50332168,\"fName\":\"h_nue_cc\",\"fTitle\":\"Neutrino Energy Distribution\",\"fLineColor\":1,\"fLineStyle\":1,\"fLineWidth\":1,\"fFillColor\":632,\"fFillStyle\":1001,\"fMarkerColor\":1,\"fMarkerStyle\":1,\"fMarkerSize\":1,\"fNcells\":37,\"fXaxis\":{\"_typename\":\"TAxis\",\"fUniqueID\":0,\"fBits\":50331648,\"fName\":\"xaxis\",\"fTitle\":\"E_{#nu}\",\"fNdivisions\":510,\"fAxisColor\":1,\"fLabelColor\":1,\"fLabelFont\":42,\"fLabelOffset\":0.005,\"fLabelSize\":0.035,\"fTickLength\":0.03,\"fTitleOffset\":1,\"fTitleSize\":0.035,\"fTitleColor\":1,\"fTitleFont\":42,\"fNbins\":35,\"fXmin\":0,\"fXmax\":3.5,\"fXbins\":[],\"fFirst\":0,\"fLast\":0,\"fBits2\":0,\"fTimeDisplay\":false,\"fTimeFormat\":\"\",\"fLabels\":null,\"fModLabs\":null},\"fYaxis\":{\"_typename\":\"TAxis\",\"fUniqueID\":0,\"fBits\":50331648,\"fName\":\"yaxis\",\"fTitle\":\"Events \\/ 100 MeV\",\"fNdivisions\":510,\"fAxisColor\":1,\"fLabelColor\":1,\"fLabelFont\":42,\"fLabelOffset\":0.005,\"fLabelSize\":0.035,\"fTickLength\":0.03,\"fTitleOffset\":0,\"fTitleSize\":0.035,\"fTitleColor\":1,\"fTitleFont\":42,\"fNbins\":1,\"fXmin\":0,\"fXmax\":1,\"fXbins\":[],\"fFirst\":0,\"fLast\":0,\"fBits2\":0,\"fTimeDisplay\":false,\"fTimeFormat\":\"\",\"fLabels\":null,\"fModLabs\":null},\"fZaxis\":{\"_typename\":\"TAxis\",\"fUniqueID\":0,\"fBits\":50331648,\"fName\":\"zaxis\",\"fTitle\":\"\",\"fNdivisions\":510,\"fAxisColor\":1,\"fLabelColor\":1,\"fLabelFont\":42,\"fLabelOffset\":0.005,\"fLabelSize\":0.035,\"fTickLength\":0.03,\"fTitleOffset\":1,\"fTitleSize\":0.035,\"fTitleColor\":1,\"fTitleFont\":42,\"fNbins\":1,\"fXmin\":0,\"fXmax\":1,\"fXbins\":[],\"fFirst\":0,\"fLast\":0,\"fBits2\":0,\"fTimeDisplay\":false,\"fTimeFormat\":\"\",\"fLabels\":null,\"fModLabs\":null},\"fBarOffset\":0,\"fBarWidth\":1000,\"fEntries\":19233,\"fTsumw\":0,\"fTsumw2\":18749,\"fTsumwx\":24755.4379457757,\"fTsumwx2\":42840.8079001239,\"fMaximum\":-1111,\"fMinimum\":0,\"fNormFactor\":0,\"fContour\":[],\"fSumw2\":[],\"fOption\":\"\",\"fFunctions\":{\"_typename\":\"TList\",\"name\":\"TList\",\"arr\":[],\"opt\":[]},\"fBufferSize\":0,\"fBuffer\":[],\"fBinStatErrOpt\":0,\"fArray\":[0,7,105,379,647,882,1046,1070,1117,1240,1086,1048,1015,961,853,823,740,685,550,532,447,485,413,364,345,300,272,245,226,176,120,125,112,127,117,569,0]},{\"_typename\":\"TH1F\",\"fUniqueID\":0,\"fBits\":50332168,\"fName\":\"h_nue_1p\",\"fTitle\":\"Neutrino Energy Distribution\",\"fLineColor\":1,\"fLineStyle\":1,\"fLineWidth\":1,\"fFillColor\":600,\"fFillStyle\":1001,\"fMarkerColor\":1,\"fMarkerStyle\":1,\"fMarkerSize\":1,\"fNcells\":37,\"fXaxis\":{\"_typename\":\"TAxis\",\"fUniqueID\":0,\"fBits\":50331648,\"fName\":\"xaxis\",\"fTitle\":\"E_{#nu}\",\"fNdivisions\":510,\"fAxisColor\":1,\"fLabelColor\":1,\"fLabelFont\":42,\"fLabelOffset\":0.005,\"fLabelSize\":0.035,\"fTickLength\":0.03,\"fTitleOffset\":1,\"fTitleSize\":0.035,\"fTitleColor\":1,\"fTitleFont\":42,\"fNbins\":35,\"fXmin\":0,\"fXmax\":3.5,\"fXbins\":[],\"fFirst\":0,\"fLast\":0,\"fBits2\":0,\"fTimeDisplay\":false,\"fTimeFormat\":\"\",\"fLabels\":null,\"fModLabs\":null},\"fYaxis\":{\"_typename\":\"TAxis\",\"fUniqueID\":0,\"fBits\":50331648,\"fName\":\"yaxis\",\"fTitle\":\"Events \\/ 100 MeV\",\"fNdivisions\":510,\"fAxisColor\":1,\"fLabelColor\":1,\"fLabelFont\":42,\"fLabelOffset\":0.005,\"fLabelSize\":0.035,\"fTickLength\":0.03,\"fTitleOffset\":0,\"fTitleSize\":0.035,\"fTitleColor\":1,\"fTitleFont\":42,\"fNbins\":1,\"fXmin\":0,\"fXmax\":1,\"fXbins\":[],\"fFirst\":0,\"fLast\":0,\"fBits2\":0,\"fTimeDisplay\":false,\"fTimeFormat\":\"\",\"fLabels\":null,\"fModLabs\":null},\"fZaxis\":{\"_typename\":\"TAxis\",\"fUniqueID\":0,\"fBits\":50331648,\"fName\":\"zaxis\",\"fTitle\":\"\",\"fNdivisions\":510,\"fAxisColor\":1,\"fLabelColor\":1,\"fLabelFont\":42,\"fLabelOffset\":0.005,\"fLabelSize\":0.035,\"fTickLength\":0.03,\"fTitleOffset\":1,\"fTitleSize\":0.035,\"fTitleColor\":1,\"fTitleFont\":42,\"fNbins\":1,\"fXmin\":0,\"fXmax\":1,\"fXbins\":[],\"fFirst\":0,\"fLast\":0,\"fBits2\":0,\"fTimeDisplay\":false,\"fTimeFormat\":\"\",\"fLabels\":null,\"fModLabs\":null},\"fBarOffset\":0,\"fBarWidth\":1000,\"fEntries\":5974,\"fTsumw\":0,\"fTsumw2\":5913,\"fTsumwx\":6548.14682499319,\"fTsumwx2\":9728.51560974209,\"fMaximum\":-1111,\"fMinimum\":0,\"fNormFactor\":0,\"fContour\":[],\"fSumw2\":[],\"fOption\":\"\",\"fFunctions\":{\"_typename\":\"TList\",\"name\":\"TList\",\"arr\":[],\"opt\":[]},\"fBufferSize\":0,\"fBuffer\":[],\"fBinStatErrOpt\":0,\"fArray\":[0,2,44,164,302,423,452,463,443,444,381,360,334,276,250,208,199,164,139,135,96,105,87,77,57,55,47,39,37,29,20,17,17,13,17,74,0]},{\"_typename\":\"TH1F\",\"fUniqueID\":0,\"fBits\":50332168,\"fName\":\"h_nue_Np\",\"fTitle\":\"Neutrino Energy Distribution\",\"fLineColor\":1,\"fLineStyle\":1,\"fLineWidth\":1,\"fFillColor\":432,\"fFillStyle\":1001,\"fMarkerColor\":1,\"fMarkerStyle\":1,\"fMarkerSize\":1,\"fNcells\":37,\"fXaxis\":{\"_typename\":\"TAxis\",\"fUniqueID\":0,\"fBits\":50331648,\"fName\":\"xaxis\",\"fTitle\":\"E_{#nu}\",\"fNdivisions\":510,\"fAxisColor\":1,\"fLabelColor\":1,\"fLabelFont\":42,\"fLabelOffset\":0.005,\"fLabelSize\":0.035,\"fTickLength\":0.03,\"fTitleOffset\":1,\"fTitleSize\":0.035,\"fTitleColor\":1,\"fTitleFont\":42,\"fNbins\":35,\"fXmin\":0,\"fXmax\":3.5,\"fXbins\":[],\"fFirst\":0,\"fLast\":0,\"fBits2\":0,\"fTimeDisplay\":false,\"fTimeFormat\":\"\",\"fLabels\":null,\"fModLabs\":null},\"fYaxis\":{\"_typename\":\"TAxis\",\"fUniqueID\":0,\"fBits\":50331648,\"fName\":\"yaxis\",\"fTitle\":\"Events \\/ 100 MeV\",\"fNdivisions\":510,\"fAxisColor\":1,\"fLabelColor\":1,\"fLabelFont\":42,\"fLabelOffset\":0.005,\"fLabelSize\":0.035,\"fTickLength\":0.03,\"fTitleOffset\":0,\"fTitleSize\":0.035,\"fTitleColor\":1,\"fTitleFont\":42,\"fNbins\":1,\"fXmin\":0,\"fXmax\":1,\"fXbins\":[],\"fFirst\":0,\"fLast\":0,\"fBits2\":0,\"fTimeDisplay\":false,\"fTimeFormat\":\"\",\"fLabels\":null,\"fModLabs\":null},\"fZaxis\":{\"_typename\":\"TAxis\",\"fUniqueID\":0,\"fBits\":50331648,\"fName\":\"zaxis\",\"fTitle\":\"\",\"fNdivisions\":510,\"fAxisColor\":1,\"fLabelColor\":1,\"fLabelFont\":42,\"fLabelOffset\":0.005,\"fLabelSize\":0.035,\"fTickLength\":0.03,\"fTitleOffset\":1,\"fTitleSize\":0.035,\"fTitleColor\":1,\"fTitleFont\":42,\"fNbins\":1,\"fXmin\":0,\"fXmax\":1,\"fXbins\":[],\"fFirst\":0,\"fLast\":0,\"fBits2\":0,\"fTimeDisplay\":false,\"fTimeFormat\":\"\",\"fLabels\":null,\"fModLabs\":null},\"fBarOffset\":0,\"fBarWidth\":1000,\"fEntries\":4712,\"fTsumw\":0,\"fTsumw2\":4644,\"fTsumwx\":5734.0482204631,\"fTsumwx2\":9189.05533048587,\"fMaximum\":-1111,\"fMinimum\":0,\"fNormFactor\":0,\"fContour\":[],\"fSumw2\":[],\"fOption\":\"\",\"fFunctions\":{\"_typename\":\"TList\",\"name\":\"TList\",\"arr\":[],\"opt\":[]},\"fBufferSize\":0,\"fBuffer\":[],\"fBinStatErrOpt\":0,\"fArray\":[0,0,5,66,149,256,296,288,343,364,326,273,263,264,215,205,182,149,108,119,89,105,95,72,73,55,51,47,45,36,11,22,15,24,18,79,0]},{\"_typename\":\"TLegend\",\"fUniqueID\":0,\"fBits\":50331656,\"fLineColor\":1,\"fLineStyle\":1,\"fLineWidth\":1,\"fFillColor\":0,\"fFillStyle\":1001,\"fX1\":2.62500001303852,\"fY1\":976.500004850328,\"fX2\":3.50000002607703,\"fY2\":1302.00000970066,\"fX1NDC\":0.7,\"fY1NDC\":0.7,\"fX2NDC\":0.9,\"fY2NDC\":0.9,\"fBorderSize\":1,\"fInit\":1,\"fShadowColor\":1,\"fCornerRadius\":0,\"fOption\":\"brNDC\",\"fName\":\"TPave\",\"fTextAngle\":0,\"fTextSize\":0,\"fTextAlign\":12,\"fTextColor\":1,\"fTextFont\":42,\"fPrimitives\":{\"_typename\":\"TList\",\"name\":\"TList\",\"arr\":[{\"_typename\":\"TLegendEntry\",\"fUniqueID\":0,\"fBits\":50331656,\"fTextAngle\":0,\"fTextSize\":0,\"fTextAlign\":0,\"fTextColor\":0,\"fTextFont\":42,\"fLineColor\":1,\"fLineStyle\":1,\"fLineWidth\":1,\"fFillColor\":632,\"fFillStyle\":1001,\"fMarkerColor\":1,\"fMarkerStyle\":21,\"fMarkerSize\":1,\"fObject\":{\"$ref\":3},\"fLabel\":\"#nu_{e} CC inclusive\",\"fOption\":\"f\"},{\"_typename\":\"TLegendEntry\",\"fUniqueID\":0,\"fBits\":50331656,\"fTextAngle\":0,\"fTextSize\":0,\"fTextAlign\":0,\"fTextColor\":0,\"fTextFont\":42,\"fLineColor\":1,\"fLineStyle\":1,\"fLineWidth\":1,\"fFillColor\":432,\"fFillStyle\":1001,\"fMarkerColor\":1,\"fMarkerStyle\":21,\"fMarkerSize\":1,\"fObject\":{\"$ref\":13},\"fLabel\":\"#nu_{e} 1eNp0#pi\",\"fOption\":\"f\"},{\"_typename\":\"TLegendEntry\",\"fUniqueID\":0,\"fBits\":50331656,\"fTextAngle\":0,\"fTextSize\":0,\"fTextAlign\":0,\"fTextColor\":0,\"fTextFont\":42,\"fLineColor\":1,\"fLineStyle\":1,\"fLineWidth\":1,\"fFillColor\":600,\"fFillStyle\":1001,\"fMarkerColor\":1,\"fMarkerStyle\":21,\"fMarkerSize\":1,\"fObject\":{\"$ref\":8},\"fLabel\":\"#nu_{e} 1e1p0#pi\",\"fOption\":\"f\"}],\"opt\":[\"f\",\"f\",\"f\"]},\"fEntrySeparation\":0.1,\"fMargin\":0.25,\"fNColumns\":1,\"fColumnSeparation\":0},{\"_typename\":\"TPaveText\",\"fUniqueID\":0,\"fBits\":50331657,\"fLineColor\":1,\"fLineStyle\":1,\"fLineWidth\":1,\"fFillColor\":0,\"fFillStyle\":0,\"fX1\":0.678502139205851,\"fY1\":1357.30743353956,\"fX2\":2.82149786079415,\"fY2\":1456.61251976509,\"fX1NDC\":0.255086206896552,\"fY1NDC\":0.933983055615829,\"fX2NDC\":0.744913793103448,\"fY2NDC\":0.995000004768372,\"fBorderSize\":0,\"fInit\":1,\"fShadowColor\":1,\"fCornerRadius\":0,\"fOption\":\"blNDC\",\"fName\":\"title\",\"fTextAngle\":0,\"fTextSize\":0,\"fTextAlign\":22,\"fTextColor\":1,\"fTextFont\":42,\"fLabel\":\"\",\"fLongest\":28,\"fMargin\":0.05,\"fLines\":{\"_typename\":\"TList\",\"name\":\"TList\",\"arr\":[{\"_typename\":\"TLatex\",\"fUniqueID\":0,\"fBits\":50331648,\"fName\":\"\",\"fTitle\":\"Neutrino Energy Distribution\",\"fTextAngle\":0,\"fTextSize\":0,\"fTextAlign\":0,\"fTextColor\":0,\"fTextFont\":0,\"fX\":0,\"fY\":0,\"fLineColor\":1,\"fLineStyle\":1,\"fLineWidth\":2,\"fLimitFactorSize\":3,\"fOriginSize\":0.0518644079566002}],\"opt\":[\"\"]}}],\"opt\":[\"\",\"\",\"same\",\"same\",\"\",\"blNDC\"]},\"fExecs\":null,\"fName\":\"c1\",\"fTitle\":\"Canvas1\",\"fNumPaletteColor\":0,\"fNextPaletteColor\":0,\"fDISPLAY\":\"$DISPLAY\",\"fDoubleBuffer\":0,\"fRetained\":true,\"fXsizeUser\":0,\"fYsizeUser\":0,\"fXsizeReal\":20,\"fYsizeReal\":14.28571,\"fWindowTopX\":0,\"fWindowTopY\":0,\"fWindowWidth\":0,\"fWindowHeight\":0,\"fCw\":696,\"fCh\":472,\"fCatt\":{\"_typename\":\"TAttCanvas\",\"fXBetween\":2,\"fYBetween\":2,\"fTitleFromTop\":1.2,\"fXdate\":0.2,\"fYdate\":0.3,\"fAdate\":1},\"kMoveOpaque\":true,\"kResizeOpaque\":true,\"fHighLightColor\":2,\"fBatch\":true,\"kShowEventStatus\":false,\"kAutoExec\":true,\"kMenuBar\":true});\n",
       "       Core.draw(\"root_plot_2\", obj, \"\");\n",
       "     }\n",
       " );\n",
       "</script>\n"
      ],
      "text/plain": [
       "<IPython.core.display.HTML object>"
      ]
     },
     "metadata": {},
     "output_type": "display_data"
    }
   ],
   "source": [
    "c1 = ROOT.TCanvas(\"c1\",\"Canvas1\");\n",
    "c1.cd();\n",
    "h_nue_cc.Draw();\n",
    "#h_nue_Ntrk.Draw(\"same\");\n",
    "h_nue_1p.Draw(\"same\");\n",
    "h_nue_Np.Draw(\"same\");\n",
    "leg1 = ROOT.TLegend(0.7,0.7,0.9,0.9);\n",
    "leg1.AddEntry(h_nue_cc,\"#nu_{e} CC inclusive\",\"f\");\n",
    "leg1.AddEntry(h_nue_Np,\"#nu_{e} 1eNp0#pi\",\"f\");\n",
    "leg1.AddEntry(h_nue_1p,\"#nu_{e} 1e1p0#pi\",\"f\");\n",
    "leg1.Draw();\n",
    "c1.Draw()"
   ]
  },
  {
   "cell_type": "code",
   "execution_count": 14,
   "metadata": {},
   "outputs": [],
   "source": [
    "h_nue_mb_eff = ROOT.TH1F(\"h_nue_mb_eff\",\"Neutrino Energy Distribution;E_{#nu};Efficiency\",NBINS,BINLOWEDGE,BINHIGHEDGE)\n",
    "h_nue_0p_eff = ROOT.TH1F(\"h_nue_0p_eff\",\"Neutrino Energy Distribution;E_{#nu};Efficiency\",NBINS,BINLOWEDGE,BINHIGHEDGE)\n",
    "h_nue_1p_eff = ROOT.TH1F(\"h_nue_1p_eff\",\"Neutrino Energy Distribution;E_{#nu};Efficiency\",NBINS,BINLOWEDGE,BINHIGHEDGE)\n",
    "h_nue_Np_eff = ROOT.TH1F(\"h_nue_Np_eff\",\"Neutrino Energy Distribution;E_{#nu};Efficiency\",NBINS,BINLOWEDGE,BINHIGHEDGE)\n",
    "h_nue_Npi_eff = ROOT.TH1F(\"h_nue_Npi_eff\",\"Neutrino Energy Distribution;E_{#nu};Efficiency\",NBINS,BINLOWEDGE,BINHIGHEDGE)\n",
    "h_nue_Npi0_eff = ROOT.TH1F(\"h_nue_Npi0_eff\",\"Neutrino Energy Distribution;E_{#nu};Efficiency\",NBINS,BINLOWEDGE,BINHIGHEDGE)\n",
    "\n",
    "for i in range(1,h_nue_cc.GetNbinsX()+1):\n",
    "    h_nue_mb_eff.SetBinContent(i,h_nue_mb.GetBinContent(i)/h_nue_cc.GetBinContent(i));\n",
    "    h_nue_mb_eff.SetBinError(i,ROOT.TMath.Sqrt(h_nue_mb_eff.GetBinContent(i)*(1-h_nue_mb_eff.GetBinContent(i))/h_nue_cc.GetBinContent(i)));\n",
    "    h_nue_0p_eff.SetBinContent(i,h_nue_0p.GetBinContent(i)/h_nue_cc.GetBinContent(i));\n",
    "    h_nue_0p_eff.SetBinError(i,ROOT.TMath.Sqrt(h_nue_0p_eff.GetBinContent(i)*(1-h_nue_0p_eff.GetBinContent(i))/h_nue_cc.GetBinContent(i)));\n",
    "    h_nue_1p_eff.SetBinContent(i,h_nue_1p.GetBinContent(i)/h_nue_cc.GetBinContent(i));\n",
    "    h_nue_1p_eff.SetBinError(i,ROOT.TMath.Sqrt(h_nue_1p_eff.GetBinContent(i)*(1-h_nue_1p_eff.GetBinContent(i))/h_nue_cc.GetBinContent(i)));\n",
    "    h_nue_Np_eff.SetBinContent(i,h_nue_Np.GetBinContent(i)/h_nue_cc.GetBinContent(i));\n",
    "    h_nue_Np_eff.SetBinError(i,ROOT.TMath.Sqrt(h_nue_Np_eff.GetBinContent(i)*(1-h_nue_Np_eff.GetBinContent(i))/h_nue_cc.GetBinContent(i)));\n",
    "    h_nue_Npi_eff.SetBinContent(i,h_nue_Npi.GetBinContent(i)/h_nue_cc.GetBinContent(i));\n",
    "    h_nue_Npi_eff.SetBinError(i,ROOT.TMath.Sqrt(h_nue_Npi_eff.GetBinContent(i)*(1-h_nue_Npi_eff.GetBinContent(i))/h_nue_cc.GetBinContent(i)));\n",
    "    h_nue_Npi0_eff.SetBinContent(i,h_nue_Npi0.GetBinContent(i)/h_nue_cc.GetBinContent(i));\n",
    "    h_nue_Npi0_eff.SetBinError(i,ROOT.TMath.Sqrt(h_nue_Npi0_eff.GetBinContent(i)*(1-h_nue_Npi0_eff.GetBinContent(i))/h_nue_cc.GetBinContent(i)));\n",
    "\n"
   ]
  },
  {
   "cell_type": "code",
   "execution_count": 15,
   "metadata": {},
   "outputs": [],
   "source": [
    "h_nue_mb_eff.SetLineColor(ROOT.kYellow+4);\n",
    "h_nue_0p_eff.SetLineColor(ROOT.kOrange+7);\n",
    "h_nue_1p_eff.SetLineColor(ROOT.kBlue);\n",
    "h_nue_Np_eff.SetLineColor(ROOT.kCyan);\n",
    "h_nue_Npi_eff.SetLineColor(ROOT.kGreen+2);\n",
    "h_nue_mb_eff.SetFillColor(ROOT.kYellow+4);\n",
    "h_nue_0p_eff.SetFillColor(ROOT.kOrange+7);\n",
    "h_nue_1p_eff.SetFillColor(ROOT.kBlue);\n",
    "h_nue_Np_eff.SetFillColor(ROOT.kCyan);\n",
    "h_nue_Npi_eff.SetFillColor(ROOT.kGreen+2);\n",
    "h_nue_Npi0_eff.SetFillColor(ROOT.kGreen);\n",
    "h_nue_mb_eff.SetMarkerColor(ROOT.kYellow+4);\n",
    "h_nue_0p_eff.SetMarkerColor(ROOT.kOrange+7);\n",
    "h_nue_1p_eff.SetMarkerColor(ROOT.kBlue);\n",
    "h_nue_Np_eff.SetMarkerColor(ROOT.kCyan);\n",
    "h_nue_Npi_eff.SetMarkerColor(ROOT.kGreen+2);\n",
    "h_nue_Npi0_eff.SetMarkerColor(ROOT.kGreen);\n",
    "h_nue_mb_eff.SetMarkerStyle(8);\n",
    "h_nue_0p_eff.SetMarkerStyle(8);\n",
    "h_nue_1p_eff.SetMarkerStyle(8);\n",
    "h_nue_Np_eff.SetMarkerStyle(8);\n",
    "h_nue_Npi_eff.SetMarkerStyle(8);\n",
    "h_nue_Npi0_eff.SetMarkerStyle(8);"
   ]
  },
  {
   "cell_type": "code",
   "execution_count": 16,
   "metadata": {},
   "outputs": [
    {
     "data": {
      "text/html": [
       "\n",
       "<div id=\"root_plot_3\"\n",
       "     style=\"width: 696px; height: 472px\">\n",
       "</div>\n",
       "\n",
       "<script>\n",
       " requirejs.config({\n",
       "     paths: {\n",
       "       'JSRootCore' : 'https://root.cern.ch/js/notebook//scripts/JSRootCore',\n",
       "     }\n",
       "   });\n",
       " require(['JSRootCore'],\n",
       "     function(Core) {\n",
       "       var obj = Core.JSONR_unref({\"_typename\":\"TCanvas\",\"fUniqueID\":0,\"fBits\":53673992,\"fLineColor\":1,\"fLineStyle\":1,\"fLineWidth\":1,\"fFillColor\":0,\"fFillStyle\":1001,\"fLeftMargin\":0.1,\"fRightMargin\":0.1,\"fBottomMargin\":0.1,\"fTopMargin\":0.1,\"fXfile\":2,\"fYfile\":2,\"fAfile\":1,\"fXstat\":0.99,\"fYstat\":0.99,\"fAstat\":2,\"fFrameFillColor\":0,\"fFrameLineColor\":1,\"fFrameFillStyle\":1001,\"fFrameLineStyle\":1,\"fFrameLineWidth\":1,\"fFrameBorderSize\":1,\"fFrameBorderMode\":0,\"fX1\":-0.437500032596292,\"fY1\":-0.137500010244549,\"fX2\":3.93750003259629,\"fY2\":1.23750001024455,\"fXtoAbsPixelk\":69.6000541484835,\"fXtoPixelk\":69.6000541484835,\"fXtoPixel\":159.085711915152,\"fYtoAbsPixelk\":424.800047186661,\"fYtoPixelk\":424.800047186661,\"fYtoPixel\":-343.272722157565,\"fUtoAbsPixelk\":5e-5,\"fUtoPixelk\":5e-5,\"fUtoPixel\":696,\"fVtoAbsPixelk\":472.00005,\"fVtoPixelk\":472,\"fVtoPixel\":-472,\"fAbsPixeltoXk\":-0.437500032596292,\"fPixeltoXk\":-0.437500032596292,\"fPixeltoX\":0.00628591963389739,\"fAbsPixeltoYk\":1.23750001024455,\"fPixeltoYk\":-0.137500010244549,\"fPixeltoY\":-0.00291313563662944,\"fXlowNDC\":0,\"fYlowNDC\":0,\"fXUpNDC\":0,\"fYUpNDC\":0,\"fWNDC\":1,\"fHNDC\":1,\"fAbsXlowNDC\":0,\"fAbsYlowNDC\":0,\"fAbsWNDC\":1,\"fAbsHNDC\":1,\"fUxmin\":0,\"fUymin\":0,\"fUxmax\":3.5,\"fUymax\":1.1,\"fTheta\":30,\"fPhi\":30,\"fAspectRatio\":0,\"fNumber\":0,\"fTickx\":0,\"fTicky\":0,\"fLogx\":0,\"fLogy\":0,\"fLogz\":0,\"fPadPaint\":0,\"fCrosshair\":0,\"fCrosshairPos\":0,\"fBorderSize\":2,\"fBorderMode\":0,\"fModified\":false,\"fGridx\":false,\"fGridy\":false,\"fAbsCoord\":false,\"fEditable\":true,\"fFixedAspectRatio\":false,\"fPrimitives\":{\"_typename\":\"TList\",\"name\":\"TList\",\"arr\":[{\"_typename\":\"TFrame\",\"fUniqueID\":0,\"fBits\":50331656,\"fLineColor\":1,\"fLineStyle\":1,\"fLineWidth\":1,\"fFillColor\":0,\"fFillStyle\":1001,\"fX1\":0,\"fY1\":0,\"fX2\":3.5,\"fY2\":1.1,\"fBorderSize\":1,\"fBorderMode\":0},{\"_typename\":\"TH1F\",\"fUniqueID\":0,\"fBits\":50332168,\"fName\":\"h_nue_Np_eff\",\"fTitle\":\"Neutrino Energy Distribution\",\"fLineColor\":432,\"fLineStyle\":1,\"fLineWidth\":1,\"fFillColor\":432,\"fFillStyle\":1001,\"fMarkerColor\":432,\"fMarkerStyle\":8,\"fMarkerSize\":1,\"fNcells\":37,\"fXaxis\":{\"_typename\":\"TAxis\",\"fUniqueID\":0,\"fBits\":50331648,\"fName\":\"xaxis\",\"fTitle\":\"E_{#nu}\",\"fNdivisions\":510,\"fAxisColor\":1,\"fLabelColor\":1,\"fLabelFont\":42,\"fLabelOffset\":0.005,\"fLabelSize\":0.035,\"fTickLength\":0.03,\"fTitleOffset\":1,\"fTitleSize\":0.035,\"fTitleColor\":1,\"fTitleFont\":42,\"fNbins\":35,\"fXmin\":0,\"fXmax\":3.5,\"fXbins\":[],\"fFirst\":0,\"fLast\":0,\"fBits2\":0,\"fTimeDisplay\":false,\"fTimeFormat\":\"\",\"fLabels\":null,\"fModLabs\":null},\"fYaxis\":{\"_typename\":\"TAxis\",\"fUniqueID\":0,\"fBits\":50331648,\"fName\":\"yaxis\",\"fTitle\":\"Efficiency\",\"fNdivisions\":510,\"fAxisColor\":1,\"fLabelColor\":1,\"fLabelFont\":42,\"fLabelOffset\":0.005,\"fLabelSize\":0.035,\"fTickLength\":0.03,\"fTitleOffset\":0,\"fTitleSize\":0.035,\"fTitleColor\":1,\"fTitleFont\":42,\"fNbins\":1,\"fXmin\":0,\"fXmax\":1,\"fXbins\":[],\"fFirst\":0,\"fLast\":0,\"fBits2\":0,\"fTimeDisplay\":false,\"fTimeFormat\":\"\",\"fLabels\":null,\"fModLabs\":null},\"fZaxis\":{\"_typename\":\"TAxis\",\"fUniqueID\":0,\"fBits\":50331648,\"fName\":\"zaxis\",\"fTitle\":\"\",\"fNdivisions\":510,\"fAxisColor\":1,\"fLabelColor\":1,\"fLabelFont\":42,\"fLabelOffset\":0.005,\"fLabelSize\":0.035,\"fTickLength\":0.03,\"fTitleOffset\":1,\"fTitleSize\":0.035,\"fTitleColor\":1,\"fTitleFont\":42,\"fNbins\":1,\"fXmin\":0,\"fXmax\":1,\"fXbins\":[],\"fFirst\":0,\"fLast\":0,\"fBits2\":0,\"fTimeDisplay\":false,\"fTimeFormat\":\"\",\"fLabels\":null,\"fModLabs\":null},\"fBarOffset\":0,\"fBarWidth\":1000,\"fEntries\":35,\"fTsumw\":0,\"fTsumw2\":0,\"fTsumwx\":0,\"fTsumwx2\":0,\"fMaximum\":1.1,\"fMinimum\":0,\"fNormFactor\":0,\"fContour\":[],\"fSumw2\":[0,0,4.31918806908597e-4,3.79464054332524e-4,2.73969846824162e-4,2.33565421043656e-4,1.93980433417698e-4,1.83843338964397e-4,1.90491483938805e-4,1.6724010216682e-4,1.93437965260871e-4,1.83814804478787e-4,1.89136555105829e-4,2.07332099835778e-4,2.21010066714385e-4,2.27270378898764e-4,2.5061694234083e-4,2.48473085848868e-4,2.869181138063e-4,3.26408989324188e-4,3.56738893423185e-4,3.49741909609613e-4,4.28845223814684e-4,4.35924423701188e-4,4.83542318147566e-4,4.99074082462876e-4,5.60087316176471e-4,6.32797546141063e-4,7.05611679614903e-4,9.24469379373706e-4,6.93865754262165e-4,0.00116019199505615,0.00103564023273744,0.00120680555976927,0.00111262836547576,2.10129175609882e-4,0],\"fOption\":\"\",\"fFunctions\":{\"_typename\":\"TList\",\"name\":\"TList\",\"arr\":[],\"opt\":[]},\"fBufferSize\":0,\"fBuffer\":[],\"fBinStatErrOpt\":0,\"fArray\":[0,0,0.04761905,0.1741425,0.2302937,0.2902494,0.2829828,0.2691589,0.3070725,0.2935484,0.3001842,0.2604962,0.2591133,0.2747138,0.2520516,0.2490887,0.2459459,0.2175183,0.1963636,0.2236842,0.1991051,0.2164948,0.2300242,0.1978022,0.2115942,0.1833333,0.1875,0.1918367,0.199115,0.2045455,0.09166667,0.176,0.1339286,0.1889764,0.1538462,0.1388401,0]},{\"_typename\":\"TH1F\",\"fUniqueID\":0,\"fBits\":50332168,\"fName\":\"h_nue_1p_eff\",\"fTitle\":\"Neutrino Energy Distribution\",\"fLineColor\":600,\"fLineStyle\":1,\"fLineWidth\":1,\"fFillColor\":600,\"fFillStyle\":1001,\"fMarkerColor\":600,\"fMarkerStyle\":8,\"fMarkerSize\":1,\"fNcells\":37,\"fXaxis\":{\"_typename\":\"TAxis\",\"fUniqueID\":0,\"fBits\":50331648,\"fName\":\"xaxis\",\"fTitle\":\"E_{#nu}\",\"fNdivisions\":510,\"fAxisColor\":1,\"fLabelColor\":1,\"fLabelFont\":42,\"fLabelOffset\":0.005,\"fLabelSize\":0.035,\"fTickLength\":0.03,\"fTitleOffset\":1,\"fTitleSize\":0.035,\"fTitleColor\":1,\"fTitleFont\":42,\"fNbins\":35,\"fXmin\":0,\"fXmax\":3.5,\"fXbins\":[],\"fFirst\":0,\"fLast\":0,\"fBits2\":0,\"fTimeDisplay\":false,\"fTimeFormat\":\"\",\"fLabels\":null,\"fModLabs\":null},\"fYaxis\":{\"_typename\":\"TAxis\",\"fUniqueID\":0,\"fBits\":50331648,\"fName\":\"yaxis\",\"fTitle\":\"Efficiency\",\"fNdivisions\":510,\"fAxisColor\":1,\"fLabelColor\":1,\"fLabelFont\":42,\"fLabelOffset\":0.005,\"fLabelSize\":0.035,\"fTickLength\":0.03,\"fTitleOffset\":0,\"fTitleSize\":0.035,\"fTitleColor\":1,\"fTitleFont\":42,\"fNbins\":1,\"fXmin\":0,\"fXmax\":1,\"fXbins\":[],\"fFirst\":0,\"fLast\":0,\"fBits2\":0,\"fTimeDisplay\":false,\"fTimeFormat\":\"\",\"fLabels\":null,\"fModLabs\":null},\"fZaxis\":{\"_typename\":\"TAxis\",\"fUniqueID\":0,\"fBits\":50331648,\"fName\":\"zaxis\",\"fTitle\":\"\",\"fNdivisions\":510,\"fAxisColor\":1,\"fLabelColor\":1,\"fLabelFont\":42,\"fLabelOffset\":0.005,\"fLabelSize\":0.035,\"fTickLength\":0.03,\"fTitleOffset\":1,\"fTitleSize\":0.035,\"fTitleColor\":1,\"fTitleFont\":42,\"fNbins\":1,\"fXmin\":0,\"fXmax\":1,\"fXbins\":[],\"fFirst\":0,\"fLast\":0,\"fBits2\":0,\"fTimeDisplay\":false,\"fTimeFormat\":\"\",\"fLabels\":null,\"fModLabs\":null},\"fBarOffset\":0,\"fBarWidth\":1000,\"fEntries\":35,\"fTsumw\":0,\"fTsumw2\":0,\"fTsumwx\":0,\"fTsumwx2\":0,\"fMaximum\":-1111,\"fMinimum\":-1111,\"fNormFactor\":0,\"fContour\":[],\"fSumw2\":[0,0.0291545197324224,0.0023185401218986,6.47686252086305e-4,3.84692035314293e-4,2.82974498037795e-4,2.34600983404281e-4,2.29413172824372e-4,2.14241750122535e-4,1.85366382696034e-4,2.09712646686095e-4,2.15182573989362e-4,2.17518126156978e-4,2.13024471166953e-4,2.42890338553004e-4,2.29476876047354e-4,2.6567775645082e-4,2.65833593707972e-4,3.43374903746962e-4,3.55950299075958e-4,3.77273048714474e-4,3.49741909609613e-4,4.02611982613956e-4,4.58214126788436e-4,3.99769856493387e-4,4.99074082462876e-4,5.25501143850186e-4,5.46302965525741e-4,6.05812454656518e-4,7.81947046369286e-4,0.00115740743500215,9.40032043045043e-4,0.00114952511345539,7.23497530927074e-4,0.0010614299837745,1.98838344017416e-4,0],\"fOption\":\"\",\"fFunctions\":{\"_typename\":\"TList\",\"name\":\"TList\",\"arr\":[],\"opt\":[]},\"fBufferSize\":0,\"fBuffer\":[],\"fBinStatErrOpt\":0,\"fArray\":[0,0.2857143,0.4190476,0.4327177,0.4667697,0.4795918,0.4321224,0.4327103,0.396598,0.3580645,0.3508287,0.3435115,0.329064,0.2872008,0.2930833,0.2527339,0.2689189,0.2394161,0.2527273,0.2537594,0.2147651,0.2164948,0.2106538,0.2115385,0.1652174,0.1833333,0.1727941,0.1591837,0.1637168,0.1647727,0.1666667,0.136,0.1517857,0.1023622,0.1452992,0.1300527,0]},{\"_typename\":\"TH1F\",\"fUniqueID\":0,\"fBits\":50332168,\"fName\":\"h_nue_0p_eff\",\"fTitle\":\"Neutrino Energy Distribution\",\"fLineColor\":807,\"fLineStyle\":1,\"fLineWidth\":1,\"fFillColor\":807,\"fFillStyle\":1001,\"fMarkerColor\":807,\"fMarkerStyle\":8,\"fMarkerSize\":1,\"fNcells\":37,\"fXaxis\":{\"_typename\":\"TAxis\",\"fUniqueID\":0,\"fBits\":50331648,\"fName\":\"xaxis\",\"fTitle\":\"E_{#nu}\",\"fNdivisions\":510,\"fAxisColor\":1,\"fLabelColor\":1,\"fLabelFont\":42,\"fLabelOffset\":0.005,\"fLabelSize\":0.035,\"fTickLength\":0.03,\"fTitleOffset\":1,\"fTitleSize\":0.035,\"fTitleColor\":1,\"fTitleFont\":42,\"fNbins\":35,\"fXmin\":0,\"fXmax\":3.5,\"fXbins\":[],\"fFirst\":0,\"fLast\":0,\"fBits2\":0,\"fTimeDisplay\":false,\"fTimeFormat\":\"\",\"fLabels\":null,\"fModLabs\":null},\"fYaxis\":{\"_typename\":\"TAxis\",\"fUniqueID\":0,\"fBits\":50331648,\"fName\":\"yaxis\",\"fTitle\":\"Efficiency\",\"fNdivisions\":510,\"fAxisColor\":1,\"fLabelColor\":1,\"fLabelFont\":42,\"fLabelOffset\":0.005,\"fLabelSize\":0.035,\"fTickLength\":0.03,\"fTitleOffset\":0,\"fTitleSize\":0.035,\"fTitleColor\":1,\"fTitleFont\":42,\"fNbins\":1,\"fXmin\":0,\"fXmax\":1,\"fXbins\":[],\"fFirst\":0,\"fLast\":0,\"fBits2\":0,\"fTimeDisplay\":false,\"fTimeFormat\":\"\",\"fLabels\":null,\"fModLabs\":null},\"fZaxis\":{\"_typename\":\"TAxis\",\"fUniqueID\":0,\"fBits\":50331648,\"fName\":\"zaxis\",\"fTitle\":\"\",\"fNdivisions\":510,\"fAxisColor\":1,\"fLabelColor\":1,\"fLabelFont\":42,\"fLabelOffset\":0.005,\"fLabelSize\":0.035,\"fTickLength\":0.03,\"fTitleOffset\":1,\"fTitleSize\":0.035,\"fTitleColor\":1,\"fTitleFont\":42,\"fNbins\":1,\"fXmin\":0,\"fXmax\":1,\"fXbins\":[],\"fFirst\":0,\"fLast\":0,\"fBits2\":0,\"fTimeDisplay\":false,\"fTimeFormat\":\"\",\"fLabels\":null,\"fModLabs\":null},\"fBarOffset\":0,\"fBarWidth\":1000,\"fEntries\":35,\"fTsumw\":0,\"fTsumw2\":0,\"fTsumwx\":0,\"fTsumwx2\":0,\"fMaximum\":-1111,\"fMinimum\":-1111,\"fNormFactor\":0,\"fContour\":[],\"fSumw2\":[0,0.0291545179077904,0.00237037035270973,6.27994826273231e-4,3.1247228840911e-4,1.62559822716733e-4,1.46712122914479e-4,1.13902942525144e-4,9.99391143619417e-5,8.91790925918247e-5,8.17856265708501e-5,9.25055689997236e-5,7.39768584324942e-5,8.47883817323945e-5,9.28799741881832e-5,9.70002691450302e-5,9.45254948382985e-5,1.07803169148338e-4,1.39347862075452e-4,1.06263739745696e-4,1.09187046291526e-4,1.12162846942197e-4,1.68102779923461e-4,2.01436732175532e-4,1.43338537324615e-4,1.78185190616934e-4,2.15418198529412e-4,1.90124861988055e-4,2.57121609310427e-4,4.42974916321682e-4,4.57754631457781e-4,5.34527978775024e-4,4.5269224185187e-4,6.73702132557994e-4,4.80765329651123e-4,6.2468782946155e-5,0],\"fOption\":\"\",\"fFunctions\":{\"_typename\":\"TList\",\"name\":\"TList\",\"arr\":[],\"opt\":[]},\"fBufferSize\":0,\"fBuffer\":[],\"fBinStatErrOpt\":0,\"fArray\":[0,0.7142857,0.5333334,0.3905013,0.2812983,0.1734694,0.1892926,0.1420561,0.1280215,0.1266129,0.0985267,0.1087786,0.0817734,0.08949012,0.08675264,0.08748481,0.07567567,0.08029197,0.08363637,0.06015038,0.05145414,0.05773196,0.07506053,0.07967033,0.05217391,0.05666667,0.0625,0.04897959,0.0619469,0.08522727,0.05833333,0.072,0.05357143,0.09448819,0.05982906,0.03690685,0]},{\"_typename\":\"TH1F\",\"fUniqueID\":0,\"fBits\":50332168,\"fName\":\"h_nue_Npi_eff\",\"fTitle\":\"Neutrino Energy Distribution\",\"fLineColor\":418,\"fLineStyle\":1,\"fLineWidth\":1,\"fFillColor\":418,\"fFillStyle\":1001,\"fMarkerColor\":418,\"fMarkerStyle\":8,\"fMarkerSize\":1,\"fNcells\":37,\"fXaxis\":{\"_typename\":\"TAxis\",\"fUniqueID\":0,\"fBits\":50331648,\"fName\":\"xaxis\",\"fTitle\":\"E_{#nu}\",\"fNdivisions\":510,\"fAxisColor\":1,\"fLabelColor\":1,\"fLabelFont\":42,\"fLabelOffset\":0.005,\"fLabelSize\":0.035,\"fTickLength\":0.03,\"fTitleOffset\":1,\"fTitleSize\":0.035,\"fTitleColor\":1,\"fTitleFont\":42,\"fNbins\":35,\"fXmin\":0,\"fXmax\":3.5,\"fXbins\":[],\"fFirst\":0,\"fLast\":0,\"fBits2\":0,\"fTimeDisplay\":false,\"fTimeFormat\":\"\",\"fLabels\":null,\"fModLabs\":null},\"fYaxis\":{\"_typename\":\"TAxis\",\"fUniqueID\":0,\"fBits\":50331648,\"fName\":\"yaxis\",\"fTitle\":\"Efficiency\",\"fNdivisions\":510,\"fAxisColor\":1,\"fLabelColor\":1,\"fLabelFont\":42,\"fLabelOffset\":0.005,\"fLabelSize\":0.035,\"fTickLength\":0.03,\"fTitleOffset\":0,\"fTitleSize\":0.035,\"fTitleColor\":1,\"fTitleFont\":42,\"fNbins\":1,\"fXmin\":0,\"fXmax\":1,\"fXbins\":[],\"fFirst\":0,\"fLast\":0,\"fBits2\":0,\"fTimeDisplay\":false,\"fTimeFormat\":\"\",\"fLabels\":null,\"fModLabs\":null},\"fZaxis\":{\"_typename\":\"TAxis\",\"fUniqueID\":0,\"fBits\":50331648,\"fName\":\"zaxis\",\"fTitle\":\"\",\"fNdivisions\":510,\"fAxisColor\":1,\"fLabelColor\":1,\"fLabelFont\":42,\"fLabelOffset\":0.005,\"fLabelSize\":0.035,\"fTickLength\":0.03,\"fTitleOffset\":1,\"fTitleSize\":0.035,\"fTitleColor\":1,\"fTitleFont\":42,\"fNbins\":1,\"fXmin\":0,\"fXmax\":1,\"fXbins\":[],\"fFirst\":0,\"fLast\":0,\"fBits2\":0,\"fTimeDisplay\":false,\"fTimeFormat\":\"\",\"fLabels\":null,\"fModLabs\":null},\"fBarOffset\":0,\"fBarWidth\":1000,\"fEntries\":35,\"fTsumw\":0,\"fTsumw2\":0,\"fTsumwx\":0,\"fTsumwx2\":0,\"fMaximum\":-1111,\"fMinimum\":-1111,\"fNormFactor\":0,\"fContour\":[],\"fSumw2\":[0,0,0,6.94343201686502e-6,2.58307457842128e-5,4.67433972720419e-5,6.28496607699974e-5,9.77606480194185e-5,1.00534659317469e-4,1.07322680392353e-4,1.37812056274646e-4,1.57199344853156e-4,1.71597692169701e-4,1.87737815355515e-4,2.16862801455256e-4,2.44018315413773e-4,2.70652783013396e-4,3.06994801988247e-4,3.79149500972252e-4,3.69445796464402e-4,4.97141444146737e-4,4.6006401929394e-4,5.26538458112683e-4,5.96493241000094e-4,6.69692461371657e-4,7.21296291439621e-4,8.39609209559562e-4,9.24784757770599e-4,9.06596245016635e-4,0.00126619290355467,0.00207407407517786,0.00193228798876953,0.00207199231156694,0.00176334207774598,0.00192306133928694,4.27629986918536e-4,0],\"fOption\":\"\",\"fFunctions\":{\"_typename\":\"TList\",\"name\":\"TList\",\"arr\":[],\"opt\":[]},\"fBufferSize\":0,\"fBuffer\":[],\"fBinStatErrOpt\":0,\"fArray\":[0,0,0,0.002638523,0.01700155,0.0430839,0.0707457,0.1186916,0.1289167,0.1580645,0.1832412,0.2080153,0.2246305,0.2362123,0.2450176,0.2782503,0.277027,0.3007299,0.2963636,0.268797,0.3333333,0.3360825,0.3196126,0.3186813,0.3623188,0.3166667,0.3529412,0.3469388,0.2876106,0.3352273,0.4666667,0.408,0.3660714,0.3385827,0.3418804,0.4182777,0]},{\"_typename\":\"TH1F\",\"fUniqueID\":0,\"fBits\":50332168,\"fName\":\"h_nue_Npi0_eff\",\"fTitle\":\"Neutrino Energy Distribution\",\"fLineColor\":602,\"fLineStyle\":1,\"fLineWidth\":1,\"fFillColor\":416,\"fFillStyle\":1001,\"fMarkerColor\":416,\"fMarkerStyle\":8,\"fMarkerSize\":1,\"fNcells\":37,\"fXaxis\":{\"_typename\":\"TAxis\",\"fUniqueID\":0,\"fBits\":50331648,\"fName\":\"xaxis\",\"fTitle\":\"E_{#nu}\",\"fNdivisions\":510,\"fAxisColor\":1,\"fLabelColor\":1,\"fLabelFont\":42,\"fLabelOffset\":0.005,\"fLabelSize\":0.035,\"fTickLength\":0.03,\"fTitleOffset\":1,\"fTitleSize\":0.035,\"fTitleColor\":1,\"fTitleFont\":42,\"fNbins\":35,\"fXmin\":0,\"fXmax\":3.5,\"fXbins\":[],\"fFirst\":0,\"fLast\":0,\"fBits2\":0,\"fTimeDisplay\":false,\"fTimeFormat\":\"\",\"fLabels\":null,\"fModLabs\":null},\"fYaxis\":{\"_typename\":\"TAxis\",\"fUniqueID\":0,\"fBits\":50331648,\"fName\":\"yaxis\",\"fTitle\":\"Efficiency\",\"fNdivisions\":510,\"fAxisColor\":1,\"fLabelColor\":1,\"fLabelFont\":42,\"fLabelOffset\":0.005,\"fLabelSize\":0.035,\"fTickLength\":0.03,\"fTitleOffset\":0,\"fTitleSize\":0.035,\"fTitleColor\":1,\"fTitleFont\":42,\"fNbins\":1,\"fXmin\":0,\"fXmax\":1,\"fXbins\":[],\"fFirst\":0,\"fLast\":0,\"fBits2\":0,\"fTimeDisplay\":false,\"fTimeFormat\":\"\",\"fLabels\":null,\"fModLabs\":null},\"fZaxis\":{\"_typename\":\"TAxis\",\"fUniqueID\":0,\"fBits\":50331648,\"fName\":\"zaxis\",\"fTitle\":\"\",\"fNdivisions\":510,\"fAxisColor\":1,\"fLabelColor\":1,\"fLabelFont\":42,\"fLabelOffset\":0.005,\"fLabelSize\":0.035,\"fTickLength\":0.03,\"fTitleOffset\":1,\"fTitleSize\":0.035,\"fTitleColor\":1,\"fTitleFont\":42,\"fNbins\":1,\"fXmin\":0,\"fXmax\":1,\"fXbins\":[],\"fFirst\":0,\"fLast\":0,\"fBits2\":0,\"fTimeDisplay\":false,\"fTimeFormat\":\"\",\"fLabels\":null,\"fModLabs\":null},\"fBarOffset\":0,\"fBarWidth\":1000,\"fEntries\":35,\"fTsumw\":0,\"fTsumw2\":0,\"fTsumwx\":0,\"fTsumwx2\":0,\"fMaximum\":-1111,\"fMinimum\":-1111,\"fNormFactor\":0,\"fContour\":[],\"fSumw2\":[0,0,0,0,7.13336204047017e-6,1.52157980145859e-5,2.31727980511576e-5,3.36314715043205e-5,3.38760593524718e-5,4.81054463030921e-5,5.77354866577391e-5,6.95859486667186e-5,9.29119339523402e-5,1.03801258851136e-4,1.26544656051545e-4,1.39612786083024e-4,1.55262273252205e-4,1.98227158386801e-4,2.57634862109112e-4,2.93467242336768e-4,3.59739528142029e-4,2.9525581345307e-4,3.33025770818907e-4,4.26718257975614e-4,4.78671813709423e-4,6.41333318074544e-4,6.39595773816791e-4,7.71515291086058e-4,9.06596245016635e-4,9.4336228751998e-4,0.00141435186123406,0.00131788802005005,0.00185561113727466,0.00157197160475649,0.00179194353806652,3.51123650770677e-4,0],\"fOption\":\"\",\"fFunctions\":{\"_typename\":\"TList\",\"name\":\"TList\",\"arr\":[],\"opt\":[]},\"fBufferSize\":0,\"fBuffer\":[],\"fBinStatErrOpt\":0,\"fArray\":[0,0,0,0,0.004636785,0.01360544,0.0248566,0.03738318,0.03939123,0.06370968,0.06721915,0.07919847,0.1054187,0.1123829,0.123095,0.1324423,0.1324324,0.1620438,0.1709091,0.193609,0.2013423,0.1731959,0.1646489,0.1923077,0.2086957,0.26,0.2242647,0.2530612,0.2876106,0.2102273,0.2166667,0.208,0.2946429,0.2755905,0.2991453,0.2759227,0]},{\"_typename\":\"TLegend\",\"fUniqueID\":0,\"fBits\":50331656,\"fLineColor\":1,\"fLineStyle\":1,\"fLineWidth\":1,\"fFillColor\":0,\"fFillStyle\":1001,\"fX1\":2.62500001303852,\"fY1\":0.82500000409782,\"fX2\":3.50000002607703,\"fY2\":1.10000000819564,\"fX1NDC\":0.7,\"fY1NDC\":0.7,\"fX2NDC\":0.9,\"fY2NDC\":0.9,\"fBorderSize\":1,\"fInit\":1,\"fShadowColor\":1,\"fCornerRadius\":0,\"fOption\":\"brNDC\",\"fName\":\"TPave\",\"fTextAngle\":0,\"fTextSize\":0,\"fTextAlign\":12,\"fTextColor\":1,\"fTextFont\":42,\"fPrimitives\":{\"_typename\":\"TList\",\"name\":\"TList\",\"arr\":[{\"_typename\":\"TLegendEntry\",\"fUniqueID\":0,\"fBits\":50331656,\"fTextAngle\":0,\"fTextSize\":0,\"fTextAlign\":0,\"fTextColor\":0,\"fTextFont\":42,\"fLineColor\":602,\"fLineStyle\":1,\"fLineWidth\":1,\"fFillColor\":0,\"fFillStyle\":0,\"fMarkerColor\":416,\"fMarkerStyle\":8,\"fMarkerSize\":1,\"fObject\":{\"$ref\":23},\"fLabel\":\"#nu_{e} 1e,Np,N#pi^{#pm},N#pi^{0}\",\"fOption\":\"lp\"},{\"_typename\":\"TLegendEntry\",\"fUniqueID\":0,\"fBits\":50331656,\"fTextAngle\":0,\"fTextSize\":0,\"fTextAlign\":0,\"fTextColor\":0,\"fTextFont\":42,\"fLineColor\":418,\"fLineStyle\":1,\"fLineWidth\":1,\"fFillColor\":0,\"fFillStyle\":0,\"fMarkerColor\":418,\"fMarkerStyle\":8,\"fMarkerSize\":1,\"fObject\":{\"$ref\":18},\"fLabel\":\"#nu_{e} 1e,Np,N#pi^{#pm},0#pi^{0}\",\"fOption\":\"lp\"},{\"_typename\":\"TLegendEntry\",\"fUniqueID\":0,\"fBits\":50331656,\"fTextAngle\":0,\"fTextSize\":0,\"fTextAlign\":0,\"fTextColor\":0,\"fTextFont\":42,\"fLineColor\":432,\"fLineStyle\":1,\"fLineWidth\":1,\"fFillColor\":0,\"fFillStyle\":0,\"fMarkerColor\":432,\"fMarkerStyle\":8,\"fMarkerSize\":1,\"fObject\":{\"$ref\":3},\"fLabel\":\"#nu_{e} 1e,>1p,0#pi\",\"fOption\":\"lp\"},{\"_typename\":\"TLegendEntry\",\"fUniqueID\":0,\"fBits\":50331656,\"fTextAngle\":0,\"fTextSize\":0,\"fTextAlign\":0,\"fTextColor\":0,\"fTextFont\":42,\"fLineColor\":600,\"fLineStyle\":1,\"fLineWidth\":1,\"fFillColor\":0,\"fFillStyle\":0,\"fMarkerColor\":600,\"fMarkerStyle\":8,\"fMarkerSize\":1,\"fObject\":{\"$ref\":8},\"fLabel\":\"#nu_{e} 1e,1p,0#pi\",\"fOption\":\"lp\"},{\"_typename\":\"TLegendEntry\",\"fUniqueID\":0,\"fBits\":50331656,\"fTextAngle\":0,\"fTextSize\":0,\"fTextAlign\":0,\"fTextColor\":0,\"fTextFont\":42,\"fLineColor\":807,\"fLineStyle\":1,\"fLineWidth\":1,\"fFillColor\":0,\"fFillStyle\":0,\"fMarkerColor\":807,\"fMarkerStyle\":8,\"fMarkerSize\":1,\"fObject\":{\"$ref\":13},\"fLabel\":\"#nu_{e} 1e,0p,0#pi\",\"fOption\":\"lp\"}],\"opt\":[\"lp\",\"lp\",\"lp\",\"lp\",\"lp\"]},\"fEntrySeparation\":0.1,\"fMargin\":0.25,\"fNColumns\":1,\"fColumnSeparation\":0},{\"_typename\":\"TPaveText\",\"fUniqueID\":0,\"fBits\":50331657,\"fLineColor\":1,\"fLineStyle\":1,\"fLineWidth\":1,\"fFillColor\":0,\"fFillStyle\":0,\"fX1\":0.678502139205851,\"fY1\":1.14672671036369,\"fX2\":2.82149786079415,\"fY2\":1.23062501669861,\"fX1NDC\":0.255086206896552,\"fY1NDC\":0.933983055615829,\"fX2NDC\":0.744913793103448,\"fY2NDC\":0.995000004768372,\"fBorderSize\":0,\"fInit\":1,\"fShadowColor\":1,\"fCornerRadius\":0,\"fOption\":\"blNDC\",\"fName\":\"title\",\"fTextAngle\":0,\"fTextSize\":0,\"fTextAlign\":22,\"fTextColor\":1,\"fTextFont\":42,\"fLabel\":\"\",\"fLongest\":28,\"fMargin\":0.05,\"fLines\":{\"_typename\":\"TList\",\"name\":\"TList\",\"arr\":[{\"_typename\":\"TLatex\",\"fUniqueID\":0,\"fBits\":50331648,\"fName\":\"\",\"fTitle\":\"Neutrino Energy Distribution\",\"fTextAngle\":0,\"fTextSize\":0,\"fTextAlign\":0,\"fTextColor\":0,\"fTextFont\":0,\"fX\":0,\"fY\":0,\"fLineColor\":1,\"fLineStyle\":1,\"fLineWidth\":2,\"fLimitFactorSize\":3,\"fOriginSize\":0.0518644079566002}],\"opt\":[\"\"]}}],\"opt\":[\"\",\"e\",\"esame\",\"esame\",\"esame\",\"esame\",\"\",\"blNDC\"]},\"fExecs\":null,\"fName\":\"c2\",\"fTitle\":\"Canvas2\",\"fNumPaletteColor\":0,\"fNextPaletteColor\":0,\"fDISPLAY\":\"$DISPLAY\",\"fDoubleBuffer\":0,\"fRetained\":true,\"fXsizeUser\":0,\"fYsizeUser\":0,\"fXsizeReal\":20,\"fYsizeReal\":14.28571,\"fWindowTopX\":0,\"fWindowTopY\":0,\"fWindowWidth\":0,\"fWindowHeight\":0,\"fCw\":696,\"fCh\":472,\"fCatt\":{\"_typename\":\"TAttCanvas\",\"fXBetween\":2,\"fYBetween\":2,\"fTitleFromTop\":1.2,\"fXdate\":0.2,\"fYdate\":0.3,\"fAdate\":1},\"kMoveOpaque\":true,\"kResizeOpaque\":true,\"fHighLightColor\":2,\"fBatch\":true,\"kShowEventStatus\":false,\"kAutoExec\":true,\"kMenuBar\":true});\n",
       "       Core.draw(\"root_plot_3\", obj, \"\");\n",
       "     }\n",
       " );\n",
       "</script>\n"
      ],
      "text/plain": [
       "<IPython.core.display.HTML object>"
      ]
     },
     "metadata": {},
     "output_type": "display_data"
    }
   ],
   "source": [
    "c2 = ROOT.TCanvas(\"c2\",\"Canvas2\");\n",
    "c2.cd();\n",
    "h_nue_Np_eff.SetMaximum(1.1); h_nue_Np_eff.SetMinimum(0.0);\n",
    "h_nue_Np_eff.Draw(\"e\");\n",
    "h_nue_1p_eff.Draw(\"esame\");\n",
    "h_nue_0p_eff.Draw(\"esame\");\n",
    "h_nue_Npi_eff.Draw(\"esame\");\n",
    "h_nue_Npi0_eff.Draw(\"esame\");\n",
    "leg2 = ROOT.TLegend(0.7,0.7,0.9,0.9);\n",
    "leg2.AddEntry(h_nue_Npi0_eff,\"#nu_{e} 1e,Np,N#pi^{#pm},N#pi^{0}\",\"lp\");\n",
    "leg2.AddEntry(h_nue_Npi_eff,\"#nu_{e} 1e,Np,N#pi^{#pm},0#pi^{0}\",\"lp\");\n",
    "leg2.AddEntry(h_nue_Np_eff,\"#nu_{e} 1e,>1p,0#pi\",\"lp\");\n",
    "leg2.AddEntry(h_nue_1p_eff,\"#nu_{e} 1e,1p,0#pi\",\"lp\");\n",
    "leg2.AddEntry(h_nue_0p_eff,\"#nu_{e} 1e,0p,0#pi\",\"lp\");\n",
    "leg2.Draw();\n",
    "c2.Draw()"
   ]
  },
  {
   "cell_type": "code",
   "execution_count": 17,
   "metadata": {},
   "outputs": [],
   "source": [
    "h_nue_st1 = ROOT.THStack(\"h_nue_st1\",\"Neutrino Energy Distribution;E_{#nu};Fraction of Events\");\n",
    "h_nue_st1.Add(h_nue_0p_eff);\n",
    "h_nue_st1.Add(h_nue_1p_eff);\n",
    "h_nue_st1.Add(h_nue_Np_eff);\n",
    "h_nue_st1.Add(h_nue_Npi_eff);\n",
    "h_nue_st1.Add(h_nue_Npi0_eff);"
   ]
  },
  {
   "cell_type": "code",
   "execution_count": 21,
   "metadata": {},
   "outputs": [
    {
     "name": "stderr",
     "output_type": "stream",
     "text": [
      "Warning in <TCanvas::Constructor>: Deleting canvas with same name: c3\n"
     ]
    },
    {
     "data": {
      "image/png": "[encoded data removed]",
      "text/plain": [
       "<IPython.core.display.Image object>"
      ]
     },
     "metadata": {},
     "output_type": "display_data"
    }
   ],
   "source": [
    "ROOT.disableJSVis()\n",
    "c3 = ROOT.TCanvas(\"c3\",\"MyCanvas\")\n",
    "c3.cd()\n",
    "h_nue_st1.Draw(\"HIST\")\n",
    "#leg0 = ROOT.TLegend(0.7,0.7,0.9,0.9)\n",
    "#leg0.AddEntry(h_nue_cc,\"#nu_{e} CC\",\"f\")\n",
    "#leg0.AddEntry(h_nue_nc,\"#nu_{e} NC\",\"f\")\n",
    "#leg0.Draw();\n",
    "leg2.Draw()\n",
    "c3.Draw()"
   ]
  },
  {
   "cell_type": "code",
   "execution_count": 20,
   "metadata": {},
   "outputs": [
    {
     "name": "stderr",
     "output_type": "stream",
     "text": [
      "Warning in <TFile::Append>: Replacing existing TH1: hp_nue_pke (Potential memory leak).\n",
      "Warning in <TCanvas::Constructor>: Deleting canvas with same name: c4\n"
     ]
    },
    {
     "data": {
      "text/html": [
       "\n",
       "<div id=\"root_plot_6\"\n",
       "     style=\"width: 696px; height: 472px\">\n",
       "</div>\n",
       "\n",
       "<script>\n",
       " requirejs.config({\n",
       "     paths: {\n",
       "       'JSRootCore' : 'https://root.cern.ch/js/notebook//scripts/JSRootCore',\n",
       "     }\n",
       "   });\n",
       " require(['JSRootCore'],\n",
       "     function(Core) {\n",
       "       var obj = Core.JSONR_unref({\"_typename\":\"TCanvas\",\"fUniqueID\":0,\"fBits\":53673992,\"fLineColor\":1,\"fLineStyle\":1,\"fLineWidth\":1,\"fFillColor\":0,\"fFillStyle\":1001,\"fLeftMargin\":0.1,\"fRightMargin\":0.1,\"fBottomMargin\":0.1,\"fTopMargin\":0.1,\"fXfile\":2,\"fYfile\":2,\"fAfile\":1,\"fXstat\":0.99,\"fYstat\":0.99,\"fAstat\":2,\"fFrameFillColor\":0,\"fFrameLineColor\":1,\"fFrameFillStyle\":1001,\"fFrameLineStyle\":1,\"fFrameLineWidth\":1,\"fFrameBorderSize\":1,\"fFrameBorderMode\":0,\"fX1\":-0.985843932933736,\"fY1\":-1.11792197578009,\"fX2\":0.985843932933736,\"fY2\":1.11792197578009,\"fXtoAbsPixelk\":348.00005,\"fXtoPixelk\":348.00005,\"fXtoPixel\":352.997049912758,\"fYtoAbsPixelk\":236.00005,\"fYtoPixelk\":236.00005,\"fYtoPixel\":-211.10596724366,\"fUtoAbsPixelk\":5e-5,\"fUtoPixelk\":5e-5,\"fUtoPixel\":696,\"fVtoAbsPixelk\":472.00005,\"fVtoPixelk\":472,\"fVtoPixel\":-472,\"fAbsPixeltoXk\":-0.985843932933736,\"fPixeltoXk\":-0.985843932933736,\"fPixeltoX\":0.00283288486475212,\"fAbsPixeltoYk\":1.11792197578009,\"fPixeltoYk\":-1.11792197578009,\"fPixeltoY\":-0.00473695752449193,\"fXlowNDC\":0,\"fYlowNDC\":0,\"fXUpNDC\":0,\"fYUpNDC\":0,\"fWNDC\":1,\"fHNDC\":1,\"fAbsXlowNDC\":0,\"fAbsYlowNDC\":0,\"fAbsWNDC\":1,\"fAbsHNDC\":1,\"fUxmin\":-0.788675134594813,\"fUymin\":-0.894337567297406,\"fUxmax\":0.788675134594813,\"fUymax\":0.894337567297406,\"fTheta\":30,\"fPhi\":30,\"fAspectRatio\":0,\"fNumber\":0,\"fTickx\":0,\"fTicky\":0,\"fLogx\":0,\"fLogy\":0,\"fLogz\":0,\"fPadPaint\":0,\"fCrosshair\":0,\"fCrosshairPos\":0,\"fBorderSize\":2,\"fBorderMode\":0,\"fModified\":false,\"fGridx\":false,\"fGridy\":false,\"fAbsCoord\":false,\"fEditable\":true,\"fFixedAspectRatio\":false,\"fPrimitives\":{\"_typename\":\"TList\",\"name\":\"TList\",\"arr\":[{\"_typename\":\"TH2F\",\"fUniqueID\":0,\"fBits\":50332168,\"fName\":\"\",\"fTitle\":\"max_proton_ke:nu_energy {ccnc==0 && n_lep>=0 && max_proton_ke>0}\",\"fLineColor\":602,\"fLineStyle\":1,\"fLineWidth\":1,\"fFillColor\":0,\"fFillStyle\":1001,\"fMarkerColor\":1,\"fMarkerStyle\":7,\"fMarkerSize\":1,\"fNcells\":204,\"fXaxis\":{\"_typename\":\"TAxis\",\"fUniqueID\":0,\"fBits\":50331648,\"fName\":\"xaxis\",\"fTitle\":\"\",\"fNdivisions\":510,\"fAxisColor\":1,\"fLabelColor\":1,\"fLabelFont\":42,\"fLabelOffset\":0.005,\"fLabelSize\":0.035,\"fTickLength\":0.03,\"fTitleOffset\":1,\"fTitleSize\":0.035,\"fTitleColor\":1,\"fTitleFont\":42,\"fNbins\":15,\"fXmin\":0,\"fXmax\":3,\"fXbins\":[],\"fFirst\":0,\"fLast\":0,\"fBits2\":0,\"fTimeDisplay\":false,\"fTimeFormat\":\"\",\"fLabels\":null,\"fModLabs\":null},\"fYaxis\":{\"_typename\":\"TAxis\",\"fUniqueID\":0,\"fBits\":50331648,\"fName\":\"yaxis\",\"fTitle\":\"\",\"fNdivisions\":510,\"fAxisColor\":1,\"fLabelColor\":1,\"fLabelFont\":42,\"fLabelOffset\":0.005,\"fLabelSize\":0.035,\"fTickLength\":0.03,\"fTitleOffset\":0,\"fTitleSize\":0.035,\"fTitleColor\":1,\"fTitleFont\":42,\"fNbins\":10,\"fXmin\":0,\"fXmax\":0.1,\"fXbins\":[],\"fFirst\":0,\"fLast\":0,\"fBits2\":0,\"fTimeDisplay\":false,\"fTimeFormat\":\"\",\"fLabels\":null,\"fModLabs\":null},\"fZaxis\":{\"_typename\":\"TAxis\",\"fUniqueID\":0,\"fBits\":50331648,\"fName\":\"zaxis\",\"fTitle\":\"\",\"fNdivisions\":510,\"fAxisColor\":1,\"fLabelColor\":1,\"fLabelFont\":42,\"fLabelOffset\":0.005,\"fLabelSize\":0.035,\"fTickLength\":0.03,\"fTitleOffset\":1,\"fTitleSize\":0.035,\"fTitleColor\":1,\"fTitleFont\":42,\"fNbins\":1,\"fXmin\":0,\"fXmax\":1,\"fXbins\":[],\"fFirst\":0,\"fLast\":0,\"fBits2\":0,\"fTimeDisplay\":false,\"fTimeFormat\":\"\",\"fLabels\":null,\"fModLabs\":null},\"fBarOffset\":0,\"fBarWidth\":1000,\"fEntries\":17289,\"fTsumw\":6951,\"fTsumw2\":6951,\"fTsumwx\":7620.91351152956,\"fTsumwx2\":11189.1701540033,\"fMaximum\":-1111,\"fMinimum\":-1111,\"fNormFactor\":0,\"fContour\":[1,8.55,16.1,23.65,31.2,38.75,46.3,53.85,61.4,68.95,76.5,84.05,91.6,99.15,106.7,114.25,121.8,129.35,136.9,144.45],\"fSumw2\":[],\"fOption\":\"\",\"fFunctions\":{\"_typename\":\"TList\",\"name\":\"TList\",\"arr\":[],\"opt\":[]},\"fBufferSize\":0,\"fBuffer\":[],\"fBinStatErrOpt\":0,\"fScalefactor\":1,\"fTsumwy\":309.658259175518,\"fTsumwy2\":19.2575124862289,\"fTsumwxy\":349.204349014971,\"fArray\":[0,0,0,0,0,0,0,0,0,0,0,0,0,0,0,0,0,0,29,114,129,101,103,73,51,44,39,22,30,21,15,12,8,17,0,12,122,152,134,118,97,85,45,45,31,31,24,21,13,8,23,0,13,82,124,113,119,88,76,65,46,36,26,21,15,12,7,17,0,10,78,115,107,113,80,81,56,44,37,29,21,19,13,10,35,0,9,62,101,96,104,79,67,54,32,27,30,22,17,12,10,32,0,7,54,88,92,77,98,57,55,32,25,20,16,12,10,4,29,0,4,56,69,69,86,78,47,48,53,30,15,18,10,17,11,25,0,1,41,74,83,74,71,58,47,39,18,15,14,11,12,4,25,0,2,48,72,77,44,66,44,48,25,35,28,11,7,15,3,19,0,2,36,61,65,79,60,47,46,16,19,15,10,18,16,9,22,0,3,232,831,1095,1232,1113,1029,891,716,592,539,440,325,261,165,630]},{\"_typename\":\"TPaveText\",\"fUniqueID\":0,\"fBits\":50331657,\"fLineColor\":1,\"fLineStyle\":1,\"fLineWidth\":1,\"fFillColor\":0,\"fFillStyle\":0,\"fX1\":-0.690090753053615,\"fY1\":0.970318389978261,\"fX2\":0.690090753053615,\"fY2\":1.10674276668363,\"fX1NDC\":0.15,\"fY1NDC\":0.933983055615829,\"fX2NDC\":0.85,\"fY2NDC\":0.995000004768372,\"fBorderSize\":0,\"fInit\":1,\"fShadowColor\":1,\"fCornerRadius\":0,\"fOption\":\"blNDC\",\"fName\":\"title\",\"fTextAngle\":0,\"fTextSize\":0,\"fTextAlign\":22,\"fTextColor\":1,\"fTextFont\":42,\"fLabel\":\"\",\"fLongest\":64,\"fMargin\":0.05,\"fLines\":{\"_typename\":\"TList\",\"name\":\"TList\",\"arr\":[{\"_typename\":\"TLatex\",\"fUniqueID\":0,\"fBits\":50331648,\"fName\":\"\",\"fTitle\":\"max_proton_ke:nu_energy {ccnc==0 && n_lep>=0 && max_proton_ke>0}\",\"fTextAngle\":0,\"fTextSize\":0,\"fTextAlign\":0,\"fTextColor\":0,\"fTextFont\":0,\"fX\":0,\"fY\":0,\"fLineColor\":1,\"fLineStyle\":1,\"fLineWidth\":2,\"fLimitFactorSize\":3,\"fOriginSize\":0.0518644079566002}],\"opt\":[\"\"]}}],\"opt\":[\"lego2\",\"blNDC\"]},\"fExecs\":null,\"fName\":\"c4\",\"fTitle\":\"MyCanvas\",\"fNumPaletteColor\":0,\"fNextPaletteColor\":0,\"fDISPLAY\":\"$DISPLAY\",\"fDoubleBuffer\":0,\"fRetained\":true,\"fXsizeUser\":0,\"fYsizeUser\":0,\"fXsizeReal\":20,\"fYsizeReal\":14.28571,\"fWindowTopX\":0,\"fWindowTopY\":0,\"fWindowWidth\":0,\"fWindowHeight\":0,\"fCw\":696,\"fCh\":472,\"fCatt\":{\"_typename\":\"TAttCanvas\",\"fXBetween\":2,\"fYBetween\":2,\"fTitleFromTop\":1.2,\"fXdate\":0.2,\"fYdate\":0.3,\"fAdate\":1},\"kMoveOpaque\":true,\"kResizeOpaque\":true,\"fHighLightColor\":2,\"fBatch\":true,\"kShowEventStatus\":false,\"kAutoExec\":true,\"kMenuBar\":true});\n",
       "       Core.draw(\"root_plot_6\", obj, \"\");\n",
       "     }\n",
       " );\n",
       "</script>\n"
      ],
      "text/plain": [
       "<IPython.core.display.HTML object>"
      ]
     },
     "metadata": {},
     "output_type": "display_data"
    }
   ],
   "source": [
    "hp_nue_pke = ROOT.TProfile(\"hp_nue_pke\",\";E_{#nu};p_{KE}\",NBINS,BINLOWEDGE,BINHIGHEDGE);\n",
    "hp_nue_pke.BuildOptions(0.0,1000,\"s\");\n",
    "ana.Project(\"hp_nue_pke\",\"max_proton_ke:nu_energy\",\"ccnc==0 && n_lep>=0\");\n",
    "c4 = ROOT.TCanvas(\"c4\",\"MyCanvas\")\n",
    "c4.cd()\n",
    "#hp_nue_pke.Draw();\n",
    "ana.Draw(\"max_proton_ke:nu_energy>>(15,0,3.0,10,0.0,0.1)\",\"ccnc==0 && n_lep>=0 && max_proton_ke>0\",\"LEGO2\")\n",
    "c4.Draw()"
   ]
  },
  {
   "cell_type": "code",
   "execution_count": null,
   "metadata": {},
   "outputs": [],
   "source": []
  }
 ],
 "metadata": {
  "kernelspec": {
   "display_name": "Python 2",
   "language": "python",
   "name": "python2"
  },
  "language_info": {
   "codemirror_mode": {
    "name": "ipython",
    "version": 2
   },
   "file_extension": ".py",
   "mimetype": "text/x-python",
   "name": "python",
   "nbconvert_exporter": "python",
   "pygments_lexer": "ipython2",
   "version": "2.7.14"
  }
 },
 "nbformat": 4,
 "nbformat_minor": 2
}
