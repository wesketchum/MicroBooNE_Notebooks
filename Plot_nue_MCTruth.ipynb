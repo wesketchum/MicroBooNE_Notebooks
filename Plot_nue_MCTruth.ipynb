{
 "cells": [
  {
   "cell_type": "code",
   "execution_count": 1,
   "metadata": {},
   "outputs": [
    {
     "name": "stdout",
     "output_type": "stream",
     "text": [
      "Welcome to JupyROOT 6.12/04\n"
     ]
    }
   ],
   "source": [
    "import ROOT\n",
    "ROOT.gStyle.SetOptStat(0)\n",
    "ROOT.enableJSVis()"
   ]
  },
  {
   "cell_type": "code",
   "execution_count": 2,
   "metadata": {},
   "outputs": [],
   "source": [
    "%%cpp -d\n",
    "#include \"common/My_ROOT_Utilities.h\""
   ]
  },
  {
   "cell_type": "code",
   "execution_count": 3,
   "metadata": {},
   "outputs": [],
   "source": [
    "f_in = ROOT.TFile(\"/uboone/data/users/wketchum/nue_mctruth_output_pke30.root\",\"READ\")\n",
    "ana = f_in.Get(\"ana\")"
   ]
  },
  {
   "cell_type": "code",
   "execution_count": 4,
   "metadata": {},
   "outputs": [],
   "source": [
    "NBINS = 35\n",
    "BINLOWEDGE=0.0\n",
    "BINHIGHEDGE=3.5"
   ]
  },
  {
   "cell_type": "code",
   "execution_count": 5,
   "metadata": {},
   "outputs": [],
   "source": [
    "h_nue = ROOT.TH1F(\"h_nue\",\"Neutrino Energy Distribution;E_{#nu};Events / 100 MeV\",NBINS,BINLOWEDGE,BINHIGHEDGE);\n",
    "h_nue_cc = ROOT.TH1F(\"h_nue_cc\",\"Neutrino Energy Distribution;E_{#nu};Events / 100 MeV\",NBINS,BINLOWEDGE,BINHIGHEDGE);\n",
    "h_nue_nc = ROOT.TH1F(\"h_nue_nc\",\"Neutrino Energy Distribution;E_{#nu};Events / 100 MeV\",NBINS,BINLOWEDGE,BINHIGHEDGE);"
   ]
  },
  {
   "cell_type": "code",
   "execution_count": 6,
   "metadata": {},
   "outputs": [],
   "source": [
    "ana.Project(\"h_nue\",\"nu_energy\",\"1\");\n",
    "ana.Project(\"h_nue_cc\",\"nu_energy\",\"ccnc==0\");\n",
    "ana.Project(\"h_nue_nc\",\"nu_energy\",\"ccnc==1\");"
   ]
  },
  {
   "cell_type": "code",
   "execution_count": 7,
   "metadata": {},
   "outputs": [],
   "source": [
    "h_nue_cc.SetLineColor(ROOT.kBlack)\n",
    "h_nue_cc.SetFillColor(ROOT.kRed)\n",
    "h_nue_nc.SetLineColor(ROOT.kBlack)\n",
    "h_nue_nc.SetFillColor(ROOT.kYellow)\n",
    "  \n",
    "ROOT.ShowUnderOverFlow(h_nue)\n",
    "ROOT.ShowUnderOverFlow(h_nue_cc)\n",
    "ROOT.ShowUnderOverFlow(h_nue_nc)"
   ]
  },
  {
   "cell_type": "code",
   "execution_count": 8,
   "metadata": {},
   "outputs": [],
   "source": [
    "h_nue_st0 = ROOT.THStack(\"h_nue_st0\",\"Neutrino Energy Distribution;E_{#nu};Events / 100 MeV\")\n",
    "h_nue_st0.Add(h_nue_cc)\n",
    "h_nue_st0.Add(h_nue_nc)"
   ]
  },
  {
   "cell_type": "code",
   "execution_count": 9,
   "metadata": {
    "scrolled": false
   },
   "outputs": [
    {
     "data": {
      "text/html": [
       "\n",
       "<div id=\"root_plot_1\"\n",
       "     style=\"width: 696px; height: 472px\">\n",
       "</div>\n",
       "\n",
       "<script>\n",
       " requirejs.config({\n",
       "     paths: {\n",
       "       'JSRootCore' : 'https://root.cern.ch/js/notebook//scripts/JSRootCore',\n",
       "     }\n",
       "   });\n",
       " require(['JSRootCore'],\n",
       "     function(Core) {\n",
       "       var obj = Core.JSONR_unref({\"_typename\":\"TCanvas\",\"fUniqueID\":0,\"fBits\":53673992,\"fLineColor\":1,\"fLineStyle\":1,\"fLineWidth\":1,\"fFillColor\":0,\"fFillStyle\":1001,\"fLeftMargin\":0.1,\"fRightMargin\":0.1,\"fBottomMargin\":0.1,\"fTopMargin\":0.1,\"fXfile\":2,\"fYfile\":2,\"fAfile\":1,\"fXstat\":0.99,\"fYstat\":0.99,\"fAstat\":2,\"fFrameFillColor\":0,\"fFrameLineColor\":1,\"fFrameFillStyle\":1001,\"fFrameLineStyle\":1,\"fFrameLineWidth\":1,\"fFrameBorderSize\":1,\"fFrameBorderMode\":0,\"fX1\":-0.437500032596292,\"fY1\":-209.737515626662,\"fX2\":3.93750003259629,\"fY2\":1887.63751562666,\"fXtoAbsPixelk\":69.6000541484835,\"fXtoPixelk\":69.6000541484835,\"fXtoPixel\":159.085711915152,\"fYtoAbsPixelk\":424.800047186661,\"fYtoPixelk\":424.800047186661,\"fYtoPixel\":-0.225043205419466,\"fUtoAbsPixelk\":5e-5,\"fUtoPixelk\":5e-5,\"fUtoPixel\":696,\"fVtoAbsPixelk\":472.00005,\"fVtoPixelk\":472,\"fVtoPixel\":-472,\"fAbsPixeltoXk\":-0.437500032596292,\"fPixeltoXk\":-0.437500032596292,\"fPixeltoX\":0.00628591963389739,\"fAbsPixeltoYk\":1887.63751562666,\"fPixeltoYk\":-209.737515626662,\"fPixeltoY\":-4.44359116790959,\"fXlowNDC\":0,\"fYlowNDC\":0,\"fXUpNDC\":0,\"fYUpNDC\":0,\"fWNDC\":1,\"fHNDC\":1,\"fAbsXlowNDC\":0,\"fAbsYlowNDC\":0,\"fAbsWNDC\":1,\"fAbsHNDC\":1,\"fUxmin\":0,\"fUymin\":0,\"fUxmax\":3.5,\"fUymax\":1677.9,\"fTheta\":30,\"fPhi\":30,\"fAspectRatio\":0,\"fNumber\":0,\"fTickx\":0,\"fTicky\":0,\"fLogx\":0,\"fLogy\":0,\"fLogz\":0,\"fPadPaint\":0,\"fCrosshair\":0,\"fCrosshairPos\":0,\"fBorderSize\":2,\"fBorderMode\":0,\"fModified\":false,\"fGridx\":false,\"fGridy\":false,\"fAbsCoord\":false,\"fEditable\":true,\"fFixedAspectRatio\":false,\"fPrimitives\":{\"_typename\":\"TList\",\"name\":\"TList\",\"arr\":[{\"_typename\":\"TFrame\",\"fUniqueID\":0,\"fBits\":50331656,\"fLineColor\":1,\"fLineStyle\":1,\"fLineWidth\":1,\"fFillColor\":0,\"fFillStyle\":1001,\"fX1\":0,\"fY1\":0,\"fX2\":3.5,\"fY2\":1677.9,\"fBorderSize\":1,\"fBorderMode\":0},{\"_typename\":\"THStack\",\"fUniqueID\":0,\"fBits\":50331656,\"fName\":\"h_nue_st0\",\"fTitle\":\"Neutrino Energy Distribution;E_{#nu};Events \\/ 100 MeV\",\"fHists\":{\"_typename\":\"TList\",\"name\":\"TList\",\"arr\":[{\"_typename\":\"TH1F\",\"fUniqueID\":0,\"fBits\":50332168,\"fName\":\"h_nue_cc\",\"fTitle\":\"Neutrino Energy Distribution\",\"fLineColor\":1,\"fLineStyle\":1,\"fLineWidth\":1,\"fFillColor\":632,\"fFillStyle\":1001,\"fMarkerColor\":1,\"fMarkerStyle\":1,\"fMarkerSize\":1,\"fNcells\":37,\"fXaxis\":{\"_typename\":\"TAxis\",\"fUniqueID\":0,\"fBits\":50331648,\"fName\":\"xaxis\",\"fTitle\":\"E_{#nu}\",\"fNdivisions\":510,\"fAxisColor\":1,\"fLabelColor\":1,\"fLabelFont\":42,\"fLabelOffset\":0.005,\"fLabelSize\":0.035,\"fTickLength\":0.03,\"fTitleOffset\":1,\"fTitleSize\":0.035,\"fTitleColor\":1,\"fTitleFont\":42,\"fNbins\":35,\"fXmin\":0,\"fXmax\":3.5,\"fXbins\":[],\"fFirst\":0,\"fLast\":0,\"fBits2\":0,\"fTimeDisplay\":false,\"fTimeFormat\":\"\",\"fLabels\":null,\"fModLabs\":null},\"fYaxis\":{\"_typename\":\"TAxis\",\"fUniqueID\":0,\"fBits\":50331648,\"fName\":\"yaxis\",\"fTitle\":\"Events \\/ 100 MeV\",\"fNdivisions\":510,\"fAxisColor\":1,\"fLabelColor\":1,\"fLabelFont\":42,\"fLabelOffset\":0.005,\"fLabelSize\":0.035,\"fTickLength\":0.03,\"fTitleOffset\":0,\"fTitleSize\":0.035,\"fTitleColor\":1,\"fTitleFont\":42,\"fNbins\":1,\"fXmin\":0,\"fXmax\":1,\"fXbins\":[],\"fFirst\":0,\"fLast\":0,\"fBits2\":0,\"fTimeDisplay\":false,\"fTimeFormat\":\"\",\"fLabels\":null,\"fModLabs\":null},\"fZaxis\":{\"_typename\":\"TAxis\",\"fUniqueID\":0,\"fBits\":50331648,\"fName\":\"zaxis\",\"fTitle\":\"\",\"fNdivisions\":510,\"fAxisColor\":1,\"fLabelColor\":1,\"fLabelFont\":42,\"fLabelOffset\":0.005,\"fLabelSize\":0.035,\"fTickLength\":0.03,\"fTitleOffset\":1,\"fTitleSize\":0.035,\"fTitleColor\":1,\"fTitleFont\":42,\"fNbins\":1,\"fXmin\":0,\"fXmax\":1,\"fXbins\":[],\"fFirst\":0,\"fLast\":0,\"fBits2\":0,\"fTimeDisplay\":false,\"fTimeFormat\":\"\",\"fLabels\":null,\"fModLabs\":null},\"fBarOffset\":0,\"fBarWidth\":1000,\"fEntries\":19233,\"fTsumw\":0,\"fTsumw2\":18749,\"fTsumwx\":24755.4379457757,\"fTsumwx2\":42840.8079001239,\"fMaximum\":-1111,\"fMinimum\":0,\"fNormFactor\":0,\"fContour\":[],\"fSumw2\":[],\"fOption\":\"\",\"fFunctions\":{\"_typename\":\"TList\",\"name\":\"TList\",\"arr\":[],\"opt\":[]},\"fBufferSize\":0,\"fBuffer\":[],\"fBinStatErrOpt\":0,\"fArray\":[0,7,105,379,647,882,1046,1070,1117,1240,1086,1048,1015,961,853,823,740,685,550,532,447,485,413,364,345,300,272,245,226,176,120,125,112,127,117,569,0]},{\"_typename\":\"TH1F\",\"fUniqueID\":0,\"fBits\":50332168,\"fName\":\"h_nue_nc\",\"fTitle\":\"Neutrino Energy Distribution\",\"fLineColor\":1,\"fLineStyle\":1,\"fLineWidth\":1,\"fFillColor\":400,\"fFillStyle\":1001,\"fMarkerColor\":1,\"fMarkerStyle\":1,\"fMarkerSize\":1,\"fNcells\":37,\"fXaxis\":{\"_typename\":\"TAxis\",\"fUniqueID\":0,\"fBits\":50331648,\"fName\":\"xaxis\",\"fTitle\":\"E_{#nu}\",\"fNdivisions\":510,\"fAxisColor\":1,\"fLabelColor\":1,\"fLabelFont\":42,\"fLabelOffset\":0.005,\"fLabelSize\":0.035,\"fTickLength\":0.03,\"fTitleOffset\":1,\"fTitleSize\":0.035,\"fTitleColor\":1,\"fTitleFont\":42,\"fNbins\":35,\"fXmin\":0,\"fXmax\":3.5,\"fXbins\":[],\"fFirst\":0,\"fLast\":0,\"fBits2\":0,\"fTimeDisplay\":false,\"fTimeFormat\":\"\",\"fLabels\":null,\"fModLabs\":null},\"fYaxis\":{\"_typename\":\"TAxis\",\"fUniqueID\":0,\"fBits\":50331648,\"fName\":\"yaxis\",\"fTitle\":\"Events \\/ 100 MeV\",\"fNdivisions\":510,\"fAxisColor\":1,\"fLabelColor\":1,\"fLabelFont\":42,\"fLabelOffset\":0.005,\"fLabelSize\":0.035,\"fTickLength\":0.03,\"fTitleOffset\":0,\"fTitleSize\":0.035,\"fTitleColor\":1,\"fTitleFont\":42,\"fNbins\":1,\"fXmin\":0,\"fXmax\":1,\"fXbins\":[],\"fFirst\":0,\"fLast\":0,\"fBits2\":0,\"fTimeDisplay\":false,\"fTimeFormat\":\"\",\"fLabels\":null,\"fModLabs\":null},\"fZaxis\":{\"_typename\":\"TAxis\",\"fUniqueID\":0,\"fBits\":50331648,\"fName\":\"zaxis\",\"fTitle\":\"\",\"fNdivisions\":510,\"fAxisColor\":1,\"fLabelColor\":1,\"fLabelFont\":42,\"fLabelOffset\":0.005,\"fLabelSize\":0.035,\"fTickLength\":0.03,\"fTitleOffset\":1,\"fTitleSize\":0.035,\"fTitleColor\":1,\"fTitleFont\":42,\"fNbins\":1,\"fXmin\":0,\"fXmax\":1,\"fXbins\":[],\"fFirst\":0,\"fLast\":0,\"fBits2\":0,\"fTimeDisplay\":false,\"fTimeFormat\":\"\",\"fLabels\":null,\"fModLabs\":null},\"fBarOffset\":0,\"fBarWidth\":1000,\"fEntries\":5775,\"fTsumw\":0,\"fTsumw2\":5615,\"fTsumwx\":7448.37964821607,\"fTsumwx2\":13089.8164137772,\"fMaximum\":-1111,\"fMinimum\":0,\"fNormFactor\":0,\"fContour\":[],\"fSumw2\":[],\"fOption\":\"\",\"fFunctions\":{\"_typename\":\"TList\",\"name\":\"TList\",\"arr\":[],\"opt\":[]},\"fBufferSize\":0,\"fBuffer\":[],\"fBinStatErrOpt\":0,\"fArray\":[0,4,59,122,216,237,323,324,317,358,329,283,317,265,264,224,215,198,161,165,150,136,125,116,104,87,78,81,73,49,40,33,56,35,31,196,0]}],\"opt\":[\"\",\"\"]},\"fHistogram\":{\"_typename\":\"TH1F\",\"fUniqueID\":0,\"fBits\":50332160,\"fName\":\"h_nue_st0\",\"fTitle\":\"Neutrino Energy Distribution\",\"fLineColor\":602,\"fLineStyle\":1,\"fLineWidth\":1,\"fFillColor\":0,\"fFillStyle\":1001,\"fMarkerColor\":1,\"fMarkerStyle\":1,\"fMarkerSize\":1,\"fNcells\":37,\"fXaxis\":{\"_typename\":\"TAxis\",\"fUniqueID\":0,\"fBits\":50331648,\"fName\":\"xaxis\",\"fTitle\":\"E_{#nu}\",\"fNdivisions\":510,\"fAxisColor\":1,\"fLabelColor\":1,\"fLabelFont\":42,\"fLabelOffset\":0.005,\"fLabelSize\":0.035,\"fTickLength\":0.03,\"fTitleOffset\":1,\"fTitleSize\":0.035,\"fTitleColor\":1,\"fTitleFont\":42,\"fNbins\":35,\"fXmin\":0,\"fXmax\":3.5,\"fXbins\":[],\"fFirst\":0,\"fLast\":0,\"fBits2\":0,\"fTimeDisplay\":false,\"fTimeFormat\":\"\",\"fLabels\":null,\"fModLabs\":null},\"fYaxis\":{\"_typename\":\"TAxis\",\"fUniqueID\":0,\"fBits\":50331648,\"fName\":\"yaxis\",\"fTitle\":\"Events \\/ 100 MeV\",\"fNdivisions\":510,\"fAxisColor\":1,\"fLabelColor\":1,\"fLabelFont\":42,\"fLabelOffset\":0.005,\"fLabelSize\":0.035,\"fTickLength\":0.03,\"fTitleOffset\":0,\"fTitleSize\":0.035,\"fTitleColor\":1,\"fTitleFont\":42,\"fNbins\":1,\"fXmin\":0,\"fXmax\":1,\"fXbins\":[],\"fFirst\":0,\"fLast\":0,\"fBits2\":0,\"fTimeDisplay\":false,\"fTimeFormat\":\"\",\"fLabels\":null,\"fModLabs\":null},\"fZaxis\":{\"_typename\":\"TAxis\",\"fUniqueID\":0,\"fBits\":50331648,\"fName\":\"zaxis\",\"fTitle\":\"\",\"fNdivisions\":510,\"fAxisColor\":1,\"fLabelColor\":1,\"fLabelFont\":42,\"fLabelOffset\":0.005,\"fLabelSize\":0.035,\"fTickLength\":0.03,\"fTitleOffset\":1,\"fTitleSize\":0.035,\"fTitleColor\":1,\"fTitleFont\":42,\"fNbins\":1,\"fXmin\":0,\"fXmax\":1,\"fXbins\":[],\"fFirst\":0,\"fLast\":0,\"fBits2\":0,\"fTimeDisplay\":false,\"fTimeFormat\":\"\",\"fLabels\":null,\"fModLabs\":null},\"fBarOffset\":0,\"fBarWidth\":1000,\"fEntries\":0,\"fTsumw\":0,\"fTsumw2\":0,\"fTsumwx\":0,\"fTsumwx2\":0,\"fMaximum\":1677.9,\"fMinimum\":0,\"fNormFactor\":0,\"fContour\":[],\"fSumw2\":[],\"fOption\":\"\",\"fFunctions\":{\"_typename\":\"TList\",\"name\":\"TList\",\"arr\":[],\"opt\":[]},\"fBufferSize\":0,\"fBuffer\":[],\"fBinStatErrOpt\":0,\"fArray\":[0,0,0,0,0,0,0,0,0,0,0,0,0,0,0,0,0,0,0,0,0,0,0,0,0,0,0,0,0,0,0,0,0,0,0,0,0]},\"fMaximum\":-1111,\"fMinimum\":-1111},{\"_typename\":\"TLegend\",\"fUniqueID\":0,\"fBits\":50331656,\"fLineColor\":1,\"fLineStyle\":1,\"fLineWidth\":1,\"fFillColor\":0,\"fFillStyle\":1001,\"fX1\":2.62500001303852,\"fY1\":1258.42500625066,\"fX2\":3.50000002607703,\"fY2\":1677.90001250133,\"fX1NDC\":0.7,\"fY1NDC\":0.7,\"fX2NDC\":0.9,\"fY2NDC\":0.9,\"fBorderSize\":1,\"fInit\":1,\"fShadowColor\":1,\"fCornerRadius\":0,\"fOption\":\"brNDC\",\"fName\":\"TPave\",\"fTextAngle\":0,\"fTextSize\":0,\"fTextAlign\":12,\"fTextColor\":1,\"fTextFont\":42,\"fPrimitives\":{\"_typename\":\"TList\",\"name\":\"TList\",\"arr\":[{\"_typename\":\"TLegendEntry\",\"fUniqueID\":0,\"fBits\":50331656,\"fTextAngle\":0,\"fTextSize\":0,\"fTextAlign\":0,\"fTextColor\":0,\"fTextFont\":42,\"fLineColor\":1,\"fLineStyle\":1,\"fLineWidth\":1,\"fFillColor\":632,\"fFillStyle\":1001,\"fMarkerColor\":1,\"fMarkerStyle\":21,\"fMarkerSize\":1,\"fObject\":{\"$ref\":5},\"fLabel\":\"#nu_{e} CC\",\"fOption\":\"f\"},{\"_typename\":\"TLegendEntry\",\"fUniqueID\":0,\"fBits\":50331656,\"fTextAngle\":0,\"fTextSize\":0,\"fTextAlign\":0,\"fTextColor\":0,\"fTextFont\":42,\"fLineColor\":1,\"fLineStyle\":1,\"fLineWidth\":1,\"fFillColor\":400,\"fFillStyle\":1001,\"fMarkerColor\":1,\"fMarkerStyle\":21,\"fMarkerSize\":1,\"fObject\":{\"$ref\":10},\"fLabel\":\"#nu_{e} NC\",\"fOption\":\"f\"}],\"opt\":[\"f\",\"f\"]},\"fEntrySeparation\":0.1,\"fMargin\":0.25,\"fNColumns\":1,\"fColumnSeparation\":0},{\"_typename\":\"TPaveText\",\"fUniqueID\":0,\"fBits\":50331657,\"fLineColor\":1,\"fLineStyle\":1,\"fLineWidth\":1,\"fFillColor\":0,\"fFillStyle\":0,\"fX1\":0.678502139205851,\"fY1\":1749.17522483566,\"fX2\":2.82149786079415,\"fY2\":1877.15065047146,\"fX1NDC\":0.255086206896552,\"fY1NDC\":0.933983055615829,\"fX2NDC\":0.744913793103448,\"fY2NDC\":0.995000004768372,\"fBorderSize\":0,\"fInit\":1,\"fShadowColor\":1,\"fCornerRadius\":0,\"fOption\":\"blNDC\",\"fName\":\"title\",\"fTextAngle\":0,\"fTextSize\":0,\"fTextAlign\":22,\"fTextColor\":1,\"fTextFont\":42,\"fLabel\":\"\",\"fLongest\":28,\"fMargin\":0.05,\"fLines\":{\"_typename\":\"TList\",\"name\":\"TList\",\"arr\":[{\"_typename\":\"TLatex\",\"fUniqueID\":0,\"fBits\":50331648,\"fName\":\"\",\"fTitle\":\"Neutrino Energy Distribution\",\"fTextAngle\":0,\"fTextSize\":0,\"fTextAlign\":0,\"fTextColor\":0,\"fTextFont\":0,\"fX\":0,\"fY\":0,\"fLineColor\":1,\"fLineStyle\":1,\"fLineWidth\":2,\"fLimitFactorSize\":3,\"fOriginSize\":0.0518644079566002}],\"opt\":[\"\"]}}],\"opt\":[\"\",\"\",\"\",\"blNDC\"]},\"fExecs\":null,\"fName\":\"c0\",\"fTitle\":\"MyCanvas\",\"fNumPaletteColor\":0,\"fNextPaletteColor\":0,\"fDISPLAY\":\"$DISPLAY\",\"fDoubleBuffer\":0,\"fRetained\":true,\"fXsizeUser\":0,\"fYsizeUser\":0,\"fXsizeReal\":20,\"fYsizeReal\":14.28571,\"fWindowTopX\":0,\"fWindowTopY\":0,\"fWindowWidth\":0,\"fWindowHeight\":0,\"fCw\":696,\"fCh\":472,\"fCatt\":{\"_typename\":\"TAttCanvas\",\"fXBetween\":2,\"fYBetween\":2,\"fTitleFromTop\":1.2,\"fXdate\":0.2,\"fYdate\":0.3,\"fAdate\":1},\"kMoveOpaque\":true,\"kResizeOpaque\":true,\"fHighLightColor\":2,\"fBatch\":true,\"kShowEventStatus\":false,\"kAutoExec\":true,\"kMenuBar\":true});\n",
       "       Core.draw(\"root_plot_1\", obj, \"\");\n",
       "     }\n",
       " );\n",
       "</script>\n"
      ],
      "text/plain": [
       "<IPython.core.display.HTML object>"
      ]
     },
     "metadata": {},
     "output_type": "display_data"
    }
   ],
   "source": [
    "c0 = ROOT.TCanvas(\"c0\",\"MyCanvas\")\n",
    "c0.cd()\n",
    "h_nue_st0.Draw()\n",
    "leg0 = ROOT.TLegend(0.7,0.7,0.9,0.9)\n",
    "leg0.AddEntry(h_nue_cc,\"#nu_{e} CC\",\"f\")\n",
    "leg0.AddEntry(h_nue_nc,\"#nu_{e} NC\",\"f\")\n",
    "leg0.Draw();\n",
    "c0.Draw()"
   ]
  },
  {
   "cell_type": "code",
   "execution_count": 10,
   "metadata": {},
   "outputs": [],
   "source": [
    "h_nue_mb = ROOT.TH1F(\"h_nue_mb\",\"Neutrino Energy Distribution;E_{#nu};Events / 100 MeV\",NBINS,BINLOWEDGE,BINHIGHEDGE)\n",
    "h_nue_0p = ROOT.TH1F(\"h_nue_0p\",\"Neutrino Energy Distribution;E_{#nu};Events / 100 MeV\",NBINS,BINLOWEDGE,BINHIGHEDGE)\n",
    "h_nue_1p = ROOT.TH1F(\"h_nue_1p\",\"Neutrino Energy Distribution;E_{#nu};Events / 100 MeV\",NBINS,BINLOWEDGE,BINHIGHEDGE)\n",
    "h_nue_Np = ROOT.TH1F(\"h_nue_Np\",\"Neutrino Energy Distribution;E_{#nu};Events / 100 MeV\",NBINS,BINLOWEDGE,BINHIGHEDGE)\n",
    "h_nue_Npi = ROOT.TH1F(\"h_nue_Npi\",\"Neutrino Energy Distribution;E_{#nu};Events / 100 MeV\",NBINS,BINLOWEDGE,BINHIGHEDGE)\n",
    "h_nue_Npi0 = ROOT.TH1F(\"h_nue_Npi0\",\"Neutrino Energy Distribution;E_{#nu};Events / 100 MeV\",NBINS,BINLOWEDGE,BINHIGHEDGE)\n"
   ]
  },
  {
   "cell_type": "code",
   "execution_count": 11,
   "metadata": {},
   "outputs": [],
   "source": [
    "ana.Project(\"h_nue_mb\",\"nu_energy\",\"ccnc==0 && n_lep>=0 && n_pi==0 && n_pi0==0\");\n",
    "ana.Project(\"h_nue_0p\",\"nu_energy\",\"ccnc==0 && n_lep>=0 && n_proton==0 && n_pi==0 && n_pi0==0\");\n",
    "ana.Project(\"h_nue_1p\",\"nu_energy\",\"ccnc==0 && n_lep>=0 && n_proton==1 && n_pi==0 && n_pi0==0\");\n",
    "ana.Project(\"h_nue_Np\",\"nu_energy\",\"ccnc==0 && n_lep>=0 && n_proton>1 && n_pi==0 && n_pi0==0\");\n",
    "ana.Project(\"h_nue_Npi\",\"nu_energy\",\"ccnc==0 && n_lep>=0 && n_pi>0 && n_pi0==0\");\n",
    "ana.Project(\"h_nue_Npi0\",\"nu_energy\",\"ccnc==0 && n_lep>=0 && n_pi0>0\");"
   ]
  },
  {
   "cell_type": "code",
   "execution_count": 12,
   "metadata": {},
   "outputs": [],
   "source": [
    "h_nue_mb.SetLineColor(ROOT.kBlack); h_nue_mb.SetFillColor(ROOT.kYellow+4);\n",
    "h_nue_0p.SetLineColor(ROOT.kBlack); h_nue_0p.SetFillColor(ROOT.kOrange+7);\n",
    "h_nue_1p.SetLineColor(ROOT.kBlack); h_nue_1p.SetFillColor(ROOT.kBlue);\n",
    "h_nue_Np.SetLineColor(ROOT.kBlack); h_nue_Np.SetFillColor(ROOT.kCyan);\n",
    "h_nue_Npi.SetLineColor(ROOT.kBlack); h_nue_Npi.SetFillColor(ROOT.kGreen+2);\n",
    "h_nue_Npi0.SetLineColor(ROOT.kBlack); h_nue_Npi0.SetFillColor(ROOT.kGreen);\n",
    "\n",
    "ROOT.ShowUnderOverFlow(h_nue_mb);\n",
    "ROOT.ShowUnderOverFlow(h_nue_0p);\n",
    "ROOT.ShowUnderOverFlow(h_nue_1p);\n",
    "ROOT.ShowUnderOverFlow(h_nue_Np);\n",
    "ROOT.ShowUnderOverFlow(h_nue_Npi);\n",
    "ROOT.ShowUnderOverFlow(h_nue_Npi0);"
   ]
  },
  {
   "cell_type": "code",
   "execution_count": 13,
   "metadata": {},
   "outputs": [
    {
     "data": {
      "text/html": [
       "\n",
       "<div id=\"root_plot_2\"\n",
       "     style=\"width: 696px; height: 472px\">\n",
       "</div>\n",
       "\n",
       "<script>\n",
       " requirejs.config({\n",
       "     paths: {\n",
       "       'JSRootCore' : 'https://root.cern.ch/js/notebook//scripts/JSRootCore',\n",
       "     }\n",
       "   });\n",
       " require(['JSRootCore'],\n",
       "     function(Core) {\n",
       "       var obj = Core.JSONR_unref({\"_typename\":\"TCanvas\",\"fUniqueID\":0,\"fBits\":53673992,\"fLineColor\":1,\"fLineStyle\":1,\"fLineWidth\":1,\"fFillColor\":0,\"fFillStyle\":1001,\"fLeftMargin\":0.1,\"fRightMargin\":0.1,\"fBottomMargin\":0.1,\"fTopMargin\":0.1,\"fXfile\":2,\"fYfile\":2,\"fAfile\":1,\"fXstat\":0.99,\"fYstat\":0.99,\"fAstat\":2,\"fFrameFillColor\":0,\"fFrameLineColor\":1,\"fFrameFillStyle\":1001,\"fFrameLineStyle\":1,\"fFrameLineWidth\":1,\"fFrameBorderSize\":1,\"fFrameBorderMode\":0,\"fX1\":-0.437500032596292,\"fY1\":-162.750012125821,\"fX2\":3.93750003259629,\"fY2\":1464.75001212582,\"fXtoAbsPixelk\":69.6000541484835,\"fXtoPixelk\":69.6000541484835,\"fXtoPixel\":159.085711915152,\"fYtoAbsPixelk\":424.800047186661,\"fYtoPixelk\":424.800047186661,\"fYtoPixel\":-0.290015356661537,\"fUtoAbsPixelk\":5e-5,\"fUtoPixelk\":5e-5,\"fUtoPixel\":696,\"fVtoAbsPixelk\":472.00005,\"fVtoPixelk\":472,\"fVtoPixel\":-472,\"fAbsPixeltoXk\":-0.437500032596292,\"fPixeltoXk\":-0.437500032596292,\"fPixeltoX\":0.00628591963389739,\"fAbsPixeltoYk\":1464.75001212582,\"fPixeltoYk\":-162.750012125821,\"fPixeltoY\":-3.44809327171958,\"fXlowNDC\":0,\"fYlowNDC\":0,\"fXUpNDC\":0,\"fYUpNDC\":0,\"fWNDC\":1,\"fHNDC\":1,\"fAbsXlowNDC\":0,\"fAbsYlowNDC\":0,\"fAbsWNDC\":1,\"fAbsHNDC\":1,\"fUxmin\":0,\"fUymin\":0,\"fUxmax\":3.5,\"fUymax\":1302,\"fTheta\":30,\"fPhi\":30,\"fAspectRatio\":0,\"fNumber\":0,\"fTickx\":0,\"fTicky\":0,\"fLogx\":0,\"fLogy\":0,\"fLogz\":0,\"fPadPaint\":0,\"fCrosshair\":0,\"fCrosshairPos\":0,\"fBorderSize\":2,\"fBorderMode\":0,\"fModified\":false,\"fGridx\":false,\"fGridy\":false,\"fAbsCoord\":false,\"fEditable\":true,\"fFixedAspectRatio\":false,\"fPrimitives\":{\"_typename\":\"TList\",\"name\":\"TList\",\"arr\":[{\"_typename\":\"TFrame\",\"fUniqueID\":0,\"fBits\":50331656,\"fLineColor\":1,\"fLineStyle\":1,\"fLineWidth\":1,\"fFillColor\":0,\"fFillStyle\":1001,\"fX1\":0,\"fY1\":0,\"fX2\":3.5,\"fY2\":1302,\"fBorderSize\":1,\"fBorderMode\":0},{\"_typename\":\"TH1F\",\"fUniqueID\":0,\"fBits\":50332168,\"fName\":\"h_nue_cc\",\"fTitle\":\"Neutrino Energy Distribution\",\"fLineColor\":1,\"fLineStyle\":1,\"fLineWidth\":1,\"fFillColor\":632,\"fFillStyle\":1001,\"fMarkerColor\":1,\"fMarkerStyle\":1,\"fMarkerSize\":1,\"fNcells\":37,\"fXaxis\":{\"_typename\":\"TAxis\",\"fUniqueID\":0,\"fBits\":50331648,\"fName\":\"xaxis\",\"fTitle\":\"E_{#nu}\",\"fNdivisions\":510,\"fAxisColor\":1,\"fLabelColor\":1,\"fLabelFont\":42,\"fLabelOffset\":0.005,\"fLabelSize\":0.035,\"fTickLength\":0.03,\"fTitleOffset\":1,\"fTitleSize\":0.035,\"fTitleColor\":1,\"fTitleFont\":42,\"fNbins\":35,\"fXmin\":0,\"fXmax\":3.5,\"fXbins\":[],\"fFirst\":0,\"fLast\":0,\"fBits2\":0,\"fTimeDisplay\":false,\"fTimeFormat\":\"\",\"fLabels\":null,\"fModLabs\":null},\"fYaxis\":{\"_typename\":\"TAxis\",\"fUniqueID\":0,\"fBits\":50331648,\"fName\":\"yaxis\",\"fTitle\":\"Events \\/ 100 MeV\",\"fNdivisions\":510,\"fAxisColor\":1,\"fLabelColor\":1,\"fLabelFont\":42,\"fLabelOffset\":0.005,\"fLabelSize\":0.035,\"fTickLength\":0.03,\"fTitleOffset\":0,\"fTitleSize\":0.035,\"fTitleColor\":1,\"fTitleFont\":42,\"fNbins\":1,\"fXmin\":0,\"fXmax\":1,\"fXbins\":[],\"fFirst\":0,\"fLast\":0,\"fBits2\":0,\"fTimeDisplay\":false,\"fTimeFormat\":\"\",\"fLabels\":null,\"fModLabs\":null},\"fZaxis\":{\"_typename\":\"TAxis\",\"fUniqueID\":0,\"fBits\":50331648,\"fName\":\"zaxis\",\"fTitle\":\"\",\"fNdivisions\":510,\"fAxisColor\":1,\"fLabelColor\":1,\"fLabelFont\":42,\"fLabelOffset\":0.005,\"fLabelSize\":0.035,\"fTickLength\":0.03,\"fTitleOffset\":1,\"fTitleSize\":0.035,\"fTitleColor\":1,\"fTitleFont\":42,\"fNbins\":1,\"fXmin\":0,\"fXmax\":1,\"fXbins\":[],\"fFirst\":0,\"fLast\":0,\"fBits2\":0,\"fTimeDisplay\":false,\"fTimeFormat\":\"\",\"fLabels\":null,\"fModLabs\":null},\"fBarOffset\":0,\"fBarWidth\":1000,\"fEntries\":19233,\"fTsumw\":0,\"fTsumw2\":18749,\"fTsumwx\":24755.4379457757,\"fTsumwx2\":42840.8079001239,\"fMaximum\":-1111,\"fMinimum\":0,\"fNormFactor\":0,\"fContour\":[],\"fSumw2\":[],\"fOption\":\"\",\"fFunctions\":{\"_typename\":\"TList\",\"name\":\"TList\",\"arr\":[],\"opt\":[]},\"fBufferSize\":0,\"fBuffer\":[],\"fBinStatErrOpt\":0,\"fArray\":[0,7,105,379,647,882,1046,1070,1117,1240,1086,1048,1015,961,853,823,740,685,550,532,447,485,413,364,345,300,272,245,226,176,120,125,112,127,117,569,0]},{\"_typename\":\"TH1F\",\"fUniqueID\":0,\"fBits\":50332168,\"fName\":\"h_nue_1p\",\"fTitle\":\"Neutrino Energy Distribution\",\"fLineColor\":1,\"fLineStyle\":1,\"fLineWidth\":1,\"fFillColor\":600,\"fFillStyle\":1001,\"fMarkerColor\":1,\"fMarkerStyle\":1,\"fMarkerSize\":1,\"fNcells\":37,\"fXaxis\":{\"_typename\":\"TAxis\",\"fUniqueID\":0,\"fBits\":50331648,\"fName\":\"xaxis\",\"fTitle\":\"E_{#nu}\",\"fNdivisions\":510,\"fAxisColor\":1,\"fLabelColor\":1,\"fLabelFont\":42,\"fLabelOffset\":0.005,\"fLabelSize\":0.035,\"fTickLength\":0.03,\"fTitleOffset\":1,\"fTitleSize\":0.035,\"fTitleColor\":1,\"fTitleFont\":42,\"fNbins\":35,\"fXmin\":0,\"fXmax\":3.5,\"fXbins\":[],\"fFirst\":0,\"fLast\":0,\"fBits2\":0,\"fTimeDisplay\":false,\"fTimeFormat\":\"\",\"fLabels\":null,\"fModLabs\":null},\"fYaxis\":{\"_typename\":\"TAxis\",\"fUniqueID\":0,\"fBits\":50331648,\"fName\":\"yaxis\",\"fTitle\":\"Events \\/ 100 MeV\",\"fNdivisions\":510,\"fAxisColor\":1,\"fLabelColor\":1,\"fLabelFont\":42,\"fLabelOffset\":0.005,\"fLabelSize\":0.035,\"fTickLength\":0.03,\"fTitleOffset\":0,\"fTitleSize\":0.035,\"fTitleColor\":1,\"fTitleFont\":42,\"fNbins\":1,\"fXmin\":0,\"fXmax\":1,\"fXbins\":[],\"fFirst\":0,\"fLast\":0,\"fBits2\":0,\"fTimeDisplay\":false,\"fTimeFormat\":\"\",\"fLabels\":null,\"fModLabs\":null},\"fZaxis\":{\"_typename\":\"TAxis\",\"fUniqueID\":0,\"fBits\":50331648,\"fName\":\"zaxis\",\"fTitle\":\"\",\"fNdivisions\":510,\"fAxisColor\":1,\"fLabelColor\":1,\"fLabelFont\":42,\"fLabelOffset\":0.005,\"fLabelSize\":0.035,\"fTickLength\":0.03,\"fTitleOffset\":1,\"fTitleSize\":0.035,\"fTitleColor\":1,\"fTitleFont\":42,\"fNbins\":1,\"fXmin\":0,\"fXmax\":1,\"fXbins\":[],\"fFirst\":0,\"fLast\":0,\"fBits2\":0,\"fTimeDisplay\":false,\"fTimeFormat\":\"\",\"fLabels\":null,\"fModLabs\":null},\"fBarOffset\":0,\"fBarWidth\":1000,\"fEntries\":6118,\"fTsumw\":0,\"fTsumw2\":6059,\"fTsumwx\":6753.04001319408,\"fTsumwx2\":10059.4830854678,\"fMaximum\":-1111,\"fMinimum\":0,\"fNormFactor\":0,\"fContour\":[],\"fSumw2\":[],\"fOption\":\"\",\"fFunctions\":{\"_typename\":\"TList\",\"name\":\"TList\",\"arr\":[],\"opt\":[]},\"fBufferSize\":0,\"fBuffer\":[],\"fBinStatErrOpt\":0,\"fArray\":[0,1,36,151,298,438,455,474,458,473,397,369,335,288,256,217,198,173,145,136,97,114,89,87,56,55,52,39,36,31,20,17,20,13,18,72,0]},{\"_typename\":\"TH1F\",\"fUniqueID\":0,\"fBits\":50332168,\"fName\":\"h_nue_Np\",\"fTitle\":\"Neutrino Energy Distribution\",\"fLineColor\":1,\"fLineStyle\":1,\"fLineWidth\":1,\"fFillColor\":432,\"fFillStyle\":1001,\"fMarkerColor\":1,\"fMarkerStyle\":1,\"fMarkerSize\":1,\"fNcells\":37,\"fXaxis\":{\"_typename\":\"TAxis\",\"fUniqueID\":0,\"fBits\":50331648,\"fName\":\"xaxis\",\"fTitle\":\"E_{#nu}\",\"fNdivisions\":510,\"fAxisColor\":1,\"fLabelColor\":1,\"fLabelFont\":42,\"fLabelOffset\":0.005,\"fLabelSize\":0.035,\"fTickLength\":0.03,\"fTitleOffset\":1,\"fTitleSize\":0.035,\"fTitleColor\":1,\"fTitleFont\":42,\"fNbins\":35,\"fXmin\":0,\"fXmax\":3.5,\"fXbins\":[],\"fFirst\":0,\"fLast\":0,\"fBits2\":0,\"fTimeDisplay\":false,\"fTimeFormat\":\"\",\"fLabels\":null,\"fModLabs\":null},\"fYaxis\":{\"_typename\":\"TAxis\",\"fUniqueID\":0,\"fBits\":50331648,\"fName\":\"yaxis\",\"fTitle\":\"Events \\/ 100 MeV\",\"fNdivisions\":510,\"fAxisColor\":1,\"fLabelColor\":1,\"fLabelFont\":42,\"fLabelOffset\":0.005,\"fLabelSize\":0.035,\"fTickLength\":0.03,\"fTitleOffset\":0,\"fTitleSize\":0.035,\"fTitleColor\":1,\"fTitleFont\":42,\"fNbins\":1,\"fXmin\":0,\"fXmax\":1,\"fXbins\":[],\"fFirst\":0,\"fLast\":0,\"fBits2\":0,\"fTimeDisplay\":false,\"fTimeFormat\":\"\",\"fLabels\":null,\"fModLabs\":null},\"fZaxis\":{\"_typename\":\"TAxis\",\"fUniqueID\":0,\"fBits\":50331648,\"fName\":\"zaxis\",\"fTitle\":\"\",\"fNdivisions\":510,\"fAxisColor\":1,\"fLabelColor\":1,\"fLabelFont\":42,\"fLabelOffset\":0.005,\"fLabelSize\":0.035,\"fTickLength\":0.03,\"fTitleOffset\":1,\"fTitleSize\":0.035,\"fTitleColor\":1,\"fTitleFont\":42,\"fNbins\":1,\"fXmin\":0,\"fXmax\":1,\"fXbins\":[],\"fFirst\":0,\"fLast\":0,\"fBits2\":0,\"fTimeDisplay\":false,\"fTimeFormat\":\"\",\"fLabels\":null,\"fModLabs\":null},\"fBarOffset\":0,\"fBarWidth\":1000,\"fEntries\":3937,\"fTsumw\":0,\"fTsumw2\":3875,\"fTsumwx\":4919.47818800807,\"fTsumwx2\":8029.79420697173,\"fMaximum\":-1111,\"fMinimum\":0,\"fNormFactor\":0,\"fContour\":[],\"fSumw2\":[],\"fOption\":\"\",\"fFunctions\":{\"_typename\":\"TList\",\"name\":\"TList\",\"arr\":[],\"opt\":[]},\"fBufferSize\":0,\"fBuffer\":[],\"fBinStatErrOpt\":0,\"fArray\":[0,0,1,45,106,186,233,231,282,291,279,228,234,229,187,175,161,126,92,105,76,88,86,61,65,51,44,41,42,33,9,21,12,24,17,72,0]},{\"_typename\":\"TLegend\",\"fUniqueID\":0,\"fBits\":50331656,\"fLineColor\":1,\"fLineStyle\":1,\"fLineWidth\":1,\"fFillColor\":0,\"fFillStyle\":1001,\"fX1\":2.62500001303852,\"fY1\":976.500004850328,\"fX2\":3.50000002607703,\"fY2\":1302.00000970066,\"fX1NDC\":0.7,\"fY1NDC\":0.7,\"fX2NDC\":0.9,\"fY2NDC\":0.9,\"fBorderSize\":1,\"fInit\":1,\"fShadowColor\":1,\"fCornerRadius\":0,\"fOption\":\"brNDC\",\"fName\":\"TPave\",\"fTextAngle\":0,\"fTextSize\":0,\"fTextAlign\":12,\"fTextColor\":1,\"fTextFont\":42,\"fPrimitives\":{\"_typename\":\"TList\",\"name\":\"TList\",\"arr\":[{\"_typename\":\"TLegendEntry\",\"fUniqueID\":0,\"fBits\":50331656,\"fTextAngle\":0,\"fTextSize\":0,\"fTextAlign\":0,\"fTextColor\":0,\"fTextFont\":42,\"fLineColor\":1,\"fLineStyle\":1,\"fLineWidth\":1,\"fFillColor\":632,\"fFillStyle\":1001,\"fMarkerColor\":1,\"fMarkerStyle\":21,\"fMarkerSize\":1,\"fObject\":{\"$ref\":3},\"fLabel\":\"#nu_{e} CC inclusive\",\"fOption\":\"f\"},{\"_typename\":\"TLegendEntry\",\"fUniqueID\":0,\"fBits\":50331656,\"fTextAngle\":0,\"fTextSize\":0,\"fTextAlign\":0,\"fTextColor\":0,\"fTextFont\":42,\"fLineColor\":1,\"fLineStyle\":1,\"fLineWidth\":1,\"fFillColor\":432,\"fFillStyle\":1001,\"fMarkerColor\":1,\"fMarkerStyle\":21,\"fMarkerSize\":1,\"fObject\":{\"$ref\":13},\"fLabel\":\"#nu_{e} 1eNp0#pi\",\"fOption\":\"f\"},{\"_typename\":\"TLegendEntry\",\"fUniqueID\":0,\"fBits\":50331656,\"fTextAngle\":0,\"fTextSize\":0,\"fTextAlign\":0,\"fTextColor\":0,\"fTextFont\":42,\"fLineColor\":1,\"fLineStyle\":1,\"fLineWidth\":1,\"fFillColor\":600,\"fFillStyle\":1001,\"fMarkerColor\":1,\"fMarkerStyle\":21,\"fMarkerSize\":1,\"fObject\":{\"$ref\":8},\"fLabel\":\"#nu_{e} 1e1p0#pi\",\"fOption\":\"f\"}],\"opt\":[\"f\",\"f\",\"f\"]},\"fEntrySeparation\":0.1,\"fMargin\":0.25,\"fNColumns\":1,\"fColumnSeparation\":0},{\"_typename\":\"TPaveText\",\"fUniqueID\":0,\"fBits\":50331657,\"fLineColor\":1,\"fLineStyle\":1,\"fLineWidth\":1,\"fFillColor\":0,\"fFillStyle\":0,\"fX1\":0.678502139205851,\"fY1\":1357.30743353956,\"fX2\":2.82149786079415,\"fY2\":1456.61251976509,\"fX1NDC\":0.255086206896552,\"fY1NDC\":0.933983055615829,\"fX2NDC\":0.744913793103448,\"fY2NDC\":0.995000004768372,\"fBorderSize\":0,\"fInit\":1,\"fShadowColor\":1,\"fCornerRadius\":0,\"fOption\":\"blNDC\",\"fName\":\"title\",\"fTextAngle\":0,\"fTextSize\":0,\"fTextAlign\":22,\"fTextColor\":1,\"fTextFont\":42,\"fLabel\":\"\",\"fLongest\":28,\"fMargin\":0.05,\"fLines\":{\"_typename\":\"TList\",\"name\":\"TList\",\"arr\":[{\"_typename\":\"TLatex\",\"fUniqueID\":0,\"fBits\":50331648,\"fName\":\"\",\"fTitle\":\"Neutrino Energy Distribution\",\"fTextAngle\":0,\"fTextSize\":0,\"fTextAlign\":0,\"fTextColor\":0,\"fTextFont\":0,\"fX\":0,\"fY\":0,\"fLineColor\":1,\"fLineStyle\":1,\"fLineWidth\":2,\"fLimitFactorSize\":3,\"fOriginSize\":0.0518644079566002}],\"opt\":[\"\"]}}],\"opt\":[\"\",\"\",\"same\",\"same\",\"\",\"blNDC\"]},\"fExecs\":null,\"fName\":\"c1\",\"fTitle\":\"Canvas1\",\"fNumPaletteColor\":0,\"fNextPaletteColor\":0,\"fDISPLAY\":\"$DISPLAY\",\"fDoubleBuffer\":0,\"fRetained\":true,\"fXsizeUser\":0,\"fYsizeUser\":0,\"fXsizeReal\":20,\"fYsizeReal\":14.28571,\"fWindowTopX\":0,\"fWindowTopY\":0,\"fWindowWidth\":0,\"fWindowHeight\":0,\"fCw\":696,\"fCh\":472,\"fCatt\":{\"_typename\":\"TAttCanvas\",\"fXBetween\":2,\"fYBetween\":2,\"fTitleFromTop\":1.2,\"fXdate\":0.2,\"fYdate\":0.3,\"fAdate\":1},\"kMoveOpaque\":true,\"kResizeOpaque\":true,\"fHighLightColor\":2,\"fBatch\":true,\"kShowEventStatus\":false,\"kAutoExec\":true,\"kMenuBar\":true});\n",
       "       Core.draw(\"root_plot_2\", obj, \"\");\n",
       "     }\n",
       " );\n",
       "</script>\n"
      ],
      "text/plain": [
       "<IPython.core.display.HTML object>"
      ]
     },
     "metadata": {},
     "output_type": "display_data"
    }
   ],
   "source": [
    "c1 = ROOT.TCanvas(\"c1\",\"Canvas1\");\n",
    "c1.cd();\n",
    "h_nue_cc.Draw();\n",
    "#h_nue_Ntrk.Draw(\"same\");\n",
    "h_nue_1p.Draw(\"same\");\n",
    "h_nue_Np.Draw(\"same\");\n",
    "leg1 = ROOT.TLegend(0.7,0.7,0.9,0.9);\n",
    "leg1.AddEntry(h_nue_cc,\"#nu_{e} CC inclusive\",\"f\");\n",
    "leg1.AddEntry(h_nue_Np,\"#nu_{e} 1eNp0#pi\",\"f\");\n",
    "leg1.AddEntry(h_nue_1p,\"#nu_{e} 1e1p0#pi\",\"f\");\n",
    "leg1.Draw();\n",
    "c1.Draw()"
   ]
  },
  {
   "cell_type": "code",
   "execution_count": 14,
   "metadata": {},
   "outputs": [],
   "source": [
    "h_nue_mb_eff = ROOT.TH1F(\"h_nue_mb_eff\",\"Neutrino Energy Distribution;E_{#nu};Efficiency\",NBINS,BINLOWEDGE,BINHIGHEDGE)\n",
    "h_nue_0p_eff = ROOT.TH1F(\"h_nue_0p_eff\",\"Neutrino Energy Distribution;E_{#nu};Efficiency\",NBINS,BINLOWEDGE,BINHIGHEDGE)\n",
    "h_nue_1p_eff = ROOT.TH1F(\"h_nue_1p_eff\",\"Neutrino Energy Distribution;E_{#nu};Efficiency\",NBINS,BINLOWEDGE,BINHIGHEDGE)\n",
    "h_nue_Np_eff = ROOT.TH1F(\"h_nue_Np_eff\",\"Neutrino Energy Distribution;E_{#nu};Efficiency\",NBINS,BINLOWEDGE,BINHIGHEDGE)\n",
    "h_nue_Npi_eff = ROOT.TH1F(\"h_nue_Npi_eff\",\"Neutrino Energy Distribution;E_{#nu};Efficiency\",NBINS,BINLOWEDGE,BINHIGHEDGE)\n",
    "h_nue_Npi0_eff = ROOT.TH1F(\"h_nue_Npi0_eff\",\"Neutrino Energy Distribution;E_{#nu};Efficiency\",NBINS,BINLOWEDGE,BINHIGHEDGE)\n",
    "\n",
    "for i in range(1,h_nue_cc.GetNbinsX()+1):\n",
    "    h_nue_mb_eff.SetBinContent(i,h_nue_mb.GetBinContent(i)/h_nue_cc.GetBinContent(i));\n",
    "    h_nue_mb_eff.SetBinError(i,ROOT.TMath.Sqrt(h_nue_mb_eff.GetBinContent(i)*(1-h_nue_mb_eff.GetBinContent(i))/h_nue_cc.GetBinContent(i)));\n",
    "    h_nue_0p_eff.SetBinContent(i,h_nue_0p.GetBinContent(i)/h_nue_cc.GetBinContent(i));\n",
    "    h_nue_0p_eff.SetBinError(i,ROOT.TMath.Sqrt(h_nue_0p_eff.GetBinContent(i)*(1-h_nue_0p_eff.GetBinContent(i))/h_nue_cc.GetBinContent(i)));\n",
    "    h_nue_1p_eff.SetBinContent(i,h_nue_1p.GetBinContent(i)/h_nue_cc.GetBinContent(i));\n",
    "    h_nue_1p_eff.SetBinError(i,ROOT.TMath.Sqrt(h_nue_1p_eff.GetBinContent(i)*(1-h_nue_1p_eff.GetBinContent(i))/h_nue_cc.GetBinContent(i)));\n",
    "    h_nue_Np_eff.SetBinContent(i,h_nue_Np.GetBinContent(i)/h_nue_cc.GetBinContent(i));\n",
    "    h_nue_Np_eff.SetBinError(i,ROOT.TMath.Sqrt(h_nue_Np_eff.GetBinContent(i)*(1-h_nue_Np_eff.GetBinContent(i))/h_nue_cc.GetBinContent(i)));\n",
    "    h_nue_Npi_eff.SetBinContent(i,h_nue_Npi.GetBinContent(i)/h_nue_cc.GetBinContent(i));\n",
    "    h_nue_Npi_eff.SetBinError(i,ROOT.TMath.Sqrt(h_nue_Npi_eff.GetBinContent(i)*(1-h_nue_Npi_eff.GetBinContent(i))/h_nue_cc.GetBinContent(i)));\n",
    "    h_nue_Npi0_eff.SetBinContent(i,h_nue_Npi0.GetBinContent(i)/h_nue_cc.GetBinContent(i));\n",
    "    h_nue_Npi0_eff.SetBinError(i,ROOT.TMath.Sqrt(h_nue_Npi0_eff.GetBinContent(i)*(1-h_nue_Npi0_eff.GetBinContent(i))/h_nue_cc.GetBinContent(i)));\n",
    "\n"
   ]
  },
  {
   "cell_type": "code",
   "execution_count": 15,
   "metadata": {},
   "outputs": [],
   "source": [
    "h_nue_mb_eff.SetLineColor(ROOT.kYellow+4);\n",
    "h_nue_0p_eff.SetLineColor(ROOT.kOrange+7);\n",
    "h_nue_1p_eff.SetLineColor(ROOT.kBlue);\n",
    "h_nue_Np_eff.SetLineColor(ROOT.kCyan);\n",
    "h_nue_Npi_eff.SetLineColor(ROOT.kGreen+2);\n",
    "h_nue_mb_eff.SetFillColor(ROOT.kYellow+4);\n",
    "h_nue_0p_eff.SetFillColor(ROOT.kOrange+7);\n",
    "h_nue_1p_eff.SetFillColor(ROOT.kBlue);\n",
    "h_nue_Np_eff.SetFillColor(ROOT.kCyan);\n",
    "h_nue_Npi_eff.SetFillColor(ROOT.kGreen+2);\n",
    "h_nue_Npi0_eff.SetFillColor(ROOT.kGreen);\n",
    "h_nue_mb_eff.SetMarkerColor(ROOT.kYellow+4);\n",
    "h_nue_0p_eff.SetMarkerColor(ROOT.kOrange+7);\n",
    "h_nue_1p_eff.SetMarkerColor(ROOT.kBlue);\n",
    "h_nue_Np_eff.SetMarkerColor(ROOT.kCyan);\n",
    "h_nue_Npi_eff.SetMarkerColor(ROOT.kGreen+2);\n",
    "h_nue_Npi0_eff.SetMarkerColor(ROOT.kGreen);\n",
    "h_nue_mb_eff.SetMarkerStyle(8);\n",
    "h_nue_0p_eff.SetMarkerStyle(8);\n",
    "h_nue_1p_eff.SetMarkerStyle(8);\n",
    "h_nue_Np_eff.SetMarkerStyle(8);\n",
    "h_nue_Npi_eff.SetMarkerStyle(8);\n",
    "h_nue_Npi0_eff.SetMarkerStyle(8);"
   ]
  },
  {
   "cell_type": "code",
   "execution_count": 16,
   "metadata": {},
   "outputs": [
    {
     "data": {
      "text/html": [
       "\n",
       "<div id=\"root_plot_3\"\n",
       "     style=\"width: 696px; height: 472px\">\n",
       "</div>\n",
       "\n",
       "<script>\n",
       " requirejs.config({\n",
       "     paths: {\n",
       "       'JSRootCore' : 'https://root.cern.ch/js/notebook//scripts/JSRootCore',\n",
       "     }\n",
       "   });\n",
       " require(['JSRootCore'],\n",
       "     function(Core) {\n",
       "       var obj = Core.JSONR_unref({\"_typename\":\"TCanvas\",\"fUniqueID\":0,\"fBits\":53673992,\"fLineColor\":1,\"fLineStyle\":1,\"fLineWidth\":1,\"fFillColor\":0,\"fFillStyle\":1001,\"fLeftMargin\":0.1,\"fRightMargin\":0.1,\"fBottomMargin\":0.1,\"fTopMargin\":0.1,\"fXfile\":2,\"fYfile\":2,\"fAfile\":1,\"fXstat\":0.99,\"fYstat\":0.99,\"fAstat\":2,\"fFrameFillColor\":0,\"fFrameLineColor\":1,\"fFrameFillStyle\":1001,\"fFrameLineStyle\":1,\"fFrameLineWidth\":1,\"fFrameBorderSize\":1,\"fFrameBorderMode\":0,\"fX1\":-0.437500032596292,\"fY1\":-0.137500010244549,\"fX2\":3.93750003259629,\"fY2\":1.23750001024455,\"fXtoAbsPixelk\":69.6000541484835,\"fXtoPixelk\":69.6000541484835,\"fXtoPixel\":159.085711915152,\"fYtoAbsPixelk\":424.800047186661,\"fYtoPixelk\":424.800047186661,\"fYtoPixel\":-343.272722157565,\"fUtoAbsPixelk\":5e-5,\"fUtoPixelk\":5e-5,\"fUtoPixel\":696,\"fVtoAbsPixelk\":472.00005,\"fVtoPixelk\":472,\"fVtoPixel\":-472,\"fAbsPixeltoXk\":-0.437500032596292,\"fPixeltoXk\":-0.437500032596292,\"fPixeltoX\":0.00628591963389739,\"fAbsPixeltoYk\":1.23750001024455,\"fPixeltoYk\":-0.137500010244549,\"fPixeltoY\":-0.00291313563662944,\"fXlowNDC\":0,\"fYlowNDC\":0,\"fXUpNDC\":0,\"fYUpNDC\":0,\"fWNDC\":1,\"fHNDC\":1,\"fAbsXlowNDC\":0,\"fAbsYlowNDC\":0,\"fAbsWNDC\":1,\"fAbsHNDC\":1,\"fUxmin\":0,\"fUymin\":0,\"fUxmax\":3.5,\"fUymax\":1.1,\"fTheta\":30,\"fPhi\":30,\"fAspectRatio\":0,\"fNumber\":0,\"fTickx\":0,\"fTicky\":0,\"fLogx\":0,\"fLogy\":0,\"fLogz\":0,\"fPadPaint\":0,\"fCrosshair\":0,\"fCrosshairPos\":0,\"fBorderSize\":2,\"fBorderMode\":0,\"fModified\":false,\"fGridx\":false,\"fGridy\":false,\"fAbsCoord\":false,\"fEditable\":true,\"fFixedAspectRatio\":false,\"fPrimitives\":{\"_typename\":\"TList\",\"name\":\"TList\",\"arr\":[{\"_typename\":\"TFrame\",\"fUniqueID\":0,\"fBits\":50331656,\"fLineColor\":1,\"fLineStyle\":1,\"fLineWidth\":1,\"fFillColor\":0,\"fFillStyle\":1001,\"fX1\":0,\"fY1\":0,\"fX2\":3.5,\"fY2\":1.1,\"fBorderSize\":1,\"fBorderMode\":0},{\"_typename\":\"TH1F\",\"fUniqueID\":0,\"fBits\":50332168,\"fName\":\"h_nue_Np_eff\",\"fTitle\":\"Neutrino Energy Distribution\",\"fLineColor\":432,\"fLineStyle\":1,\"fLineWidth\":1,\"fFillColor\":432,\"fFillStyle\":1001,\"fMarkerColor\":432,\"fMarkerStyle\":8,\"fMarkerSize\":1,\"fNcells\":37,\"fXaxis\":{\"_typename\":\"TAxis\",\"fUniqueID\":0,\"fBits\":50331648,\"fName\":\"xaxis\",\"fTitle\":\"E_{#nu}\",\"fNdivisions\":510,\"fAxisColor\":1,\"fLabelColor\":1,\"fLabelFont\":42,\"fLabelOffset\":0.005,\"fLabelSize\":0.035,\"fTickLength\":0.03,\"fTitleOffset\":1,\"fTitleSize\":0.035,\"fTitleColor\":1,\"fTitleFont\":42,\"fNbins\":35,\"fXmin\":0,\"fXmax\":3.5,\"fXbins\":[],\"fFirst\":0,\"fLast\":0,\"fBits2\":0,\"fTimeDisplay\":false,\"fTimeFormat\":\"\",\"fLabels\":null,\"fModLabs\":null},\"fYaxis\":{\"_typename\":\"TAxis\",\"fUniqueID\":0,\"fBits\":50331648,\"fName\":\"yaxis\",\"fTitle\":\"Efficiency\",\"fNdivisions\":510,\"fAxisColor\":1,\"fLabelColor\":1,\"fLabelFont\":42,\"fLabelOffset\":0.005,\"fLabelSize\":0.035,\"fTickLength\":0.03,\"fTitleOffset\":0,\"fTitleSize\":0.035,\"fTitleColor\":1,\"fTitleFont\":42,\"fNbins\":1,\"fXmin\":0,\"fXmax\":1,\"fXbins\":[],\"fFirst\":0,\"fLast\":0,\"fBits2\":0,\"fTimeDisplay\":false,\"fTimeFormat\":\"\",\"fLabels\":null,\"fModLabs\":null},\"fZaxis\":{\"_typename\":\"TAxis\",\"fUniqueID\":0,\"fBits\":50331648,\"fName\":\"zaxis\",\"fTitle\":\"\",\"fNdivisions\":510,\"fAxisColor\":1,\"fLabelColor\":1,\"fLabelFont\":42,\"fLabelOffset\":0.005,\"fLabelSize\":0.035,\"fTickLength\":0.03,\"fTitleOffset\":1,\"fTitleSize\":0.035,\"fTitleColor\":1,\"fTitleFont\":42,\"fNbins\":1,\"fXmin\":0,\"fXmax\":1,\"fXbins\":[],\"fFirst\":0,\"fLast\":0,\"fBits2\":0,\"fTimeDisplay\":false,\"fTimeFormat\":\"\",\"fLabels\":null,\"fModLabs\":null},\"fBarOffset\":0,\"fBarWidth\":1000,\"fEntries\":35,\"fTsumw\":0,\"fTsumw2\":0,\"fTsumwx\":0,\"fTsumwx2\":0,\"fMaximum\":1.1,\"fMinimum\":0,\"fNormFactor\":0,\"fContour\":[],\"fSumw2\":[0,0,8.98391136447254e-5,2.76084073585877e-4,2.11733853254478e-4,1.88675895139511e-4,1.655203564313e-4,1.58205872086612e-4,1.68956946173905e-4,1.44841877457055e-4,1.75787616919367e-4,1.62429478810536e-4,1.74770754853018e-4,1.88875833515078e-4,2.00663663174063e-4,2.03429320223718e-4,2.30043133192443e-4,2.19134437227041e-4,2.53259208916722e-4,2.97770924240675e-4,3.15692981351619e-4,3.0623016767236e-4,3.99205073392435e-4,3.83237786169322e-4,4.4321464517517e-4,4.7033333726724e-4,4.98517975628182e-4,5.68742617563619e-4,6.69486465192455e-4,8.65589488636364e-4,5.78125021109978e-4,0.00111820798796844,8.54136304842965e-4,0.00120680555976927,0.0010614299837745,1.94245999855939e-4,0],\"fOption\":\"\",\"fFunctions\":{\"_typename\":\"TList\",\"name\":\"TList\",\"arr\":[],\"opt\":[]},\"fBufferSize\":0,\"fBuffer\":[],\"fBinStatErrOpt\":0,\"fArray\":[0,0,0.00952381,0.1187335,0.1638331,0.2108843,0.2227533,0.2158878,0.2524619,0.2346774,0.2569061,0.2175573,0.2305419,0.2382934,0.2192263,0.2126367,0.2175676,0.1839416,0.1672727,0.1973684,0.1700224,0.1814433,0.2082324,0.1675824,0.1884058,0.17,0.1617647,0.1673469,0.1858407,0.1875,0.075,0.168,0.1071429,0.1889764,0.1452992,0.1265378,0]},{\"_typename\":\"TH1F\",\"fUniqueID\":0,\"fBits\":50332168,\"fName\":\"h_nue_1p_eff\",\"fTitle\":\"Neutrino Energy Distribution\",\"fLineColor\":600,\"fLineStyle\":1,\"fLineWidth\":1,\"fFillColor\":600,\"fFillStyle\":1001,\"fMarkerColor\":600,\"fMarkerStyle\":8,\"fMarkerSize\":1,\"fNcells\":37,\"fXaxis\":{\"_typename\":\"TAxis\",\"fUniqueID\":0,\"fBits\":50331648,\"fName\":\"xaxis\",\"fTitle\":\"E_{#nu}\",\"fNdivisions\":510,\"fAxisColor\":1,\"fLabelColor\":1,\"fLabelFont\":42,\"fLabelOffset\":0.005,\"fLabelSize\":0.035,\"fTickLength\":0.03,\"fTitleOffset\":1,\"fTitleSize\":0.035,\"fTitleColor\":1,\"fTitleFont\":42,\"fNbins\":35,\"fXmin\":0,\"fXmax\":3.5,\"fXbins\":[],\"fFirst\":0,\"fLast\":0,\"fBits2\":0,\"fTimeDisplay\":false,\"fTimeFormat\":\"\",\"fLabels\":null,\"fModLabs\":null},\"fYaxis\":{\"_typename\":\"TAxis\",\"fUniqueID\":0,\"fBits\":50331648,\"fName\":\"yaxis\",\"fTitle\":\"Efficiency\",\"fNdivisions\":510,\"fAxisColor\":1,\"fLabelColor\":1,\"fLabelFont\":42,\"fLabelOffset\":0.005,\"fLabelSize\":0.035,\"fTickLength\":0.03,\"fTitleOffset\":0,\"fTitleSize\":0.035,\"fTitleColor\":1,\"fTitleFont\":42,\"fNbins\":1,\"fXmin\":0,\"fXmax\":1,\"fXbins\":[],\"fFirst\":0,\"fLast\":0,\"fBits2\":0,\"fTimeDisplay\":false,\"fTimeFormat\":\"\",\"fLabels\":null,\"fModLabs\":null},\"fZaxis\":{\"_typename\":\"TAxis\",\"fUniqueID\":0,\"fBits\":50331648,\"fName\":\"zaxis\",\"fTitle\":\"\",\"fNdivisions\":510,\"fAxisColor\":1,\"fLabelColor\":1,\"fLabelFont\":42,\"fLabelOffset\":0.005,\"fLabelSize\":0.035,\"fTickLength\":0.03,\"fTitleOffset\":1,\"fTitleSize\":0.035,\"fTitleColor\":1,\"fTitleFont\":42,\"fNbins\":1,\"fXmin\":0,\"fXmax\":1,\"fXbins\":[],\"fFirst\":0,\"fLast\":0,\"fBits2\":0,\"fTimeDisplay\":false,\"fTimeFormat\":\"\",\"fLabels\":null,\"fModLabs\":null},\"fBarOffset\":0,\"fBarWidth\":1000,\"fEntries\":35,\"fTsumw\":0,\"fTsumw2\":0,\"fTsumwx\":0,\"fTsumwx2\":0,\"fMaximum\":-1111,\"fMinimum\":-1111,\"fNormFactor\":0,\"fContour\":[],\"fSumw2\":[0,0.0174927120219167,0.0021457726227878,6.32403348494704e-4,3.83997899333829e-4,2.83433594886511e-4,2.34965350446996e-4,2.30607416101741e-4,2.16566546084228e-4,1.90279256820935e-4,2.13560167453763e-4,2.176768751336e-4,2.17849006307038e-4,2.18392336721205e-4,2.46244872263047e-4,2.35902661516385e-4,2.64831307835587e-4,2.75577876673944e-4,3.52967682286011e-4,3.57683747181841e-4,3.80116933829513e-4,3.70726422431435e-4,4.09340628429109e-4,4.99683341991405e-4,3.94120100294895e-4,4.99074082462876e-4,5.68485403850101e-4,5.46302965525741e-4,5.92557909422588e-4,8.2450194550562e-4,0.00115740743500215,9.40032043045043e-4,0.00130967568041371,7.23497530927074e-4,0.00111262836547576,1.94245999855939e-4,0],\"fOption\":\"\",\"fFunctions\":{\"_typename\":\"TList\",\"name\":\"TList\",\"arr\":[],\"opt\":[]},\"fBufferSize\":0,\"fBuffer\":[],\"fBinStatErrOpt\":0,\"fArray\":[0,0.1428571,0.3428572,0.3984169,0.4605873,0.4965986,0.4349904,0.4429907,0.4100268,0.3814516,0.3655617,0.3520992,0.3300492,0.2996878,0.3001172,0.2636695,0.2675676,0.2525547,0.2636364,0.2556391,0.2170022,0.2350515,0.2154964,0.239011,0.1623188,0.1833333,0.1911765,0.1591837,0.159292,0.1761364,0.1666667,0.136,0.1785714,0.1023622,0.1538462,0.1265378,0]},{\"_typename\":\"TH1F\",\"fUniqueID\":0,\"fBits\":50332168,\"fName\":\"h_nue_0p_eff\",\"fTitle\":\"Neutrino Energy Distribution\",\"fLineColor\":807,\"fLineStyle\":1,\"fLineWidth\":1,\"fFillColor\":807,\"fFillStyle\":1001,\"fMarkerColor\":807,\"fMarkerStyle\":8,\"fMarkerSize\":1,\"fNcells\":37,\"fXaxis\":{\"_typename\":\"TAxis\",\"fUniqueID\":0,\"fBits\":50331648,\"fName\":\"xaxis\",\"fTitle\":\"E_{#nu}\",\"fNdivisions\":510,\"fAxisColor\":1,\"fLabelColor\":1,\"fLabelFont\":42,\"fLabelOffset\":0.005,\"fLabelSize\":0.035,\"fTickLength\":0.03,\"fTitleOffset\":1,\"fTitleSize\":0.035,\"fTitleColor\":1,\"fTitleFont\":42,\"fNbins\":35,\"fXmin\":0,\"fXmax\":3.5,\"fXbins\":[],\"fFirst\":0,\"fLast\":0,\"fBits2\":0,\"fTimeDisplay\":false,\"fTimeFormat\":\"\",\"fLabels\":null,\"fModLabs\":null},\"fYaxis\":{\"_typename\":\"TAxis\",\"fUniqueID\":0,\"fBits\":50331648,\"fName\":\"yaxis\",\"fTitle\":\"Efficiency\",\"fNdivisions\":510,\"fAxisColor\":1,\"fLabelColor\":1,\"fLabelFont\":42,\"fLabelOffset\":0.005,\"fLabelSize\":0.035,\"fTickLength\":0.03,\"fTitleOffset\":0,\"fTitleSize\":0.035,\"fTitleColor\":1,\"fTitleFont\":42,\"fNbins\":1,\"fXmin\":0,\"fXmax\":1,\"fXbins\":[],\"fFirst\":0,\"fLast\":0,\"fBits2\":0,\"fTimeDisplay\":false,\"fTimeFormat\":\"\",\"fLabels\":null,\"fModLabs\":null},\"fZaxis\":{\"_typename\":\"TAxis\",\"fUniqueID\":0,\"fBits\":50331648,\"fName\":\"zaxis\",\"fTitle\":\"\",\"fNdivisions\":510,\"fAxisColor\":1,\"fLabelColor\":1,\"fLabelFont\":42,\"fLabelOffset\":0.005,\"fLabelSize\":0.035,\"fTickLength\":0.03,\"fTitleOffset\":1,\"fTitleSize\":0.035,\"fTitleColor\":1,\"fTitleFont\":42,\"fNbins\":1,\"fXmin\":0,\"fXmax\":1,\"fXbins\":[],\"fFirst\":0,\"fLast\":0,\"fBits2\":0,\"fTimeDisplay\":false,\"fTimeFormat\":\"\",\"fLabels\":null,\"fModLabs\":null},\"fBarOffset\":0,\"fBarWidth\":1000,\"fEntries\":35,\"fTsumw\":0,\"fTsumw2\":0,\"fTsumwx\":0,\"fTsumwx2\":0,\"fMaximum\":-1111,\"fMinimum\":-1111,\"fNormFactor\":0,\"fContour\":[],\"fSumw2\":[0,0.01749271050139,0.00217341533884761,6.58597357811162e-4,3.5342634464633e-4,2.04323106347946e-4,1.77644130915203e-4,1.40938728265668e-4,1.25849141925818e-4,1.09533392113994e-4,1.02140495642487e-4,1.17026370301326e-4,9.59606733352846e-5,1.04639567337404e-4,1.1709005780957e-4,1.2178850359205e-4,1.27425818548686e-4,1.32238553492633e-4,1.6627498086407e-4,1.4554810902034e-4,1.61451724478515e-4,1.41684918833087e-4,2.02285480939448e-4,2.07760787488361e-4,2.09090160012608e-4,2.17000000854333e-4,2.38873189001568e-4,2.77843407748086e-4,3.24347488700118e-4,4.69571763158382e-4,5.78125021109978e-4,5.88799987983704e-4,4.5269224185187e-4,6.73702132557994e-4,4.80765329651123e-4,8.77754830672794e-5,0],\"fOption\":\"\",\"fFunctions\":{\"_typename\":\"TList\",\"name\":\"TList\",\"arr\":[],\"opt\":[]},\"fBufferSize\":0,\"fBuffer\":[],\"fBinStatErrOpt\":0,\"fArray\":[0,0.8571429,0.6476191,0.4802111,0.3539413,0.2358277,0.2466539,0.1850467,0.1692032,0.1620968,0.1270718,0.1431298,0.1093596,0.1134235,0.112544,0.1130012,0.1054054,0.1007299,0.1018182,0.08458646,0.07829978,0.0742268,0.09200969,0.08241758,0.07826087,0.07,0.06985294,0.07346939,0.07964602,0.09090909,0.075,0.08,0.05357143,0.09448819,0.05982906,0.05272408,0]},{\"_typename\":\"TH1F\",\"fUniqueID\":0,\"fBits\":50332168,\"fName\":\"h_nue_Npi_eff\",\"fTitle\":\"Neutrino Energy Distribution\",\"fLineColor\":418,\"fLineStyle\":1,\"fLineWidth\":1,\"fFillColor\":418,\"fFillStyle\":1001,\"fMarkerColor\":418,\"fMarkerStyle\":8,\"fMarkerSize\":1,\"fNcells\":37,\"fXaxis\":{\"_typename\":\"TAxis\",\"fUniqueID\":0,\"fBits\":50331648,\"fName\":\"xaxis\",\"fTitle\":\"E_{#nu}\",\"fNdivisions\":510,\"fAxisColor\":1,\"fLabelColor\":1,\"fLabelFont\":42,\"fLabelOffset\":0.005,\"fLabelSize\":0.035,\"fTickLength\":0.03,\"fTitleOffset\":1,\"fTitleSize\":0.035,\"fTitleColor\":1,\"fTitleFont\":42,\"fNbins\":35,\"fXmin\":0,\"fXmax\":3.5,\"fXbins\":[],\"fFirst\":0,\"fLast\":0,\"fBits2\":0,\"fTimeDisplay\":false,\"fTimeFormat\":\"\",\"fLabels\":null,\"fModLabs\":null},\"fYaxis\":{\"_typename\":\"TAxis\",\"fUniqueID\":0,\"fBits\":50331648,\"fName\":\"yaxis\",\"fTitle\":\"Efficiency\",\"fNdivisions\":510,\"fAxisColor\":1,\"fLabelColor\":1,\"fLabelFont\":42,\"fLabelOffset\":0.005,\"fLabelSize\":0.035,\"fTickLength\":0.03,\"fTitleOffset\":0,\"fTitleSize\":0.035,\"fTitleColor\":1,\"fTitleFont\":42,\"fNbins\":1,\"fXmin\":0,\"fXmax\":1,\"fXbins\":[],\"fFirst\":0,\"fLast\":0,\"fBits2\":0,\"fTimeDisplay\":false,\"fTimeFormat\":\"\",\"fLabels\":null,\"fModLabs\":null},\"fZaxis\":{\"_typename\":\"TAxis\",\"fUniqueID\":0,\"fBits\":50331648,\"fName\":\"zaxis\",\"fTitle\":\"\",\"fNdivisions\":510,\"fAxisColor\":1,\"fLabelColor\":1,\"fLabelFont\":42,\"fLabelOffset\":0.005,\"fLabelSize\":0.035,\"fTickLength\":0.03,\"fTitleOffset\":1,\"fTitleSize\":0.035,\"fTitleColor\":1,\"fTitleFont\":42,\"fNbins\":1,\"fXmin\":0,\"fXmax\":1,\"fXbins\":[],\"fFirst\":0,\"fLast\":0,\"fBits2\":0,\"fTimeDisplay\":false,\"fTimeFormat\":\"\",\"fLabels\":null,\"fModLabs\":null},\"fBarOffset\":0,\"fBarWidth\":1000,\"fEntries\":35,\"fTsumw\":0,\"fTsumw2\":0,\"fTsumwx\":0,\"fTsumwx2\":0,\"fMaximum\":-1111,\"fMinimum\":-1111,\"fNormFactor\":0,\"fContour\":[],\"fSumw2\":[0,0,0,6.94343201686502e-6,2.58307457842128e-5,4.67433972720419e-5,6.28496607699974e-5,9.77606480194185e-5,1.00534659317469e-4,1.07322680392353e-4,1.37812056274646e-4,1.57199344853156e-4,1.71597692169701e-4,1.87737815355515e-4,2.16862801455256e-4,2.44018315413773e-4,2.70652783013396e-4,3.06994801988247e-4,3.79149500972252e-4,3.69445796464402e-4,4.97141444146737e-4,4.6006401929394e-4,5.26538458112683e-4,5.96493241000094e-4,6.69692461371657e-4,7.21296291439621e-4,8.39609209559562e-4,9.24784757770599e-4,9.06596245016635e-4,0.00126619290355467,0.00207407407517786,0.00193228798876953,0.00207199231156694,0.00176334207774598,0.00192306133928694,4.27629986918536e-4,0],\"fOption\":\"\",\"fFunctions\":{\"_typename\":\"TList\",\"name\":\"TList\",\"arr\":[],\"opt\":[]},\"fBufferSize\":0,\"fBuffer\":[],\"fBinStatErrOpt\":0,\"fArray\":[0,0,0,0.002638523,0.01700155,0.0430839,0.0707457,0.1186916,0.1289167,0.1580645,0.1832412,0.2080153,0.2246305,0.2362123,0.2450176,0.2782503,0.277027,0.3007299,0.2963636,0.268797,0.3333333,0.3360825,0.3196126,0.3186813,0.3623188,0.3166667,0.3529412,0.3469388,0.2876106,0.3352273,0.4666667,0.408,0.3660714,0.3385827,0.3418804,0.4182777,0]},{\"_typename\":\"TH1F\",\"fUniqueID\":0,\"fBits\":50332168,\"fName\":\"h_nue_Npi0_eff\",\"fTitle\":\"Neutrino Energy Distribution\",\"fLineColor\":602,\"fLineStyle\":1,\"fLineWidth\":1,\"fFillColor\":416,\"fFillStyle\":1001,\"fMarkerColor\":416,\"fMarkerStyle\":8,\"fMarkerSize\":1,\"fNcells\":37,\"fXaxis\":{\"_typename\":\"TAxis\",\"fUniqueID\":0,\"fBits\":50331648,\"fName\":\"xaxis\",\"fTitle\":\"E_{#nu}\",\"fNdivisions\":510,\"fAxisColor\":1,\"fLabelColor\":1,\"fLabelFont\":42,\"fLabelOffset\":0.005,\"fLabelSize\":0.035,\"fTickLength\":0.03,\"fTitleOffset\":1,\"fTitleSize\":0.035,\"fTitleColor\":1,\"fTitleFont\":42,\"fNbins\":35,\"fXmin\":0,\"fXmax\":3.5,\"fXbins\":[],\"fFirst\":0,\"fLast\":0,\"fBits2\":0,\"fTimeDisplay\":false,\"fTimeFormat\":\"\",\"fLabels\":null,\"fModLabs\":null},\"fYaxis\":{\"_typename\":\"TAxis\",\"fUniqueID\":0,\"fBits\":50331648,\"fName\":\"yaxis\",\"fTitle\":\"Efficiency\",\"fNdivisions\":510,\"fAxisColor\":1,\"fLabelColor\":1,\"fLabelFont\":42,\"fLabelOffset\":0.005,\"fLabelSize\":0.035,\"fTickLength\":0.03,\"fTitleOffset\":0,\"fTitleSize\":0.035,\"fTitleColor\":1,\"fTitleFont\":42,\"fNbins\":1,\"fXmin\":0,\"fXmax\":1,\"fXbins\":[],\"fFirst\":0,\"fLast\":0,\"fBits2\":0,\"fTimeDisplay\":false,\"fTimeFormat\":\"\",\"fLabels\":null,\"fModLabs\":null},\"fZaxis\":{\"_typename\":\"TAxis\",\"fUniqueID\":0,\"fBits\":50331648,\"fName\":\"zaxis\",\"fTitle\":\"\",\"fNdivisions\":510,\"fAxisColor\":1,\"fLabelColor\":1,\"fLabelFont\":42,\"fLabelOffset\":0.005,\"fLabelSize\":0.035,\"fTickLength\":0.03,\"fTitleOffset\":1,\"fTitleSize\":0.035,\"fTitleColor\":1,\"fTitleFont\":42,\"fNbins\":1,\"fXmin\":0,\"fXmax\":1,\"fXbins\":[],\"fFirst\":0,\"fLast\":0,\"fBits2\":0,\"fTimeDisplay\":false,\"fTimeFormat\":\"\",\"fLabels\":null,\"fModLabs\":null},\"fBarOffset\":0,\"fBarWidth\":1000,\"fEntries\":35,\"fTsumw\":0,\"fTsumw2\":0,\"fTsumwx\":0,\"fTsumwx2\":0,\"fMaximum\":-1111,\"fMinimum\":-1111,\"fNormFactor\":0,\"fContour\":[],\"fSumw2\":[0,0,0,0,7.13336204047017e-6,1.52157980145859e-5,2.31727980511576e-5,3.36314715043205e-5,3.38760593524718e-5,4.81054463030921e-5,5.77354866577391e-5,6.95859486667186e-5,9.29119339523402e-5,1.03801258851136e-4,1.26544656051545e-4,1.39612786083024e-4,1.55262273252205e-4,1.98227158386801e-4,2.57634862109112e-4,2.93467242336768e-4,3.59739528142029e-4,2.9525581345307e-4,3.33025770818907e-4,4.26718257975614e-4,4.78671813709423e-4,6.41333318074544e-4,6.39595773816791e-4,7.71515291086058e-4,9.06596245016635e-4,9.4336228751998e-4,0.00141435186123406,0.00131788802005005,0.00185561113727466,0.00157197160475649,0.00179194353806652,3.51123650770677e-4,0],\"fOption\":\"\",\"fFunctions\":{\"_typename\":\"TList\",\"name\":\"TList\",\"arr\":[],\"opt\":[]},\"fBufferSize\":0,\"fBuffer\":[],\"fBinStatErrOpt\":0,\"fArray\":[0,0,0,0,0.004636785,0.01360544,0.0248566,0.03738318,0.03939123,0.06370968,0.06721915,0.07919847,0.1054187,0.1123829,0.123095,0.1324423,0.1324324,0.1620438,0.1709091,0.193609,0.2013423,0.1731959,0.1646489,0.1923077,0.2086957,0.26,0.2242647,0.2530612,0.2876106,0.2102273,0.2166667,0.208,0.2946429,0.2755905,0.2991453,0.2759227,0]},{\"_typename\":\"TLegend\",\"fUniqueID\":0,\"fBits\":50331656,\"fLineColor\":1,\"fLineStyle\":1,\"fLineWidth\":1,\"fFillColor\":0,\"fFillStyle\":1001,\"fX1\":2.62500001303852,\"fY1\":0.82500000409782,\"fX2\":3.50000002607703,\"fY2\":1.10000000819564,\"fX1NDC\":0.7,\"fY1NDC\":0.7,\"fX2NDC\":0.9,\"fY2NDC\":0.9,\"fBorderSize\":1,\"fInit\":1,\"fShadowColor\":1,\"fCornerRadius\":0,\"fOption\":\"brNDC\",\"fName\":\"TPave\",\"fTextAngle\":0,\"fTextSize\":0,\"fTextAlign\":12,\"fTextColor\":1,\"fTextFont\":42,\"fPrimitives\":{\"_typename\":\"TList\",\"name\":\"TList\",\"arr\":[{\"_typename\":\"TLegendEntry\",\"fUniqueID\":0,\"fBits\":50331656,\"fTextAngle\":0,\"fTextSize\":0,\"fTextAlign\":0,\"fTextColor\":0,\"fTextFont\":42,\"fLineColor\":602,\"fLineStyle\":1,\"fLineWidth\":1,\"fFillColor\":0,\"fFillStyle\":0,\"fMarkerColor\":416,\"fMarkerStyle\":8,\"fMarkerSize\":1,\"fObject\":{\"$ref\":23},\"fLabel\":\"#nu_{e} 1e,Np,N#pi^{#pm},N#pi^{0}\",\"fOption\":\"lp\"},{\"_typename\":\"TLegendEntry\",\"fUniqueID\":0,\"fBits\":50331656,\"fTextAngle\":0,\"fTextSize\":0,\"fTextAlign\":0,\"fTextColor\":0,\"fTextFont\":42,\"fLineColor\":418,\"fLineStyle\":1,\"fLineWidth\":1,\"fFillColor\":0,\"fFillStyle\":0,\"fMarkerColor\":418,\"fMarkerStyle\":8,\"fMarkerSize\":1,\"fObject\":{\"$ref\":18},\"fLabel\":\"#nu_{e} 1e,Np,N#pi^{#pm},0#pi^{0}\",\"fOption\":\"lp\"},{\"_typename\":\"TLegendEntry\",\"fUniqueID\":0,\"fBits\":50331656,\"fTextAngle\":0,\"fTextSize\":0,\"fTextAlign\":0,\"fTextColor\":0,\"fTextFont\":42,\"fLineColor\":432,\"fLineStyle\":1,\"fLineWidth\":1,\"fFillColor\":0,\"fFillStyle\":0,\"fMarkerColor\":432,\"fMarkerStyle\":8,\"fMarkerSize\":1,\"fObject\":{\"$ref\":3},\"fLabel\":\"#nu_{e} 1e,>1p,0#pi\",\"fOption\":\"lp\"},{\"_typename\":\"TLegendEntry\",\"fUniqueID\":0,\"fBits\":50331656,\"fTextAngle\":0,\"fTextSize\":0,\"fTextAlign\":0,\"fTextColor\":0,\"fTextFont\":42,\"fLineColor\":600,\"fLineStyle\":1,\"fLineWidth\":1,\"fFillColor\":0,\"fFillStyle\":0,\"fMarkerColor\":600,\"fMarkerStyle\":8,\"fMarkerSize\":1,\"fObject\":{\"$ref\":8},\"fLabel\":\"#nu_{e} 1e,1p,0#pi\",\"fOption\":\"lp\"},{\"_typename\":\"TLegendEntry\",\"fUniqueID\":0,\"fBits\":50331656,\"fTextAngle\":0,\"fTextSize\":0,\"fTextAlign\":0,\"fTextColor\":0,\"fTextFont\":42,\"fLineColor\":807,\"fLineStyle\":1,\"fLineWidth\":1,\"fFillColor\":0,\"fFillStyle\":0,\"fMarkerColor\":807,\"fMarkerStyle\":8,\"fMarkerSize\":1,\"fObject\":{\"$ref\":13},\"fLabel\":\"#nu_{e} 1e,0p,0#pi\",\"fOption\":\"lp\"}],\"opt\":[\"lp\",\"lp\",\"lp\",\"lp\",\"lp\"]},\"fEntrySeparation\":0.1,\"fMargin\":0.25,\"fNColumns\":1,\"fColumnSeparation\":0},{\"_typename\":\"TPaveText\",\"fUniqueID\":0,\"fBits\":50331657,\"fLineColor\":1,\"fLineStyle\":1,\"fLineWidth\":1,\"fFillColor\":0,\"fFillStyle\":0,\"fX1\":0.678502139205851,\"fY1\":1.14672671036369,\"fX2\":2.82149786079415,\"fY2\":1.23062501669861,\"fX1NDC\":0.255086206896552,\"fY1NDC\":0.933983055615829,\"fX2NDC\":0.744913793103448,\"fY2NDC\":0.995000004768372,\"fBorderSize\":0,\"fInit\":1,\"fShadowColor\":1,\"fCornerRadius\":0,\"fOption\":\"blNDC\",\"fName\":\"title\",\"fTextAngle\":0,\"fTextSize\":0,\"fTextAlign\":22,\"fTextColor\":1,\"fTextFont\":42,\"fLabel\":\"\",\"fLongest\":28,\"fMargin\":0.05,\"fLines\":{\"_typename\":\"TList\",\"name\":\"TList\",\"arr\":[{\"_typename\":\"TLatex\",\"fUniqueID\":0,\"fBits\":50331648,\"fName\":\"\",\"fTitle\":\"Neutrino Energy Distribution\",\"fTextAngle\":0,\"fTextSize\":0,\"fTextAlign\":0,\"fTextColor\":0,\"fTextFont\":0,\"fX\":0,\"fY\":0,\"fLineColor\":1,\"fLineStyle\":1,\"fLineWidth\":2,\"fLimitFactorSize\":3,\"fOriginSize\":0.0518644079566002}],\"opt\":[\"\"]}}],\"opt\":[\"\",\"e\",\"esame\",\"esame\",\"esame\",\"esame\",\"\",\"blNDC\"]},\"fExecs\":null,\"fName\":\"c2\",\"fTitle\":\"Canvas2\",\"fNumPaletteColor\":0,\"fNextPaletteColor\":0,\"fDISPLAY\":\"$DISPLAY\",\"fDoubleBuffer\":0,\"fRetained\":true,\"fXsizeUser\":0,\"fYsizeUser\":0,\"fXsizeReal\":20,\"fYsizeReal\":14.28571,\"fWindowTopX\":0,\"fWindowTopY\":0,\"fWindowWidth\":0,\"fWindowHeight\":0,\"fCw\":696,\"fCh\":472,\"fCatt\":{\"_typename\":\"TAttCanvas\",\"fXBetween\":2,\"fYBetween\":2,\"fTitleFromTop\":1.2,\"fXdate\":0.2,\"fYdate\":0.3,\"fAdate\":1},\"kMoveOpaque\":true,\"kResizeOpaque\":true,\"fHighLightColor\":2,\"fBatch\":true,\"kShowEventStatus\":false,\"kAutoExec\":true,\"kMenuBar\":true});\n",
       "       Core.draw(\"root_plot_3\", obj, \"\");\n",
       "     }\n",
       " );\n",
       "</script>\n"
      ],
      "text/plain": [
       "<IPython.core.display.HTML object>"
      ]
     },
     "metadata": {},
     "output_type": "display_data"
    }
   ],
   "source": [
    "c2 = ROOT.TCanvas(\"c2\",\"Canvas2\");\n",
    "c2.cd();\n",
    "h_nue_Np_eff.SetMaximum(1.1); h_nue_Np_eff.SetMinimum(0.0);\n",
    "h_nue_Np_eff.Draw(\"e\");\n",
    "h_nue_1p_eff.Draw(\"esame\");\n",
    "h_nue_0p_eff.Draw(\"esame\");\n",
    "h_nue_Npi_eff.Draw(\"esame\");\n",
    "h_nue_Npi0_eff.Draw(\"esame\");\n",
    "leg2 = ROOT.TLegend(0.7,0.7,0.9,0.9);\n",
    "leg2.AddEntry(h_nue_Npi0_eff,\"#nu_{e} 1e,Np,N#pi^{#pm},N#pi^{0}\",\"lp\");\n",
    "leg2.AddEntry(h_nue_Npi_eff,\"#nu_{e} 1e,Np,N#pi^{#pm},0#pi^{0}\",\"lp\");\n",
    "leg2.AddEntry(h_nue_Np_eff,\"#nu_{e} 1e,>1p,0#pi\",\"lp\");\n",
    "leg2.AddEntry(h_nue_1p_eff,\"#nu_{e} 1e,1p,0#pi\",\"lp\");\n",
    "leg2.AddEntry(h_nue_0p_eff,\"#nu_{e} 1e,0p,0#pi\",\"lp\");\n",
    "leg2.Draw();\n",
    "c2.Draw()"
   ]
  },
  {
   "cell_type": "code",
   "execution_count": 17,
   "metadata": {},
   "outputs": [],
   "source": [
    "h_nue_st1 = ROOT.THStack(\"h_nue_st1\",\"Neutrino Energy Distribution;E_{#nu};Fraction of Events\");\n",
    "h_nue_st1.Add(h_nue_0p_eff);\n",
    "h_nue_st1.Add(h_nue_1p_eff);\n",
    "h_nue_st1.Add(h_nue_Np_eff);\n",
    "h_nue_st1.Add(h_nue_Npi_eff);\n",
    "h_nue_st1.Add(h_nue_Npi0_eff);"
   ]
  },
  {
   "cell_type": "code",
   "execution_count": 18,
   "metadata": {},
   "outputs": [
    {
     "data": {
      "text/html": [
       "\n",
       "<div id=\"root_plot_4\"\n",
       "     style=\"width: 696px; height: 472px\">\n",
       "</div>\n",
       "\n",
       "<script>\n",
       " requirejs.config({\n",
       "     paths: {\n",
       "       'JSRootCore' : 'https://root.cern.ch/js/notebook//scripts/JSRootCore',\n",
       "     }\n",
       "   });\n",
       " require(['JSRootCore'],\n",
       "     function(Core) {\n",
       "       var obj = Core.JSONR_unref({\"_typename\":\"TCanvas\",\"fUniqueID\":0,\"fBits\":53673992,\"fLineColor\":1,\"fLineStyle\":1,\"fLineWidth\":1,\"fFillColor\":0,\"fFillStyle\":1001,\"fLeftMargin\":0.1,\"fRightMargin\":0.1,\"fBottomMargin\":0.1,\"fTopMargin\":0.1,\"fXfile\":2,\"fYfile\":2,\"fAfile\":1,\"fXstat\":0.99,\"fYstat\":0.99,\"fAstat\":2,\"fFrameFillColor\":0,\"fFrameLineColor\":1,\"fFrameFillStyle\":1001,\"fFrameLineStyle\":1,\"fFrameLineWidth\":1,\"fFrameBorderSize\":1,\"fFrameBorderMode\":0,\"fX1\":-0.437500032596292,\"fY1\":-0.131250025425108,\"fX2\":3.93750003259629,\"fY2\":1.18125015059486,\"fXtoAbsPixelk\":69.6000541484835,\"fXtoPixelk\":69.6000541484835,\"fXtoPixel\":159.085711915152,\"fYtoAbsPixelk\":424.800047186661,\"fYtoPixelk\":424.800047186661,\"fYtoPixel\":-359.61899939038,\"fUtoAbsPixelk\":5e-5,\"fUtoPixelk\":5e-5,\"fUtoPixel\":696,\"fVtoAbsPixelk\":472.00005,\"fVtoPixelk\":472,\"fVtoPixel\":-472,\"fAbsPixeltoXk\":-0.437500032596292,\"fPixeltoXk\":-0.437500032596292,\"fPixeltoX\":0.00628591963389739,\"fAbsPixeltoYk\":1.18125015059486,\"fPixeltoYk\":-0.131250025425108,\"fPixeltoY\":-0.00278072071190672,\"fXlowNDC\":0,\"fYlowNDC\":0,\"fXUpNDC\":0,\"fYUpNDC\":0,\"fWNDC\":1,\"fHNDC\":1,\"fAbsXlowNDC\":0,\"fAbsYlowNDC\":0,\"fAbsWNDC\":1,\"fAbsHNDC\":1,\"fUxmin\":0,\"fUymin\":0,\"fUxmax\":3.5,\"fUymax\":1.05000012516975,\"fTheta\":30,\"fPhi\":30,\"fAspectRatio\":0,\"fNumber\":0,\"fTickx\":0,\"fTicky\":0,\"fLogx\":0,\"fLogy\":0,\"fLogz\":0,\"fPadPaint\":0,\"fCrosshair\":0,\"fCrosshairPos\":0,\"fBorderSize\":2,\"fBorderMode\":0,\"fModified\":false,\"fGridx\":false,\"fGridy\":false,\"fAbsCoord\":false,\"fEditable\":true,\"fFixedAspectRatio\":false,\"fPrimitives\":{\"_typename\":\"TList\",\"name\":\"TList\",\"arr\":[{\"_typename\":\"TFrame\",\"fUniqueID\":0,\"fBits\":50331656,\"fLineColor\":1,\"fLineStyle\":1,\"fLineWidth\":1,\"fFillColor\":0,\"fFillStyle\":1001,\"fX1\":0,\"fY1\":0,\"fX2\":3.5,\"fY2\":1.05000012516975,\"fBorderSize\":1,\"fBorderMode\":0},{\"_typename\":\"THStack\",\"fUniqueID\":0,\"fBits\":50331656,\"fName\":\"h_nue_st1\",\"fTitle\":\"Neutrino Energy Distribution;E_{#nu};Fraction of Events\",\"fHists\":{\"_typename\":\"TList\",\"name\":\"TList\",\"arr\":[{\"_typename\":\"TH1F\",\"fUniqueID\":0,\"fBits\":50332168,\"fName\":\"h_nue_0p_eff\",\"fTitle\":\"Neutrino Energy Distribution\",\"fLineColor\":807,\"fLineStyle\":1,\"fLineWidth\":1,\"fFillColor\":807,\"fFillStyle\":1001,\"fMarkerColor\":807,\"fMarkerStyle\":8,\"fMarkerSize\":1,\"fNcells\":37,\"fXaxis\":{\"_typename\":\"TAxis\",\"fUniqueID\":0,\"fBits\":50331648,\"fName\":\"xaxis\",\"fTitle\":\"E_{#nu}\",\"fNdivisions\":510,\"fAxisColor\":1,\"fLabelColor\":1,\"fLabelFont\":42,\"fLabelOffset\":0.005,\"fLabelSize\":0.035,\"fTickLength\":0.03,\"fTitleOffset\":1,\"fTitleSize\":0.035,\"fTitleColor\":1,\"fTitleFont\":42,\"fNbins\":35,\"fXmin\":0,\"fXmax\":3.5,\"fXbins\":[],\"fFirst\":0,\"fLast\":0,\"fBits2\":0,\"fTimeDisplay\":false,\"fTimeFormat\":\"\",\"fLabels\":null,\"fModLabs\":null},\"fYaxis\":{\"_typename\":\"TAxis\",\"fUniqueID\":0,\"fBits\":50331648,\"fName\":\"yaxis\",\"fTitle\":\"Efficiency\",\"fNdivisions\":510,\"fAxisColor\":1,\"fLabelColor\":1,\"fLabelFont\":42,\"fLabelOffset\":0.005,\"fLabelSize\":0.035,\"fTickLength\":0.03,\"fTitleOffset\":0,\"fTitleSize\":0.035,\"fTitleColor\":1,\"fTitleFont\":42,\"fNbins\":1,\"fXmin\":0,\"fXmax\":1,\"fXbins\":[],\"fFirst\":0,\"fLast\":0,\"fBits2\":0,\"fTimeDisplay\":false,\"fTimeFormat\":\"\",\"fLabels\":null,\"fModLabs\":null},\"fZaxis\":{\"_typename\":\"TAxis\",\"fUniqueID\":0,\"fBits\":50331648,\"fName\":\"zaxis\",\"fTitle\":\"\",\"fNdivisions\":510,\"fAxisColor\":1,\"fLabelColor\":1,\"fLabelFont\":42,\"fLabelOffset\":0.005,\"fLabelSize\":0.035,\"fTickLength\":0.03,\"fTitleOffset\":1,\"fTitleSize\":0.035,\"fTitleColor\":1,\"fTitleFont\":42,\"fNbins\":1,\"fXmin\":0,\"fXmax\":1,\"fXbins\":[],\"fFirst\":0,\"fLast\":0,\"fBits2\":0,\"fTimeDisplay\":false,\"fTimeFormat\":\"\",\"fLabels\":null,\"fModLabs\":null},\"fBarOffset\":0,\"fBarWidth\":1000,\"fEntries\":35,\"fTsumw\":0,\"fTsumw2\":0,\"fTsumwx\":0,\"fTsumwx2\":0,\"fMaximum\":-1111,\"fMinimum\":-1111,\"fNormFactor\":0,\"fContour\":[],\"fSumw2\":[0,0.01749271050139,0.00217341533884761,6.58597357811162e-4,3.5342634464633e-4,2.04323106347946e-4,1.77644130915203e-4,1.40938728265668e-4,1.25849141925818e-4,1.09533392113994e-4,1.02140495642487e-4,1.17026370301326e-4,9.59606733352846e-5,1.04639567337404e-4,1.1709005780957e-4,1.2178850359205e-4,1.27425818548686e-4,1.32238553492633e-4,1.6627498086407e-4,1.4554810902034e-4,1.61451724478515e-4,1.41684918833087e-4,2.02285480939448e-4,2.07760787488361e-4,2.09090160012608e-4,2.17000000854333e-4,2.38873189001568e-4,2.77843407748086e-4,3.24347488700118e-4,4.69571763158382e-4,5.78125021109978e-4,5.88799987983704e-4,4.5269224185187e-4,6.73702132557994e-4,4.80765329651123e-4,8.77754830672794e-5,0],\"fOption\":\"\",\"fFunctions\":{\"_typename\":\"TList\",\"name\":\"TList\",\"arr\":[],\"opt\":[]},\"fBufferSize\":0,\"fBuffer\":[],\"fBinStatErrOpt\":0,\"fArray\":[0,0.8571429,0.6476191,0.4802111,0.3539413,0.2358277,0.2466539,0.1850467,0.1692032,0.1620968,0.1270718,0.1431298,0.1093596,0.1134235,0.112544,0.1130012,0.1054054,0.1007299,0.1018182,0.08458646,0.07829978,0.0742268,0.09200969,0.08241758,0.07826087,0.07,0.06985294,0.07346939,0.07964602,0.09090909,0.075,0.08,0.05357143,0.09448819,0.05982906,0.05272408,0]},{\"_typename\":\"TH1F\",\"fUniqueID\":0,\"fBits\":50332168,\"fName\":\"h_nue_1p_eff\",\"fTitle\":\"Neutrino Energy Distribution\",\"fLineColor\":600,\"fLineStyle\":1,\"fLineWidth\":1,\"fFillColor\":600,\"fFillStyle\":1001,\"fMarkerColor\":600,\"fMarkerStyle\":8,\"fMarkerSize\":1,\"fNcells\":37,\"fXaxis\":{\"_typename\":\"TAxis\",\"fUniqueID\":0,\"fBits\":50331648,\"fName\":\"xaxis\",\"fTitle\":\"E_{#nu}\",\"fNdivisions\":510,\"fAxisColor\":1,\"fLabelColor\":1,\"fLabelFont\":42,\"fLabelOffset\":0.005,\"fLabelSize\":0.035,\"fTickLength\":0.03,\"fTitleOffset\":1,\"fTitleSize\":0.035,\"fTitleColor\":1,\"fTitleFont\":42,\"fNbins\":35,\"fXmin\":0,\"fXmax\":3.5,\"fXbins\":[],\"fFirst\":0,\"fLast\":0,\"fBits2\":0,\"fTimeDisplay\":false,\"fTimeFormat\":\"\",\"fLabels\":null,\"fModLabs\":null},\"fYaxis\":{\"_typename\":\"TAxis\",\"fUniqueID\":0,\"fBits\":50331648,\"fName\":\"yaxis\",\"fTitle\":\"Efficiency\",\"fNdivisions\":510,\"fAxisColor\":1,\"fLabelColor\":1,\"fLabelFont\":42,\"fLabelOffset\":0.005,\"fLabelSize\":0.035,\"fTickLength\":0.03,\"fTitleOffset\":0,\"fTitleSize\":0.035,\"fTitleColor\":1,\"fTitleFont\":42,\"fNbins\":1,\"fXmin\":0,\"fXmax\":1,\"fXbins\":[],\"fFirst\":0,\"fLast\":0,\"fBits2\":0,\"fTimeDisplay\":false,\"fTimeFormat\":\"\",\"fLabels\":null,\"fModLabs\":null},\"fZaxis\":{\"_typename\":\"TAxis\",\"fUniqueID\":0,\"fBits\":50331648,\"fName\":\"zaxis\",\"fTitle\":\"\",\"fNdivisions\":510,\"fAxisColor\":1,\"fLabelColor\":1,\"fLabelFont\":42,\"fLabelOffset\":0.005,\"fLabelSize\":0.035,\"fTickLength\":0.03,\"fTitleOffset\":1,\"fTitleSize\":0.035,\"fTitleColor\":1,\"fTitleFont\":42,\"fNbins\":1,\"fXmin\":0,\"fXmax\":1,\"fXbins\":[],\"fFirst\":0,\"fLast\":0,\"fBits2\":0,\"fTimeDisplay\":false,\"fTimeFormat\":\"\",\"fLabels\":null,\"fModLabs\":null},\"fBarOffset\":0,\"fBarWidth\":1000,\"fEntries\":35,\"fTsumw\":0,\"fTsumw2\":0,\"fTsumwx\":0,\"fTsumwx2\":0,\"fMaximum\":-1111,\"fMinimum\":-1111,\"fNormFactor\":0,\"fContour\":[],\"fSumw2\":[0,0.0174927120219167,0.0021457726227878,6.32403348494704e-4,3.83997899333829e-4,2.83433594886511e-4,2.34965350446996e-4,2.30607416101741e-4,2.16566546084228e-4,1.90279256820935e-4,2.13560167453763e-4,2.176768751336e-4,2.17849006307038e-4,2.18392336721205e-4,2.46244872263047e-4,2.35902661516385e-4,2.64831307835587e-4,2.75577876673944e-4,3.52967682286011e-4,3.57683747181841e-4,3.80116933829513e-4,3.70726422431435e-4,4.09340628429109e-4,4.99683341991405e-4,3.94120100294895e-4,4.99074082462876e-4,5.68485403850101e-4,5.46302965525741e-4,5.92557909422588e-4,8.2450194550562e-4,0.00115740743500215,9.40032043045043e-4,0.00130967568041371,7.23497530927074e-4,0.00111262836547576,1.94245999855939e-4,0],\"fOption\":\"\",\"fFunctions\":{\"_typename\":\"TList\",\"name\":\"TList\",\"arr\":[],\"opt\":[]},\"fBufferSize\":0,\"fBuffer\":[],\"fBinStatErrOpt\":0,\"fArray\":[0,0.1428571,0.3428572,0.3984169,0.4605873,0.4965986,0.4349904,0.4429907,0.4100268,0.3814516,0.3655617,0.3520992,0.3300492,0.2996878,0.3001172,0.2636695,0.2675676,0.2525547,0.2636364,0.2556391,0.2170022,0.2350515,0.2154964,0.239011,0.1623188,0.1833333,0.1911765,0.1591837,0.159292,0.1761364,0.1666667,0.136,0.1785714,0.1023622,0.1538462,0.1265378,0]},{\"_typename\":\"TH1F\",\"fUniqueID\":0,\"fBits\":50332168,\"fName\":\"h_nue_Np_eff\",\"fTitle\":\"Neutrino Energy Distribution\",\"fLineColor\":432,\"fLineStyle\":1,\"fLineWidth\":1,\"fFillColor\":432,\"fFillStyle\":1001,\"fMarkerColor\":432,\"fMarkerStyle\":8,\"fMarkerSize\":1,\"fNcells\":37,\"fXaxis\":{\"_typename\":\"TAxis\",\"fUniqueID\":0,\"fBits\":50331648,\"fName\":\"xaxis\",\"fTitle\":\"E_{#nu}\",\"fNdivisions\":510,\"fAxisColor\":1,\"fLabelColor\":1,\"fLabelFont\":42,\"fLabelOffset\":0.005,\"fLabelSize\":0.035,\"fTickLength\":0.03,\"fTitleOffset\":1,\"fTitleSize\":0.035,\"fTitleColor\":1,\"fTitleFont\":42,\"fNbins\":35,\"fXmin\":0,\"fXmax\":3.5,\"fXbins\":[],\"fFirst\":0,\"fLast\":0,\"fBits2\":0,\"fTimeDisplay\":false,\"fTimeFormat\":\"\",\"fLabels\":null,\"fModLabs\":null},\"fYaxis\":{\"_typename\":\"TAxis\",\"fUniqueID\":0,\"fBits\":50331648,\"fName\":\"yaxis\",\"fTitle\":\"Efficiency\",\"fNdivisions\":510,\"fAxisColor\":1,\"fLabelColor\":1,\"fLabelFont\":42,\"fLabelOffset\":0.005,\"fLabelSize\":0.035,\"fTickLength\":0.03,\"fTitleOffset\":0,\"fTitleSize\":0.035,\"fTitleColor\":1,\"fTitleFont\":42,\"fNbins\":1,\"fXmin\":0,\"fXmax\":1,\"fXbins\":[],\"fFirst\":0,\"fLast\":0,\"fBits2\":0,\"fTimeDisplay\":false,\"fTimeFormat\":\"\",\"fLabels\":null,\"fModLabs\":null},\"fZaxis\":{\"_typename\":\"TAxis\",\"fUniqueID\":0,\"fBits\":50331648,\"fName\":\"zaxis\",\"fTitle\":\"\",\"fNdivisions\":510,\"fAxisColor\":1,\"fLabelColor\":1,\"fLabelFont\":42,\"fLabelOffset\":0.005,\"fLabelSize\":0.035,\"fTickLength\":0.03,\"fTitleOffset\":1,\"fTitleSize\":0.035,\"fTitleColor\":1,\"fTitleFont\":42,\"fNbins\":1,\"fXmin\":0,\"fXmax\":1,\"fXbins\":[],\"fFirst\":0,\"fLast\":0,\"fBits2\":0,\"fTimeDisplay\":false,\"fTimeFormat\":\"\",\"fLabels\":null,\"fModLabs\":null},\"fBarOffset\":0,\"fBarWidth\":1000,\"fEntries\":35,\"fTsumw\":0,\"fTsumw2\":0,\"fTsumwx\":0,\"fTsumwx2\":0,\"fMaximum\":1.1,\"fMinimum\":0,\"fNormFactor\":0,\"fContour\":[],\"fSumw2\":[0,0,8.98391136447254e-5,2.76084073585877e-4,2.11733853254478e-4,1.88675895139511e-4,1.655203564313e-4,1.58205872086612e-4,1.68956946173905e-4,1.44841877457055e-4,1.75787616919367e-4,1.62429478810536e-4,1.74770754853018e-4,1.88875833515078e-4,2.00663663174063e-4,2.03429320223718e-4,2.30043133192443e-4,2.19134437227041e-4,2.53259208916722e-4,2.97770924240675e-4,3.15692981351619e-4,3.0623016767236e-4,3.99205073392435e-4,3.83237786169322e-4,4.4321464517517e-4,4.7033333726724e-4,4.98517975628182e-4,5.68742617563619e-4,6.69486465192455e-4,8.65589488636364e-4,5.78125021109978e-4,0.00111820798796844,8.54136304842965e-4,0.00120680555976927,0.0010614299837745,1.94245999855939e-4,0],\"fOption\":\"\",\"fFunctions\":{\"_typename\":\"TList\",\"name\":\"TList\",\"arr\":[],\"opt\":[]},\"fBufferSize\":0,\"fBuffer\":[],\"fBinStatErrOpt\":0,\"fArray\":[0,0,0.00952381,0.1187335,0.1638331,0.2108843,0.2227533,0.2158878,0.2524619,0.2346774,0.2569061,0.2175573,0.2305419,0.2382934,0.2192263,0.2126367,0.2175676,0.1839416,0.1672727,0.1973684,0.1700224,0.1814433,0.2082324,0.1675824,0.1884058,0.17,0.1617647,0.1673469,0.1858407,0.1875,0.075,0.168,0.1071429,0.1889764,0.1452992,0.1265378,0]},{\"_typename\":\"TH1F\",\"fUniqueID\":0,\"fBits\":50332168,\"fName\":\"h_nue_Npi_eff\",\"fTitle\":\"Neutrino Energy Distribution\",\"fLineColor\":418,\"fLineStyle\":1,\"fLineWidth\":1,\"fFillColor\":418,\"fFillStyle\":1001,\"fMarkerColor\":418,\"fMarkerStyle\":8,\"fMarkerSize\":1,\"fNcells\":37,\"fXaxis\":{\"_typename\":\"TAxis\",\"fUniqueID\":0,\"fBits\":50331648,\"fName\":\"xaxis\",\"fTitle\":\"E_{#nu}\",\"fNdivisions\":510,\"fAxisColor\":1,\"fLabelColor\":1,\"fLabelFont\":42,\"fLabelOffset\":0.005,\"fLabelSize\":0.035,\"fTickLength\":0.03,\"fTitleOffset\":1,\"fTitleSize\":0.035,\"fTitleColor\":1,\"fTitleFont\":42,\"fNbins\":35,\"fXmin\":0,\"fXmax\":3.5,\"fXbins\":[],\"fFirst\":0,\"fLast\":0,\"fBits2\":0,\"fTimeDisplay\":false,\"fTimeFormat\":\"\",\"fLabels\":null,\"fModLabs\":null},\"fYaxis\":{\"_typename\":\"TAxis\",\"fUniqueID\":0,\"fBits\":50331648,\"fName\":\"yaxis\",\"fTitle\":\"Efficiency\",\"fNdivisions\":510,\"fAxisColor\":1,\"fLabelColor\":1,\"fLabelFont\":42,\"fLabelOffset\":0.005,\"fLabelSize\":0.035,\"fTickLength\":0.03,\"fTitleOffset\":0,\"fTitleSize\":0.035,\"fTitleColor\":1,\"fTitleFont\":42,\"fNbins\":1,\"fXmin\":0,\"fXmax\":1,\"fXbins\":[],\"fFirst\":0,\"fLast\":0,\"fBits2\":0,\"fTimeDisplay\":false,\"fTimeFormat\":\"\",\"fLabels\":null,\"fModLabs\":null},\"fZaxis\":{\"_typename\":\"TAxis\",\"fUniqueID\":0,\"fBits\":50331648,\"fName\":\"zaxis\",\"fTitle\":\"\",\"fNdivisions\":510,\"fAxisColor\":1,\"fLabelColor\":1,\"fLabelFont\":42,\"fLabelOffset\":0.005,\"fLabelSize\":0.035,\"fTickLength\":0.03,\"fTitleOffset\":1,\"fTitleSize\":0.035,\"fTitleColor\":1,\"fTitleFont\":42,\"fNbins\":1,\"fXmin\":0,\"fXmax\":1,\"fXbins\":[],\"fFirst\":0,\"fLast\":0,\"fBits2\":0,\"fTimeDisplay\":false,\"fTimeFormat\":\"\",\"fLabels\":null,\"fModLabs\":null},\"fBarOffset\":0,\"fBarWidth\":1000,\"fEntries\":35,\"fTsumw\":0,\"fTsumw2\":0,\"fTsumwx\":0,\"fTsumwx2\":0,\"fMaximum\":-1111,\"fMinimum\":-1111,\"fNormFactor\":0,\"fContour\":[],\"fSumw2\":[0,0,0,6.94343201686502e-6,2.58307457842128e-5,4.67433972720419e-5,6.28496607699974e-5,9.77606480194185e-5,1.00534659317469e-4,1.07322680392353e-4,1.37812056274646e-4,1.57199344853156e-4,1.71597692169701e-4,1.87737815355515e-4,2.16862801455256e-4,2.44018315413773e-4,2.70652783013396e-4,3.06994801988247e-4,3.79149500972252e-4,3.69445796464402e-4,4.97141444146737e-4,4.6006401929394e-4,5.26538458112683e-4,5.96493241000094e-4,6.69692461371657e-4,7.21296291439621e-4,8.39609209559562e-4,9.24784757770599e-4,9.06596245016635e-4,0.00126619290355467,0.00207407407517786,0.00193228798876953,0.00207199231156694,0.00176334207774598,0.00192306133928694,4.27629986918536e-4,0],\"fOption\":\"\",\"fFunctions\":{\"_typename\":\"TList\",\"name\":\"TList\",\"arr\":[],\"opt\":[]},\"fBufferSize\":0,\"fBuffer\":[],\"fBinStatErrOpt\":0,\"fArray\":[0,0,0,0.002638523,0.01700155,0.0430839,0.0707457,0.1186916,0.1289167,0.1580645,0.1832412,0.2080153,0.2246305,0.2362123,0.2450176,0.2782503,0.277027,0.3007299,0.2963636,0.268797,0.3333333,0.3360825,0.3196126,0.3186813,0.3623188,0.3166667,0.3529412,0.3469388,0.2876106,0.3352273,0.4666667,0.408,0.3660714,0.3385827,0.3418804,0.4182777,0]},{\"_typename\":\"TH1F\",\"fUniqueID\":0,\"fBits\":50332168,\"fName\":\"h_nue_Npi0_eff\",\"fTitle\":\"Neutrino Energy Distribution\",\"fLineColor\":602,\"fLineStyle\":1,\"fLineWidth\":1,\"fFillColor\":416,\"fFillStyle\":1001,\"fMarkerColor\":416,\"fMarkerStyle\":8,\"fMarkerSize\":1,\"fNcells\":37,\"fXaxis\":{\"_typename\":\"TAxis\",\"fUniqueID\":0,\"fBits\":50331648,\"fName\":\"xaxis\",\"fTitle\":\"E_{#nu}\",\"fNdivisions\":510,\"fAxisColor\":1,\"fLabelColor\":1,\"fLabelFont\":42,\"fLabelOffset\":0.005,\"fLabelSize\":0.035,\"fTickLength\":0.03,\"fTitleOffset\":1,\"fTitleSize\":0.035,\"fTitleColor\":1,\"fTitleFont\":42,\"fNbins\":35,\"fXmin\":0,\"fXmax\":3.5,\"fXbins\":[],\"fFirst\":0,\"fLast\":0,\"fBits2\":0,\"fTimeDisplay\":false,\"fTimeFormat\":\"\",\"fLabels\":null,\"fModLabs\":null},\"fYaxis\":{\"_typename\":\"TAxis\",\"fUniqueID\":0,\"fBits\":50331648,\"fName\":\"yaxis\",\"fTitle\":\"Efficiency\",\"fNdivisions\":510,\"fAxisColor\":1,\"fLabelColor\":1,\"fLabelFont\":42,\"fLabelOffset\":0.005,\"fLabelSize\":0.035,\"fTickLength\":0.03,\"fTitleOffset\":0,\"fTitleSize\":0.035,\"fTitleColor\":1,\"fTitleFont\":42,\"fNbins\":1,\"fXmin\":0,\"fXmax\":1,\"fXbins\":[],\"fFirst\":0,\"fLast\":0,\"fBits2\":0,\"fTimeDisplay\":false,\"fTimeFormat\":\"\",\"fLabels\":null,\"fModLabs\":null},\"fZaxis\":{\"_typename\":\"TAxis\",\"fUniqueID\":0,\"fBits\":50331648,\"fName\":\"zaxis\",\"fTitle\":\"\",\"fNdivisions\":510,\"fAxisColor\":1,\"fLabelColor\":1,\"fLabelFont\":42,\"fLabelOffset\":0.005,\"fLabelSize\":0.035,\"fTickLength\":0.03,\"fTitleOffset\":1,\"fTitleSize\":0.035,\"fTitleColor\":1,\"fTitleFont\":42,\"fNbins\":1,\"fXmin\":0,\"fXmax\":1,\"fXbins\":[],\"fFirst\":0,\"fLast\":0,\"fBits2\":0,\"fTimeDisplay\":false,\"fTimeFormat\":\"\",\"fLabels\":null,\"fModLabs\":null},\"fBarOffset\":0,\"fBarWidth\":1000,\"fEntries\":35,\"fTsumw\":0,\"fTsumw2\":0,\"fTsumwx\":0,\"fTsumwx2\":0,\"fMaximum\":-1111,\"fMinimum\":-1111,\"fNormFactor\":0,\"fContour\":[],\"fSumw2\":[0,0,0,0,7.13336204047017e-6,1.52157980145859e-5,2.31727980511576e-5,3.36314715043205e-5,3.38760593524718e-5,4.81054463030921e-5,5.77354866577391e-5,6.95859486667186e-5,9.29119339523402e-5,1.03801258851136e-4,1.26544656051545e-4,1.39612786083024e-4,1.55262273252205e-4,1.98227158386801e-4,2.57634862109112e-4,2.93467242336768e-4,3.59739528142029e-4,2.9525581345307e-4,3.33025770818907e-4,4.26718257975614e-4,4.78671813709423e-4,6.41333318074544e-4,6.39595773816791e-4,7.71515291086058e-4,9.06596245016635e-4,9.4336228751998e-4,0.00141435186123406,0.00131788802005005,0.00185561113727466,0.00157197160475649,0.00179194353806652,3.51123650770677e-4,0],\"fOption\":\"\",\"fFunctions\":{\"_typename\":\"TList\",\"name\":\"TList\",\"arr\":[],\"opt\":[]},\"fBufferSize\":0,\"fBuffer\":[],\"fBinStatErrOpt\":0,\"fArray\":[0,0,0,0,0.004636785,0.01360544,0.0248566,0.03738318,0.03939123,0.06370968,0.06721915,0.07919847,0.1054187,0.1123829,0.123095,0.1324423,0.1324324,0.1620438,0.1709091,0.193609,0.2013423,0.1731959,0.1646489,0.1923077,0.2086957,0.26,0.2242647,0.2530612,0.2876106,0.2102273,0.2166667,0.208,0.2946429,0.2755905,0.2991453,0.2759227,0]}],\"opt\":[\"\",\"\",\"\",\"\",\"\"]},\"fHistogram\":{\"_typename\":\"TH1F\",\"fUniqueID\":0,\"fBits\":50332160,\"fName\":\"h_nue_st1\",\"fTitle\":\"Neutrino Energy Distribution\",\"fLineColor\":602,\"fLineStyle\":1,\"fLineWidth\":1,\"fFillColor\":0,\"fFillStyle\":1001,\"fMarkerColor\":1,\"fMarkerStyle\":1,\"fMarkerSize\":1,\"fNcells\":37,\"fXaxis\":{\"_typename\":\"TAxis\",\"fUniqueID\":0,\"fBits\":50331648,\"fName\":\"xaxis\",\"fTitle\":\"E_{#nu}\",\"fNdivisions\":510,\"fAxisColor\":1,\"fLabelColor\":1,\"fLabelFont\":42,\"fLabelOffset\":0.005,\"fLabelSize\":0.035,\"fTickLength\":0.03,\"fTitleOffset\":1,\"fTitleSize\":0.035,\"fTitleColor\":1,\"fTitleFont\":42,\"fNbins\":35,\"fXmin\":0,\"fXmax\":3.5,\"fXbins\":[],\"fFirst\":0,\"fLast\":0,\"fBits2\":0,\"fTimeDisplay\":false,\"fTimeFormat\":\"\",\"fLabels\":null,\"fModLabs\":null},\"fYaxis\":{\"_typename\":\"TAxis\",\"fUniqueID\":0,\"fBits\":50331648,\"fName\":\"yaxis\",\"fTitle\":\"Fraction of Events\",\"fNdivisions\":510,\"fAxisColor\":1,\"fLabelColor\":1,\"fLabelFont\":42,\"fLabelOffset\":0.005,\"fLabelSize\":0.035,\"fTickLength\":0.03,\"fTitleOffset\":0,\"fTitleSize\":0.035,\"fTitleColor\":1,\"fTitleFont\":42,\"fNbins\":1,\"fXmin\":0,\"fXmax\":1,\"fXbins\":[],\"fFirst\":0,\"fLast\":0,\"fBits2\":0,\"fTimeDisplay\":false,\"fTimeFormat\":\"\",\"fLabels\":null,\"fModLabs\":null},\"fZaxis\":{\"_typename\":\"TAxis\",\"fUniqueID\":0,\"fBits\":50331648,\"fName\":\"zaxis\",\"fTitle\":\"\",\"fNdivisions\":510,\"fAxisColor\":1,\"fLabelColor\":1,\"fLabelFont\":42,\"fLabelOffset\":0.005,\"fLabelSize\":0.035,\"fTickLength\":0.03,\"fTitleOffset\":1,\"fTitleSize\":0.035,\"fTitleColor\":1,\"fTitleFont\":42,\"fNbins\":1,\"fXmin\":0,\"fXmax\":1,\"fXbins\":[],\"fFirst\":0,\"fLast\":0,\"fBits2\":0,\"fTimeDisplay\":false,\"fTimeFormat\":\"\",\"fLabels\":null,\"fModLabs\":null},\"fBarOffset\":0,\"fBarWidth\":1000,\"fEntries\":0,\"fTsumw\":0,\"fTsumw2\":0,\"fTsumwx\":0,\"fTsumwx2\":0,\"fMaximum\":1.05000012516975,\"fMinimum\":0,\"fNormFactor\":0,\"fContour\":[],\"fSumw2\":[],\"fOption\":\"\",\"fFunctions\":{\"_typename\":\"TList\",\"name\":\"TList\",\"arr\":[],\"opt\":[]},\"fBufferSize\":0,\"fBuffer\":[],\"fBinStatErrOpt\":0,\"fArray\":[0,0,0,0,0,0,0,0,0,0,0,0,0,0,0,0,0,0,0,0,0,0,0,0,0,0,0,0,0,0,0,0,0,0,0,0,0]},\"fMaximum\":-1111,\"fMinimum\":-1111},{\"_typename\":\"TLegend\",\"fUniqueID\":0,\"fBits\":50331656,\"fLineColor\":1,\"fLineStyle\":1,\"fLineWidth\":1,\"fFillColor\":0,\"fFillStyle\":1001,\"fX1\":2.62500001303852,\"fY1\":0.787500097788871,\"fX2\":3.50000002607703,\"fY2\":1.05000013299287,\"fX1NDC\":0.7,\"fY1NDC\":0.7,\"fX2NDC\":0.9,\"fY2NDC\":0.9,\"fBorderSize\":1,\"fInit\":1,\"fShadowColor\":1,\"fCornerRadius\":0,\"fOption\":\"brNDC\",\"fName\":\"TPave\",\"fTextAngle\":0,\"fTextSize\":0,\"fTextAlign\":12,\"fTextColor\":1,\"fTextFont\":42,\"fPrimitives\":{\"_typename\":\"TList\",\"name\":\"TList\",\"arr\":[{\"_typename\":\"TLegendEntry\",\"fUniqueID\":0,\"fBits\":50331656,\"fTextAngle\":0,\"fTextSize\":0,\"fTextAlign\":0,\"fTextColor\":0,\"fTextFont\":42,\"fLineColor\":602,\"fLineStyle\":1,\"fLineWidth\":1,\"fFillColor\":0,\"fFillStyle\":0,\"fMarkerColor\":416,\"fMarkerStyle\":8,\"fMarkerSize\":1,\"fObject\":{\"$ref\":25},\"fLabel\":\"#nu_{e} 1e,Np,N#pi^{#pm},N#pi^{0}\",\"fOption\":\"lp\"},{\"_typename\":\"TLegendEntry\",\"fUniqueID\":0,\"fBits\":50331656,\"fTextAngle\":0,\"fTextSize\":0,\"fTextAlign\":0,\"fTextColor\":0,\"fTextFont\":42,\"fLineColor\":418,\"fLineStyle\":1,\"fLineWidth\":1,\"fFillColor\":0,\"fFillStyle\":0,\"fMarkerColor\":418,\"fMarkerStyle\":8,\"fMarkerSize\":1,\"fObject\":{\"$ref\":20},\"fLabel\":\"#nu_{e} 1e,Np,N#pi^{#pm},0#pi^{0}\",\"fOption\":\"lp\"},{\"_typename\":\"TLegendEntry\",\"fUniqueID\":0,\"fBits\":50331656,\"fTextAngle\":0,\"fTextSize\":0,\"fTextAlign\":0,\"fTextColor\":0,\"fTextFont\":42,\"fLineColor\":432,\"fLineStyle\":1,\"fLineWidth\":1,\"fFillColor\":0,\"fFillStyle\":0,\"fMarkerColor\":432,\"fMarkerStyle\":8,\"fMarkerSize\":1,\"fObject\":{\"$ref\":15},\"fLabel\":\"#nu_{e} 1e,>1p,0#pi\",\"fOption\":\"lp\"},{\"_typename\":\"TLegendEntry\",\"fUniqueID\":0,\"fBits\":50331656,\"fTextAngle\":0,\"fTextSize\":0,\"fTextAlign\":0,\"fTextColor\":0,\"fTextFont\":42,\"fLineColor\":600,\"fLineStyle\":1,\"fLineWidth\":1,\"fFillColor\":0,\"fFillStyle\":0,\"fMarkerColor\":600,\"fMarkerStyle\":8,\"fMarkerSize\":1,\"fObject\":{\"$ref\":10},\"fLabel\":\"#nu_{e} 1e,1p,0#pi\",\"fOption\":\"lp\"},{\"_typename\":\"TLegendEntry\",\"fUniqueID\":0,\"fBits\":50331656,\"fTextAngle\":0,\"fTextSize\":0,\"fTextAlign\":0,\"fTextColor\":0,\"fTextFont\":42,\"fLineColor\":807,\"fLineStyle\":1,\"fLineWidth\":1,\"fFillColor\":0,\"fFillStyle\":0,\"fMarkerColor\":807,\"fMarkerStyle\":8,\"fMarkerSize\":1,\"fObject\":{\"$ref\":5},\"fLabel\":\"#nu_{e} 1e,0p,0#pi\",\"fOption\":\"lp\"}],\"opt\":[\"lp\",\"lp\",\"lp\",\"lp\",\"lp\"]},\"fEntrySeparation\":0.1,\"fMargin\":0.25,\"fNColumns\":1,\"fColumnSeparation\":0},{\"_typename\":\"TPaveText\",\"fUniqueID\":0,\"fBits\":50331657,\"fLineColor\":1,\"fLineStyle\":1,\"fLineWidth\":1,\"fFillColor\":0,\"fFillStyle\":0,\"fX1\":0.678502139205851,\"fY1\":1.09460289947034,\"fX2\":2.82149786079415,\"fY2\":1.17468765597325,\"fX1NDC\":0.255086206896552,\"fY1NDC\":0.933983055615829,\"fX2NDC\":0.744913793103448,\"fY2NDC\":0.995000004768372,\"fBorderSize\":0,\"fInit\":1,\"fShadowColor\":1,\"fCornerRadius\":0,\"fOption\":\"blNDC\",\"fName\":\"title\",\"fTextAngle\":0,\"fTextSize\":0,\"fTextAlign\":22,\"fTextColor\":1,\"fTextFont\":42,\"fLabel\":\"\",\"fLongest\":28,\"fMargin\":0.05,\"fLines\":{\"_typename\":\"TList\",\"name\":\"TList\",\"arr\":[{\"_typename\":\"TLatex\",\"fUniqueID\":0,\"fBits\":50331648,\"fName\":\"\",\"fTitle\":\"Neutrino Energy Distribution\",\"fTextAngle\":0,\"fTextSize\":0,\"fTextAlign\":0,\"fTextColor\":0,\"fTextFont\":0,\"fX\":0,\"fY\":0,\"fLineColor\":1,\"fLineStyle\":1,\"fLineWidth\":2,\"fLimitFactorSize\":3,\"fOriginSize\":0.0518644079566002}],\"opt\":[\"\"]}}],\"opt\":[\"\",\"hist\",\"\",\"blNDC\"]},\"fExecs\":null,\"fName\":\"c3\",\"fTitle\":\"MyCanvas\",\"fNumPaletteColor\":0,\"fNextPaletteColor\":0,\"fDISPLAY\":\"$DISPLAY\",\"fDoubleBuffer\":0,\"fRetained\":true,\"fXsizeUser\":0,\"fYsizeUser\":0,\"fXsizeReal\":20,\"fYsizeReal\":14.28571,\"fWindowTopX\":0,\"fWindowTopY\":0,\"fWindowWidth\":0,\"fWindowHeight\":0,\"fCw\":696,\"fCh\":472,\"fCatt\":{\"_typename\":\"TAttCanvas\",\"fXBetween\":2,\"fYBetween\":2,\"fTitleFromTop\":1.2,\"fXdate\":0.2,\"fYdate\":0.3,\"fAdate\":1},\"kMoveOpaque\":true,\"kResizeOpaque\":true,\"fHighLightColor\":2,\"fBatch\":true,\"kShowEventStatus\":false,\"kAutoExec\":true,\"kMenuBar\":true});\n",
       "       Core.draw(\"root_plot_4\", obj, \"\");\n",
       "     }\n",
       " );\n",
       "</script>\n"
      ],
      "text/plain": [
       "<IPython.core.display.HTML object>"
      ]
     },
     "metadata": {},
     "output_type": "display_data"
    }
   ],
   "source": [
    "c3 = ROOT.TCanvas(\"c3\",\"MyCanvas\")\n",
    "c3.cd()\n",
    "h_nue_st1.Draw(\"HIST\")\n",
    "#leg0 = ROOT.TLegend(0.7,0.7,0.9,0.9)\n",
    "#leg0.AddEntry(h_nue_cc,\"#nu_{e} CC\",\"f\")\n",
    "#leg0.AddEntry(h_nue_nc,\"#nu_{e} NC\",\"f\")\n",
    "#leg0.Draw();\n",
    "leg2.Draw()\n",
    "c3.Draw()"
   ]
  },
  {
   "cell_type": "code",
   "execution_count": 19,
   "metadata": {},
   "outputs": [
    {
     "data": {
      "text/html": [
       "\n",
       "<div id=\"root_plot_5\"\n",
       "     style=\"width: 696px; height: 472px\">\n",
       "</div>\n",
       "\n",
       "<script>\n",
       " requirejs.config({\n",
       "     paths: {\n",
       "       'JSRootCore' : 'https://root.cern.ch/js/notebook//scripts/JSRootCore',\n",
       "     }\n",
       "   });\n",
       " require(['JSRootCore'],\n",
       "     function(Core) {\n",
       "       var obj = Core.JSONR_unref({\"_typename\":\"TCanvas\",\"fUniqueID\":0,\"fBits\":53673992,\"fLineColor\":1,\"fLineStyle\":1,\"fLineWidth\":1,\"fFillColor\":0,\"fFillStyle\":1001,\"fLeftMargin\":0.1,\"fRightMargin\":0.1,\"fBottomMargin\":0.1,\"fTopMargin\":0.1,\"fXfile\":2,\"fYfile\":2,\"fAfile\":1,\"fXstat\":0.99,\"fYstat\":0.99,\"fAstat\":2,\"fFrameFillColor\":0,\"fFrameLineColor\":1,\"fFrameFillStyle\":1001,\"fFrameLineStyle\":1,\"fFrameLineWidth\":1,\"fFrameBorderSize\":1,\"fFrameBorderMode\":0,\"fX1\":-0.985843932933736,\"fY1\":-1.11792197578009,\"fX2\":0.985843932933736,\"fY2\":1.11792197578009,\"fXtoAbsPixelk\":348.00005,\"fXtoPixelk\":348.00005,\"fXtoPixel\":352.997049912758,\"fYtoAbsPixelk\":236.00005,\"fYtoPixelk\":236.00005,\"fYtoPixel\":-211.10596724366,\"fUtoAbsPixelk\":5e-5,\"fUtoPixelk\":5e-5,\"fUtoPixel\":696,\"fVtoAbsPixelk\":472.00005,\"fVtoPixelk\":472,\"fVtoPixel\":-472,\"fAbsPixeltoXk\":-0.985843932933736,\"fPixeltoXk\":-0.985843932933736,\"fPixeltoX\":0.00283288486475212,\"fAbsPixeltoYk\":1.11792197578009,\"fPixeltoYk\":-1.11792197578009,\"fPixeltoY\":-0.00473695752449192,\"fXlowNDC\":0,\"fYlowNDC\":0,\"fXUpNDC\":0,\"fYUpNDC\":0,\"fWNDC\":1,\"fHNDC\":1,\"fAbsXlowNDC\":0,\"fAbsYlowNDC\":0,\"fAbsWNDC\":1,\"fAbsHNDC\":1,\"fUxmin\":-0.788675134594813,\"fUymin\":-0.894337567297406,\"fUxmax\":0.788675134594813,\"fUymax\":0.894337567297406,\"fTheta\":30,\"fPhi\":30,\"fAspectRatio\":0,\"fNumber\":0,\"fTickx\":0,\"fTicky\":0,\"fLogx\":0,\"fLogy\":0,\"fLogz\":0,\"fPadPaint\":0,\"fCrosshair\":0,\"fCrosshairPos\":0,\"fBorderSize\":2,\"fBorderMode\":0,\"fModified\":false,\"fGridx\":false,\"fGridy\":false,\"fAbsCoord\":false,\"fEditable\":true,\"fFixedAspectRatio\":false,\"fPrimitives\":{\"_typename\":\"TList\",\"name\":\"TList\",\"arr\":[{\"_typename\":\"TH2F\",\"fUniqueID\":0,\"fBits\":50332168,\"fName\":\"\",\"fTitle\":\"max_proton_ke:nu_energy {ccnc==0 && n_lep>=0}\",\"fLineColor\":602,\"fLineStyle\":1,\"fLineWidth\":1,\"fFillColor\":0,\"fFillStyle\":1001,\"fMarkerColor\":1,\"fMarkerStyle\":7,\"fMarkerSize\":1,\"fNcells\":204,\"fXaxis\":{\"_typename\":\"TAxis\",\"fUniqueID\":0,\"fBits\":50331648,\"fName\":\"xaxis\",\"fTitle\":\"\",\"fNdivisions\":510,\"fAxisColor\":1,\"fLabelColor\":1,\"fLabelFont\":42,\"fLabelOffset\":0.005,\"fLabelSize\":0.035,\"fTickLength\":0.03,\"fTitleOffset\":1,\"fTitleSize\":0.035,\"fTitleColor\":1,\"fTitleFont\":42,\"fNbins\":15,\"fXmin\":0,\"fXmax\":3,\"fXbins\":[],\"fFirst\":0,\"fLast\":0,\"fBits2\":0,\"fTimeDisplay\":false,\"fTimeFormat\":\"\",\"fLabels\":null,\"fModLabs\":null},\"fYaxis\":{\"_typename\":\"TAxis\",\"fUniqueID\":0,\"fBits\":50331648,\"fName\":\"yaxis\",\"fTitle\":\"\",\"fNdivisions\":510,\"fAxisColor\":1,\"fLabelColor\":1,\"fLabelFont\":42,\"fLabelOffset\":0.005,\"fLabelSize\":0.035,\"fTickLength\":0.03,\"fTitleOffset\":0,\"fTitleSize\":0.035,\"fTitleColor\":1,\"fTitleFont\":42,\"fNbins\":10,\"fXmin\":0,\"fXmax\":0.1,\"fXbins\":[],\"fFirst\":0,\"fLast\":0,\"fBits2\":0,\"fTimeDisplay\":false,\"fTimeFormat\":\"\",\"fLabels\":null,\"fModLabs\":null},\"fZaxis\":{\"_typename\":\"TAxis\",\"fUniqueID\":0,\"fBits\":50331648,\"fName\":\"zaxis\",\"fTitle\":\"\",\"fNdivisions\":510,\"fAxisColor\":1,\"fLabelColor\":1,\"fLabelFont\":42,\"fLabelOffset\":0.005,\"fLabelSize\":0.035,\"fTickLength\":0.03,\"fTitleOffset\":1,\"fTitleSize\":0.035,\"fTitleColor\":1,\"fTitleFont\":42,\"fNbins\":1,\"fXmin\":0,\"fXmax\":1,\"fXbins\":[],\"fFirst\":0,\"fLast\":0,\"fBits2\":0,\"fTimeDisplay\":false,\"fTimeFormat\":\"\",\"fLabels\":null,\"fModLabs\":null},\"fBarOffset\":0,\"fBarWidth\":1000,\"fEntries\":19229,\"fTsumw\":8715,\"fTsumw2\":8715,\"fTsumwx\":10168.3487952873,\"fTsumwx2\":15797.2590748796,\"fMaximum\":-1111,\"fMinimum\":-1111,\"fNormFactor\":0,\"fContour\":[1,14.95,28.9,42.85,56.8,70.75,84.7,98.65,112.6,126.55,140.5,154.45,168.4,182.35,196.3,210.25,224.2,238.15,252.1,266.05],\"fSumw2\":[],\"fOption\":\"\",\"fFunctions\":{\"_typename\":\"TList\",\"name\":\"TList\",\"arr\":[],\"opt\":[]},\"fBufferSize\":0,\"fBuffer\":[],\"fBinStatErrOpt\":0,\"fScalefactor\":1,\"fTsumwy\":309.658259175518,\"fTsumwy2\":19.2575124862289,\"fTsumwxy\":349.204349014971,\"fArray\":[0,0,0,0,0,0,0,0,0,0,0,0,0,0,0,0,0,0,49,215,241,256,280,233,223,208,187,129,150,112,117,90,65,193,0,12,122,152,134,118,97,85,45,45,31,31,24,21,13,8,23,0,13,82,124,113,119,88,76,65,46,36,26,21,15,12,7,17,0,10,78,115,107,113,80,81,56,44,37,29,21,19,13,10,35,0,9,62,101,96,104,79,67,54,32,27,30,22,17,12,10,32,0,7,54,88,92,77,98,57,55,32,25,20,16,12,10,4,29,0,4,56,69,69,86,78,47,48,53,30,15,18,10,17,11,25,0,1,41,74,83,74,71,58,47,39,18,15,14,11,12,4,25,0,2,48,72,77,44,66,44,48,25,35,28,11,7,15,3,19,0,2,36,61,65,79,60,47,46,16,19,15,10,18,16,9,22,0,3,232,831,1095,1232,1113,1029,891,716,592,539,440,325,261,165,630]},{\"_typename\":\"TPaveText\",\"fUniqueID\":0,\"fBits\":50331657,\"fLineColor\":1,\"fLineStyle\":1,\"fLineWidth\":1,\"fFillColor\":0,\"fFillStyle\":0,\"fX1\":-0.690090753053615,\"fY1\":0.97031838997826,\"fX2\":0.690090753053615,\"fY2\":1.10674276668363,\"fX1NDC\":0.15,\"fY1NDC\":0.933983055615829,\"fX2NDC\":0.85,\"fY2NDC\":0.995000004768372,\"fBorderSize\":0,\"fInit\":1,\"fShadowColor\":1,\"fCornerRadius\":0,\"fOption\":\"blNDC\",\"fName\":\"title\",\"fTextAngle\":0,\"fTextSize\":0,\"fTextAlign\":22,\"fTextColor\":1,\"fTextFont\":42,\"fLabel\":\"\",\"fLongest\":45,\"fMargin\":0.05,\"fLines\":{\"_typename\":\"TList\",\"name\":\"TList\",\"arr\":[{\"_typename\":\"TLatex\",\"fUniqueID\":0,\"fBits\":50331648,\"fName\":\"\",\"fTitle\":\"max_proton_ke:nu_energy {ccnc==0 && n_lep>=0}\",\"fTextAngle\":0,\"fTextSize\":0,\"fTextAlign\":0,\"fTextColor\":0,\"fTextFont\":0,\"fX\":0,\"fY\":0,\"fLineColor\":1,\"fLineStyle\":1,\"fLineWidth\":2,\"fLimitFactorSize\":3,\"fOriginSize\":0.0518644079566002}],\"opt\":[\"\"]}}],\"opt\":[\"lego2\",\"blNDC\"]},\"fExecs\":null,\"fName\":\"c4\",\"fTitle\":\"MyCanvas\",\"fNumPaletteColor\":0,\"fNextPaletteColor\":0,\"fDISPLAY\":\"$DISPLAY\",\"fDoubleBuffer\":0,\"fRetained\":true,\"fXsizeUser\":0,\"fYsizeUser\":0,\"fXsizeReal\":20,\"fYsizeReal\":14.28571,\"fWindowTopX\":0,\"fWindowTopY\":0,\"fWindowWidth\":0,\"fWindowHeight\":0,\"fCw\":696,\"fCh\":472,\"fCatt\":{\"_typename\":\"TAttCanvas\",\"fXBetween\":2,\"fYBetween\":2,\"fTitleFromTop\":1.2,\"fXdate\":0.2,\"fYdate\":0.3,\"fAdate\":1},\"kMoveOpaque\":true,\"kResizeOpaque\":true,\"fHighLightColor\":2,\"fBatch\":true,\"kShowEventStatus\":false,\"kAutoExec\":true,\"kMenuBar\":true});\n",
       "       Core.draw(\"root_plot_5\", obj, \"\");\n",
       "     }\n",
       " );\n",
       "</script>\n"
      ],
      "text/plain": [
       "<IPython.core.display.HTML object>"
      ]
     },
     "metadata": {},
     "output_type": "display_data"
    }
   ],
   "source": [
    "hp_nue_pke = ROOT.TProfile(\"hp_nue_pke\",\";E_{#nu};p_{KE}\",NBINS,BINLOWEDGE,BINHIGHEDGE);\n",
    "hp_nue_pke.BuildOptions(0.0,1000,\"s\");\n",
    "ana.Project(\"hp_nue_pke\",\"max_proton_ke:nu_energy\",\"ccnc==0 && n_lep>=0\");\n",
    "c4 = ROOT.TCanvas(\"c4\",\"MyCanvas\")\n",
    "c4.cd()\n",
    "#hp_nue_pke.Draw();\n",
    "ana.Draw(\"max_proton_ke:nu_energy>>(15,0,3.0,10,0.0,0.1)\",\"ccnc==0 && n_lep>=0\",\"LEGO2\")\n",
    "c4.Draw()"
   ]
  },
  {
   "cell_type": "code",
   "execution_count": null,
   "metadata": {},
   "outputs": [],
   "source": []
  }
 ],
 "metadata": {
  "kernelspec": {
   "display_name": "Python 2",
   "language": "python",
   "name": "python2"
  },
  "language_info": {
   "codemirror_mode": {
    "name": "ipython",
    "version": 2
   },
   "file_extension": ".py",
   "mimetype": "text/x-python",
   "name": "python",
   "nbconvert_exporter": "python",
   "pygments_lexer": "ipython2",
   "version": "2.7.14"
  }
 },
 "nbformat": 4,
 "nbformat_minor": 2
}
