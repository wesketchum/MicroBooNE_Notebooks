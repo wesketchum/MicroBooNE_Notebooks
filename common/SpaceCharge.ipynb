{
 "cells": [
  {
   "cell_type": "code",
   "execution_count": 1,
   "metadata": {},
   "outputs": [
    {
     "name": "stdout",
     "output_type": "stream",
     "text": [
      "\u001b[?1034h"
     ]
    }
   ],
   "source": [
    "gROOT->ProcessLine(\".L $GSL_LIB/libgsl.so\");\n",
    "gROOT->ProcessLine(\".L $UBOONECODE_LIB/libuboone_SpaceCharge.so\");\n",
    "gROOT->ProcessLine(\".L Utils_SpaceCharge.h+O\");"
   ]
  },
  {
   "cell_type": "code",
   "execution_count": 2,
   "metadata": {},
   "outputs": [],
   "source": [
    "std::unique_ptr<spacecharge::SpaceChargeMicroBooNE> sce;\n",
    "CreateSCE(sce);"
   ]
  },
  {
   "cell_type": "code",
   "execution_count": 3,
   "metadata": {},
   "outputs": [],
   "source": [
    "geo::Point_t pt,pt_offset;\n",
    "geo::Vector_t diff_vec;"
   ]
  },
  {
   "cell_type": "code",
   "execution_count": 7,
   "metadata": {},
   "outputs": [
    {
     "name": "stdout",
     "output_type": "stream",
     "text": [
      "-1.35893 -8.99825 0.784353\n",
      "(200 100 100) --> (198.641 91.0018 100.784)\n"
     ]
    }
   ],
   "source": [
    "pt = {200.0,100.0,100.0};\n",
    "diff_vec = sce->GetPosOffsets(pt);\n",
    "pt_offset = pt+diff_vec;\n",
    "std::cout << diff_vec.X() << \" \" << diff_vec.Y() << \" \" << diff_vec.Z() << std::endl;\n",
    "std::cout << \"(\" << pt.X() << \" \" << pt.Y() << \" \" << pt.Z() << \") --> \"\n",
    "          << \"(\" << pt_offset.X() << \" \" << pt_offset.Y() << \" \" << pt_offset.Z() << \")\" << std::endl;"
   ]
  },
  {
   "cell_type": "code",
   "execution_count": null,
   "metadata": {},
   "outputs": [],
   "source": []
  }
 ],
 "metadata": {
  "kernelspec": {
   "display_name": "ROOT C++",
   "language": "c++",
   "name": "root"
  },
  "language_info": {
   "codemirror_mode": "text/x-c++src",
   "file_extension": ".C",
   "mimetype": " text/x-c++src",
   "name": "c++"
  }
 },
 "nbformat": 4,
 "nbformat_minor": 2
}
