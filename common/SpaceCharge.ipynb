{
 "cells": [
  {
   "cell_type": "code",
   "execution_count": 1,
   "metadata": {},
   "outputs": [
    {
     "name": "stdout",
     "output_type": "stream",
     "text": [
      "\u001b[?1034h"
     ]
    }
   ],
   "source": [
    "gROOT->ProcessLine(\".L $GSL_LIB/libgsl.so\");\n",
    "gROOT->ProcessLine(\".L $UBOONECODE_LIB/libuboone_SpaceCharge.so\");\n",
    "gROOT->ProcessLine(\".L Utils_SpaceCharge.h+O\");"
   ]
  },
  {
   "cell_type": "code",
   "execution_count": 2,
   "metadata": {},
   "outputs": [],
   "source": [
    "std::unique_ptr<spacecharge::SpaceChargeMicroBooNE> sce;\n",
    "CreateSCE(sce);"
   ]
  },
  {
   "cell_type": "code",
   "execution_count": 3,
   "metadata": {},
   "outputs": [
    {
     "name": "stdout",
     "output_type": "stream",
     "text": [
      "-0.15602 -0.12348 0.0522828\n",
      "(20 100 100) --> (19.844 99.8765 100.052)\n"
     ]
    }
   ],
   "source": [
    "geo::Point_t pt{20.0,100.0,100.0};\n",
    "geo::Vector_t diff_vec = sce->GetPosOffsets(pt);\n",
    "geo::Point_t pt_offset = pt+diff_vec;\n",
    "std::cout << diff_vec.X() << \" \" << diff_vec.Y() << \" \" << diff_vec.Z() << std::endl;\n",
    "std::cout << \"(\" << pt.X() << \" \" << pt.Y() << \" \" << pt.Z() << \") --> \"\n",
    "          << \"(\" << pt_offset.X() << \" \" << pt_offset.Y() << \" \" << pt_offset.Z() << \")\" << std::endl;"
   ]
  },
  {
   "cell_type": "code",
   "execution_count": null,
   "metadata": {},
   "outputs": [],
   "source": []
  }
 ],
 "metadata": {
  "kernelspec": {
   "display_name": "ROOT C++",
   "language": "c++",
   "name": "root"
  },
  "language_info": {
   "codemirror_mode": "text/x-c++src",
   "file_extension": ".C",
   "mimetype": " text/x-c++src",
   "name": "c++"
  }
 },
 "nbformat": 4,
 "nbformat_minor": 2
}
